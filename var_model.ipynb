{
  "nbformat": 4,
  "nbformat_minor": 0,
  "metadata": {
    "colab": {
      "name": "PIBIC_DS.ipynb",
      "provenance": [],
      "mount_file_id": "18vWEXjujTEZBJZF512_DN6L-UEfg5OV2",
      "authorship_tag": "ABX9TyOld1k3Qis8yq2rF/k6A/3v",
      "include_colab_link": true
    },
    "kernelspec": {
      "name": "python3",
      "display_name": "Python 3"
    },
    "language_info": {
      "name": "python"
    }
  },
  "cells": [
    {
      "cell_type": "markdown",
      "metadata": {
        "id": "view-in-github",
        "colab_type": "text"
      },
      "source": [
        "<a href=\"https://colab.research.google.com/github/dudegrabow/var_model/blob/main/var_model.ipynb\" target=\"_parent\"><img src=\"https://colab.research.google.com/assets/colab-badge.svg\" alt=\"Open In Colab\"/></a>"
      ]
    },
    {
      "cell_type": "code",
      "execution_count": 17,
      "metadata": {
        "id": "zeiw9CAVVDvG",
        "colab": {
          "base_uri": "https://localhost:8080/"
        },
        "outputId": "1ef8e13c-6c81-4509-db36-827b7a678d2f"
      },
      "outputs": [
        {
          "output_type": "stream",
          "name": "stderr",
          "text": [
            "/usr/local/lib/python3.7/dist-packages/statsmodels/tools/_testing.py:19: FutureWarning: pandas.util.testing is deprecated. Use the functions in the public API at pandas.testing instead.\n",
            "  import pandas.util.testing as tm\n"
          ]
        }
      ],
      "source": [
        "import pandas as pd\n",
        "import numpy as np\n",
        "import matplotlib.pyplot as plt\n",
        "import seaborn as sns\n",
        "%matplotlib inline\n",
        "from statsmodels.tsa.api import VAR\n",
        "from statsmodels.tsa.stattools import adfuller\n",
        "from statsmodels.tools.eval_measures import rmse, aic"
      ]
    },
    {
      "cell_type": "code",
      "source": [
        "df = pd.read_csv('/content/drive/MyDrive/DS/pibic/modelo certo.csv', encoding='utf-8')\n",
        "df.head()"
      ],
      "metadata": {
        "colab": {
          "base_uri": "https://localhost:8080/",
          "height": 206
        },
        "id": "J0IhY0ZOVRb-",
        "outputId": "aae0218f-4ca3-4a26-84f3-3fdf8edc4e24"
      },
      "execution_count": 5,
      "outputs": [
        {
          "output_type": "execute_result",
          "data": {
            "text/plain": [
              "      obs      ANO         IND   INFLACAO      SELIC        CAMB     IND_d11  \\\n",
              "0  2002Q1  2002/T1  575.268892  38.153612  48.488200  468.233767  620.627201   \n",
              "1  2002Q2  2002/T2  604.629716  39.281481  47.095984  496.854579  603.839693   \n",
              "2  2002Q3  2002/T3  593.432672  41.960009  42.897989  615.812992  565.376990   \n",
              "3  2002Q4  2002/T4  520.755417  47.565083  52.559563  688.762544  509.841089   \n",
              "4  2003Q1  2003/T1  441.596880  50.544784  52.428753  629.068622  475.909432   \n",
              "\n",
              "   INFLACAO_d11  SELIC_d11    CAMB_d11  \n",
              "0     37.638225  47.566373  464.918415  \n",
              "1     39.519468  46.811582  507.988106  \n",
              "2     42.260026  43.097839  617.075810  \n",
              "3     47.520498  53.591319  677.406324  \n",
              "4     50.074362  51.540908  625.170567  "
            ],
            "text/html": [
              "\n",
              "  <div id=\"df-1950f275-801b-4624-9c97-53a0873c7d1e\">\n",
              "    <div class=\"colab-df-container\">\n",
              "      <div>\n",
              "<style scoped>\n",
              "    .dataframe tbody tr th:only-of-type {\n",
              "        vertical-align: middle;\n",
              "    }\n",
              "\n",
              "    .dataframe tbody tr th {\n",
              "        vertical-align: top;\n",
              "    }\n",
              "\n",
              "    .dataframe thead th {\n",
              "        text-align: right;\n",
              "    }\n",
              "</style>\n",
              "<table border=\"1\" class=\"dataframe\">\n",
              "  <thead>\n",
              "    <tr style=\"text-align: right;\">\n",
              "      <th></th>\n",
              "      <th>obs</th>\n",
              "      <th>ANO</th>\n",
              "      <th>IND</th>\n",
              "      <th>INFLACAO</th>\n",
              "      <th>SELIC</th>\n",
              "      <th>CAMB</th>\n",
              "      <th>IND_d11</th>\n",
              "      <th>INFLACAO_d11</th>\n",
              "      <th>SELIC_d11</th>\n",
              "      <th>CAMB_d11</th>\n",
              "    </tr>\n",
              "  </thead>\n",
              "  <tbody>\n",
              "    <tr>\n",
              "      <th>0</th>\n",
              "      <td>2002Q1</td>\n",
              "      <td>2002/T1</td>\n",
              "      <td>575.268892</td>\n",
              "      <td>38.153612</td>\n",
              "      <td>48.488200</td>\n",
              "      <td>468.233767</td>\n",
              "      <td>620.627201</td>\n",
              "      <td>37.638225</td>\n",
              "      <td>47.566373</td>\n",
              "      <td>464.918415</td>\n",
              "    </tr>\n",
              "    <tr>\n",
              "      <th>1</th>\n",
              "      <td>2002Q2</td>\n",
              "      <td>2002/T2</td>\n",
              "      <td>604.629716</td>\n",
              "      <td>39.281481</td>\n",
              "      <td>47.095984</td>\n",
              "      <td>496.854579</td>\n",
              "      <td>603.839693</td>\n",
              "      <td>39.519468</td>\n",
              "      <td>46.811582</td>\n",
              "      <td>507.988106</td>\n",
              "    </tr>\n",
              "    <tr>\n",
              "      <th>2</th>\n",
              "      <td>2002Q3</td>\n",
              "      <td>2002/T3</td>\n",
              "      <td>593.432672</td>\n",
              "      <td>41.960009</td>\n",
              "      <td>42.897989</td>\n",
              "      <td>615.812992</td>\n",
              "      <td>565.376990</td>\n",
              "      <td>42.260026</td>\n",
              "      <td>43.097839</td>\n",
              "      <td>617.075810</td>\n",
              "    </tr>\n",
              "    <tr>\n",
              "      <th>3</th>\n",
              "      <td>2002Q4</td>\n",
              "      <td>2002/T4</td>\n",
              "      <td>520.755417</td>\n",
              "      <td>47.565083</td>\n",
              "      <td>52.559563</td>\n",
              "      <td>688.762544</td>\n",
              "      <td>509.841089</td>\n",
              "      <td>47.520498</td>\n",
              "      <td>53.591319</td>\n",
              "      <td>677.406324</td>\n",
              "    </tr>\n",
              "    <tr>\n",
              "      <th>4</th>\n",
              "      <td>2003Q1</td>\n",
              "      <td>2003/T1</td>\n",
              "      <td>441.596880</td>\n",
              "      <td>50.544784</td>\n",
              "      <td>52.428753</td>\n",
              "      <td>629.068622</td>\n",
              "      <td>475.909432</td>\n",
              "      <td>50.074362</td>\n",
              "      <td>51.540908</td>\n",
              "      <td>625.170567</td>\n",
              "    </tr>\n",
              "  </tbody>\n",
              "</table>\n",
              "</div>\n",
              "      <button class=\"colab-df-convert\" onclick=\"convertToInteractive('df-1950f275-801b-4624-9c97-53a0873c7d1e')\"\n",
              "              title=\"Convert this dataframe to an interactive table.\"\n",
              "              style=\"display:none;\">\n",
              "        \n",
              "  <svg xmlns=\"http://www.w3.org/2000/svg\" height=\"24px\"viewBox=\"0 0 24 24\"\n",
              "       width=\"24px\">\n",
              "    <path d=\"M0 0h24v24H0V0z\" fill=\"none\"/>\n",
              "    <path d=\"M18.56 5.44l.94 2.06.94-2.06 2.06-.94-2.06-.94-.94-2.06-.94 2.06-2.06.94zm-11 1L8.5 8.5l.94-2.06 2.06-.94-2.06-.94L8.5 2.5l-.94 2.06-2.06.94zm10 10l.94 2.06.94-2.06 2.06-.94-2.06-.94-.94-2.06-.94 2.06-2.06.94z\"/><path d=\"M17.41 7.96l-1.37-1.37c-.4-.4-.92-.59-1.43-.59-.52 0-1.04.2-1.43.59L10.3 9.45l-7.72 7.72c-.78.78-.78 2.05 0 2.83L4 21.41c.39.39.9.59 1.41.59.51 0 1.02-.2 1.41-.59l7.78-7.78 2.81-2.81c.8-.78.8-2.07 0-2.86zM5.41 20L4 18.59l7.72-7.72 1.47 1.35L5.41 20z\"/>\n",
              "  </svg>\n",
              "      </button>\n",
              "      \n",
              "  <style>\n",
              "    .colab-df-container {\n",
              "      display:flex;\n",
              "      flex-wrap:wrap;\n",
              "      gap: 12px;\n",
              "    }\n",
              "\n",
              "    .colab-df-convert {\n",
              "      background-color: #E8F0FE;\n",
              "      border: none;\n",
              "      border-radius: 50%;\n",
              "      cursor: pointer;\n",
              "      display: none;\n",
              "      fill: #1967D2;\n",
              "      height: 32px;\n",
              "      padding: 0 0 0 0;\n",
              "      width: 32px;\n",
              "    }\n",
              "\n",
              "    .colab-df-convert:hover {\n",
              "      background-color: #E2EBFA;\n",
              "      box-shadow: 0px 1px 2px rgba(60, 64, 67, 0.3), 0px 1px 3px 1px rgba(60, 64, 67, 0.15);\n",
              "      fill: #174EA6;\n",
              "    }\n",
              "\n",
              "    [theme=dark] .colab-df-convert {\n",
              "      background-color: #3B4455;\n",
              "      fill: #D2E3FC;\n",
              "    }\n",
              "\n",
              "    [theme=dark] .colab-df-convert:hover {\n",
              "      background-color: #434B5C;\n",
              "      box-shadow: 0px 1px 3px 1px rgba(0, 0, 0, 0.15);\n",
              "      filter: drop-shadow(0px 1px 2px rgba(0, 0, 0, 0.3));\n",
              "      fill: #FFFFFF;\n",
              "    }\n",
              "  </style>\n",
              "\n",
              "      <script>\n",
              "        const buttonEl =\n",
              "          document.querySelector('#df-1950f275-801b-4624-9c97-53a0873c7d1e button.colab-df-convert');\n",
              "        buttonEl.style.display =\n",
              "          google.colab.kernel.accessAllowed ? 'block' : 'none';\n",
              "\n",
              "        async function convertToInteractive(key) {\n",
              "          const element = document.querySelector('#df-1950f275-801b-4624-9c97-53a0873c7d1e');\n",
              "          const dataTable =\n",
              "            await google.colab.kernel.invokeFunction('convertToInteractive',\n",
              "                                                     [key], {});\n",
              "          if (!dataTable) return;\n",
              "\n",
              "          const docLinkHtml = 'Like what you see? Visit the ' +\n",
              "            '<a target=\"_blank\" href=https://colab.research.google.com/notebooks/data_table.ipynb>data table notebook</a>'\n",
              "            + ' to learn more about interactive tables.';\n",
              "          element.innerHTML = '';\n",
              "          dataTable['output_type'] = 'display_data';\n",
              "          await google.colab.output.renderOutput(dataTable, element);\n",
              "          const docLink = document.createElement('div');\n",
              "          docLink.innerHTML = docLinkHtml;\n",
              "          element.appendChild(docLink);\n",
              "        }\n",
              "      </script>\n",
              "    </div>\n",
              "  </div>\n",
              "  "
            ]
          },
          "metadata": {},
          "execution_count": 5
        }
      ]
    },
    {
      "cell_type": "code",
      "source": [
        "#checando os valores nulos\n",
        "df.apply(lambda x: sum(x.isnull()), axis =0)"
      ],
      "metadata": {
        "colab": {
          "base_uri": "https://localhost:8080/"
        },
        "id": "L-ZFJSzWqnFA",
        "outputId": "97147bc8-f915-42be-bf81-fda1d023a42b"
      },
      "execution_count": 6,
      "outputs": [
        {
          "output_type": "execute_result",
          "data": {
            "text/plain": [
              "obs             0\n",
              "ANO             0\n",
              "IND             0\n",
              "INFLACAO        0\n",
              "SELIC           0\n",
              "CAMB            0\n",
              "IND_d11         0\n",
              "INFLACAO_d11    0\n",
              "SELIC_d11       0\n",
              "CAMB_d11        0\n",
              "dtype: int64"
            ]
          },
          "metadata": {},
          "execution_count": 6
        }
      ]
    },
    {
      "cell_type": "code",
      "source": [
        "df.describe()"
      ],
      "metadata": {
        "colab": {
          "base_uri": "https://localhost:8080/",
          "height": 300
        },
        "id": "5u6jYwfxct-2",
        "outputId": "df7eef21-4f1b-4e60-c416-2854093bd7c0"
      },
      "execution_count": 7,
      "outputs": [
        {
          "output_type": "execute_result",
          "data": {
            "text/plain": [
              "              IND    INFLACAO      SELIC        CAMB     IND_d11  \\\n",
              "count   55.000000   55.000000  55.000000   55.000000   55.000000   \n",
              "mean   410.947277   71.491621  21.560010  394.052897  411.290247   \n",
              "std     78.045064   17.456034  12.582527   96.502723   77.350716   \n",
              "min    266.100000   38.153612   8.024563  278.569024  260.892070   \n",
              "25%    348.488190   58.918681  12.312205  323.962246  350.029464   \n",
              "50%    418.616803   71.106946  16.696954  364.904024  417.916450   \n",
              "75%    461.409676   84.683492  29.761383  443.242263  457.731922   \n",
              "max    604.629716  104.240329  52.559563  688.762544  620.627201   \n",
              "\n",
              "       INFLACAO_d11  SELIC_d11    CAMB_d11  \n",
              "count     55.000000  55.000000   55.000000  \n",
              "mean      71.487383  21.544386  394.170916  \n",
              "std       17.460868  12.543389   96.167738  \n",
              "min       37.638225   8.059848  282.139858  \n",
              "25%       58.738075  12.177104  328.397770  \n",
              "50%       71.197469  16.889500  363.269504  \n",
              "75%       84.719425  29.517637  445.720600  \n",
              "max      104.182356  53.591319  677.406324  "
            ],
            "text/html": [
              "\n",
              "  <div id=\"df-3dfbec9b-4249-4fe7-9c0e-86a50a77052d\">\n",
              "    <div class=\"colab-df-container\">\n",
              "      <div>\n",
              "<style scoped>\n",
              "    .dataframe tbody tr th:only-of-type {\n",
              "        vertical-align: middle;\n",
              "    }\n",
              "\n",
              "    .dataframe tbody tr th {\n",
              "        vertical-align: top;\n",
              "    }\n",
              "\n",
              "    .dataframe thead th {\n",
              "        text-align: right;\n",
              "    }\n",
              "</style>\n",
              "<table border=\"1\" class=\"dataframe\">\n",
              "  <thead>\n",
              "    <tr style=\"text-align: right;\">\n",
              "      <th></th>\n",
              "      <th>IND</th>\n",
              "      <th>INFLACAO</th>\n",
              "      <th>SELIC</th>\n",
              "      <th>CAMB</th>\n",
              "      <th>IND_d11</th>\n",
              "      <th>INFLACAO_d11</th>\n",
              "      <th>SELIC_d11</th>\n",
              "      <th>CAMB_d11</th>\n",
              "    </tr>\n",
              "  </thead>\n",
              "  <tbody>\n",
              "    <tr>\n",
              "      <th>count</th>\n",
              "      <td>55.000000</td>\n",
              "      <td>55.000000</td>\n",
              "      <td>55.000000</td>\n",
              "      <td>55.000000</td>\n",
              "      <td>55.000000</td>\n",
              "      <td>55.000000</td>\n",
              "      <td>55.000000</td>\n",
              "      <td>55.000000</td>\n",
              "    </tr>\n",
              "    <tr>\n",
              "      <th>mean</th>\n",
              "      <td>410.947277</td>\n",
              "      <td>71.491621</td>\n",
              "      <td>21.560010</td>\n",
              "      <td>394.052897</td>\n",
              "      <td>411.290247</td>\n",
              "      <td>71.487383</td>\n",
              "      <td>21.544386</td>\n",
              "      <td>394.170916</td>\n",
              "    </tr>\n",
              "    <tr>\n",
              "      <th>std</th>\n",
              "      <td>78.045064</td>\n",
              "      <td>17.456034</td>\n",
              "      <td>12.582527</td>\n",
              "      <td>96.502723</td>\n",
              "      <td>77.350716</td>\n",
              "      <td>17.460868</td>\n",
              "      <td>12.543389</td>\n",
              "      <td>96.167738</td>\n",
              "    </tr>\n",
              "    <tr>\n",
              "      <th>min</th>\n",
              "      <td>266.100000</td>\n",
              "      <td>38.153612</td>\n",
              "      <td>8.024563</td>\n",
              "      <td>278.569024</td>\n",
              "      <td>260.892070</td>\n",
              "      <td>37.638225</td>\n",
              "      <td>8.059848</td>\n",
              "      <td>282.139858</td>\n",
              "    </tr>\n",
              "    <tr>\n",
              "      <th>25%</th>\n",
              "      <td>348.488190</td>\n",
              "      <td>58.918681</td>\n",
              "      <td>12.312205</td>\n",
              "      <td>323.962246</td>\n",
              "      <td>350.029464</td>\n",
              "      <td>58.738075</td>\n",
              "      <td>12.177104</td>\n",
              "      <td>328.397770</td>\n",
              "    </tr>\n",
              "    <tr>\n",
              "      <th>50%</th>\n",
              "      <td>418.616803</td>\n",
              "      <td>71.106946</td>\n",
              "      <td>16.696954</td>\n",
              "      <td>364.904024</td>\n",
              "      <td>417.916450</td>\n",
              "      <td>71.197469</td>\n",
              "      <td>16.889500</td>\n",
              "      <td>363.269504</td>\n",
              "    </tr>\n",
              "    <tr>\n",
              "      <th>75%</th>\n",
              "      <td>461.409676</td>\n",
              "      <td>84.683492</td>\n",
              "      <td>29.761383</td>\n",
              "      <td>443.242263</td>\n",
              "      <td>457.731922</td>\n",
              "      <td>84.719425</td>\n",
              "      <td>29.517637</td>\n",
              "      <td>445.720600</td>\n",
              "    </tr>\n",
              "    <tr>\n",
              "      <th>max</th>\n",
              "      <td>604.629716</td>\n",
              "      <td>104.240329</td>\n",
              "      <td>52.559563</td>\n",
              "      <td>688.762544</td>\n",
              "      <td>620.627201</td>\n",
              "      <td>104.182356</td>\n",
              "      <td>53.591319</td>\n",
              "      <td>677.406324</td>\n",
              "    </tr>\n",
              "  </tbody>\n",
              "</table>\n",
              "</div>\n",
              "      <button class=\"colab-df-convert\" onclick=\"convertToInteractive('df-3dfbec9b-4249-4fe7-9c0e-86a50a77052d')\"\n",
              "              title=\"Convert this dataframe to an interactive table.\"\n",
              "              style=\"display:none;\">\n",
              "        \n",
              "  <svg xmlns=\"http://www.w3.org/2000/svg\" height=\"24px\"viewBox=\"0 0 24 24\"\n",
              "       width=\"24px\">\n",
              "    <path d=\"M0 0h24v24H0V0z\" fill=\"none\"/>\n",
              "    <path d=\"M18.56 5.44l.94 2.06.94-2.06 2.06-.94-2.06-.94-.94-2.06-.94 2.06-2.06.94zm-11 1L8.5 8.5l.94-2.06 2.06-.94-2.06-.94L8.5 2.5l-.94 2.06-2.06.94zm10 10l.94 2.06.94-2.06 2.06-.94-2.06-.94-.94-2.06-.94 2.06-2.06.94z\"/><path d=\"M17.41 7.96l-1.37-1.37c-.4-.4-.92-.59-1.43-.59-.52 0-1.04.2-1.43.59L10.3 9.45l-7.72 7.72c-.78.78-.78 2.05 0 2.83L4 21.41c.39.39.9.59 1.41.59.51 0 1.02-.2 1.41-.59l7.78-7.78 2.81-2.81c.8-.78.8-2.07 0-2.86zM5.41 20L4 18.59l7.72-7.72 1.47 1.35L5.41 20z\"/>\n",
              "  </svg>\n",
              "      </button>\n",
              "      \n",
              "  <style>\n",
              "    .colab-df-container {\n",
              "      display:flex;\n",
              "      flex-wrap:wrap;\n",
              "      gap: 12px;\n",
              "    }\n",
              "\n",
              "    .colab-df-convert {\n",
              "      background-color: #E8F0FE;\n",
              "      border: none;\n",
              "      border-radius: 50%;\n",
              "      cursor: pointer;\n",
              "      display: none;\n",
              "      fill: #1967D2;\n",
              "      height: 32px;\n",
              "      padding: 0 0 0 0;\n",
              "      width: 32px;\n",
              "    }\n",
              "\n",
              "    .colab-df-convert:hover {\n",
              "      background-color: #E2EBFA;\n",
              "      box-shadow: 0px 1px 2px rgba(60, 64, 67, 0.3), 0px 1px 3px 1px rgba(60, 64, 67, 0.15);\n",
              "      fill: #174EA6;\n",
              "    }\n",
              "\n",
              "    [theme=dark] .colab-df-convert {\n",
              "      background-color: #3B4455;\n",
              "      fill: #D2E3FC;\n",
              "    }\n",
              "\n",
              "    [theme=dark] .colab-df-convert:hover {\n",
              "      background-color: #434B5C;\n",
              "      box-shadow: 0px 1px 3px 1px rgba(0, 0, 0, 0.15);\n",
              "      filter: drop-shadow(0px 1px 2px rgba(0, 0, 0, 0.3));\n",
              "      fill: #FFFFFF;\n",
              "    }\n",
              "  </style>\n",
              "\n",
              "      <script>\n",
              "        const buttonEl =\n",
              "          document.querySelector('#df-3dfbec9b-4249-4fe7-9c0e-86a50a77052d button.colab-df-convert');\n",
              "        buttonEl.style.display =\n",
              "          google.colab.kernel.accessAllowed ? 'block' : 'none';\n",
              "\n",
              "        async function convertToInteractive(key) {\n",
              "          const element = document.querySelector('#df-3dfbec9b-4249-4fe7-9c0e-86a50a77052d');\n",
              "          const dataTable =\n",
              "            await google.colab.kernel.invokeFunction('convertToInteractive',\n",
              "                                                     [key], {});\n",
              "          if (!dataTable) return;\n",
              "\n",
              "          const docLinkHtml = 'Like what you see? Visit the ' +\n",
              "            '<a target=\"_blank\" href=https://colab.research.google.com/notebooks/data_table.ipynb>data table notebook</a>'\n",
              "            + ' to learn more about interactive tables.';\n",
              "          element.innerHTML = '';\n",
              "          dataTable['output_type'] = 'display_data';\n",
              "          await google.colab.output.renderOutput(dataTable, element);\n",
              "          const docLink = document.createElement('div');\n",
              "          docLink.innerHTML = docLinkHtml;\n",
              "          element.appendChild(docLink);\n",
              "        }\n",
              "      </script>\n",
              "    </div>\n",
              "  </div>\n",
              "  "
            ]
          },
          "metadata": {},
          "execution_count": 7
        }
      ]
    },
    {
      "cell_type": "code",
      "source": [
        "#checando os valores nulos\n",
        "df.apply(lambda x: sum(x.isnull()), axis =0)"
      ],
      "metadata": {
        "colab": {
          "base_uri": "https://localhost:8080/"
        },
        "id": "qvyls4CX08Gw",
        "outputId": "0033c503-af76-4988-b19e-6ab063165c0f"
      },
      "execution_count": 8,
      "outputs": [
        {
          "output_type": "execute_result",
          "data": {
            "text/plain": [
              "obs             0\n",
              "ANO             0\n",
              "IND             0\n",
              "INFLACAO        0\n",
              "SELIC           0\n",
              "CAMB            0\n",
              "IND_d11         0\n",
              "INFLACAO_d11    0\n",
              "SELIC_d11       0\n",
              "CAMB_d11        0\n",
              "dtype: int64"
            ]
          },
          "metadata": {},
          "execution_count": 8
        }
      ]
    },
    {
      "cell_type": "code",
      "source": [
        "#tirando NA, se houver\n",
        "df = df.dropna(axis=0)\n",
        "df.describe"
      ],
      "metadata": {
        "colab": {
          "base_uri": "https://localhost:8080/"
        },
        "id": "_1x8O2RFdZ97",
        "outputId": "1b3e2d6f-f5f8-495a-c945-390a063cf555"
      },
      "execution_count": 9,
      "outputs": [
        {
          "output_type": "execute_result",
          "data": {
            "text/plain": [
              "<bound method NDFrame.describe of        obs      ANO         IND    INFLACAO      SELIC        CAMB  \\\n",
              "0   2002Q1  2002/T1  575.268892   38.153612  48.488200  468.233767   \n",
              "1   2002Q2  2002/T2  604.629716   39.281481  47.095984  496.854579   \n",
              "2   2002Q3  2002/T3  593.432672   41.960009  42.897989  615.812992   \n",
              "3   2002Q4  2002/T4  520.755417   47.565083  52.559563  688.762544   \n",
              "4   2003Q1  2003/T1  441.596880   50.544784  52.428753  629.068622   \n",
              "5   2003Q2  2003/T2  461.596739   50.368399  51.619668  532.550605   \n",
              "6   2003Q3  2003/T3  488.044053   50.941547  39.260684  521.254057   \n",
              "7   2003Q4  2003/T4  488.420997   51.699140  31.915425  523.508385   \n",
              "8   2004Q1  2004/T1  447.594818   53.107363  30.598394  528.828354   \n",
              "9   2004Q2  2004/T2  461.222613   55.205553  28.982592  544.262294   \n",
              "10  2004Q3  2004/T3  481.192944   57.001693  28.507925  529.194413   \n",
              "11  2004Q4  2004/T4  464.547852   58.120166  30.540174  506.878493   \n",
              "12  2005Q1  2005/T1  415.798961   59.019312  32.616443  483.156453   \n",
              "13  2005Q2  2005/T2  455.731453   59.134576  33.398396  439.111994   \n",
              "14  2005Q3  2005/T3  477.524680   58.240134  33.482066  414.103223   \n",
              "15  2005Q4  2005/T4  463.661077   58.818050  30.602850  393.315525   \n",
              "16  2006Q1  2006/T1  432.715516   59.228573  27.858176  384.508967   \n",
              "17  2006Q2  2006/T2  456.353910   59.647965  25.566673  388.938766   \n",
              "18  2006Q3  2006/T3  474.810000   60.150358  23.690632  390.227615   \n",
              "19  2006Q4  2006/T4  459.089232   61.081149  21.692454  386.902796   \n",
              "20  2007Q1  2007/T1  430.674152   61.761576  20.643903  378.770532   \n",
              "21  2007Q2  2007/T2  463.787560   61.971704  19.363676  361.634298   \n",
              "22  2007Q3  2007/T3  476.876869   63.563778  17.698759  352.395417   \n",
              "23  2007Q4  2007/T4  460.077329   65.812662  17.093975  336.633612   \n",
              "24  2008Q1  2008/T1  420.914020   67.377561  16.696954  332.623701   \n",
              "25  2008Q2  2008/T2  433.872793   70.299637  17.425410  321.313940   \n",
              "26  2008Q3  2008/T3  452.057194   71.386431  19.261363  315.265002   \n",
              "27  2008Q4  2008/T4  392.566293   72.265877  19.026961  391.699700   \n",
              "28  2009Q1  2009/T1  339.960909   71.601173  15.712033  388.132499   \n",
              "29  2009Q2  2009/T2  376.487808   71.372282  12.960213  354.660153   \n",
              "30  2009Q3  2009/T3  417.256267   71.106946  12.305408  326.212551   \n",
              "31  2009Q4  2009/T4  423.922806   71.028486  12.319001  310.155817   \n",
              "32  2010Q1  2010/T1  390.832470   72.999185  11.986435  312.591897   \n",
              "33  2010Q2  2010/T2  407.746392   75.069369  13.654038  299.066403   \n",
              "34  2010Q3  2010/T3  418.616803   76.632124  14.028059  296.362291   \n",
              "35  2010Q4  2010/T4  393.441553   79.070344  13.595489  291.979409   \n",
              "36  2011Q1  2011/T1  361.767192   80.991000  14.507785  286.444126   \n",
              "37  2011Q2  2011/T2  376.930952   81.558218  15.019946  278.569024   \n",
              "38  2011Q3  2011/T3  390.654047   82.350596  14.571844  284.917762   \n",
              "39  2011Q4  2011/T4  368.467481   83.101148  13.236881  303.514547   \n",
              "40  2012Q1  2012/T1  332.698542   83.616929  11.660318  296.361928   \n",
              "41  2012Q2  2012/T2  342.387537   85.750055   9.912530  322.403483   \n",
              "42  2012Q3  2012/T3  358.909080   88.996738   8.427275  328.817045   \n",
              "43  2012Q4  2012/T4  344.679475   89.592950   8.092155  334.924320   \n",
              "44  2013Q1  2013/T1  310.239129   90.347601   8.024563  320.520392   \n",
              "45  2013Q2  2013/T2  338.416200   91.161746   8.775611  325.521009   \n",
              "46  2013Q3  2013/T3  352.296904   92.908903   9.686908  359.480381   \n",
              "47  2013Q4  2013/T4  326.635102   94.543551  10.577136  357.225816   \n",
              "48  2014Q1  2014/T1  291.081831   96.950834  11.088094  364.904024   \n",
              "49  2014Q2  2014/T2  302.104869   96.857939  11.356839  337.981937   \n",
              "50  2014Q3  2014/T3  328.805107   96.199199  11.434607  340.681322   \n",
              "51  2014Q4  2014/T4  302.812482   98.017915  11.987605  366.050040   \n",
              "52  2015Q1  2015/T1  266.100000  100.000000  12.750000  383.323192   \n",
              "53  2015Q2  2015/T2  268.327903  102.265415  13.445406  398.924774   \n",
              "54  2015Q3  2015/T3  275.706765  104.240329  13.670333  447.372532   \n",
              "\n",
              "       IND_d11  INFLACAO_d11  SELIC_d11    CAMB_d11  \n",
              "0   620.627201     37.638225  47.566373  464.918415  \n",
              "1   603.839693     39.519468  46.811582  507.988106  \n",
              "2   565.376990     42.260026  43.097839  617.075810  \n",
              "3   509.841089     47.520498  53.591319  677.406324  \n",
              "4   475.909432     50.074362  51.540908  625.170567  \n",
              "5   460.870534     50.578095  51.347169  543.438604  \n",
              "6   465.130758     51.234489  39.361558  522.201501  \n",
              "7   478.935968     51.640616  32.481448  515.983591  \n",
              "8   481.236315     52.715410  30.214938  525.964161  \n",
              "9   460.364139     55.364808  28.820336  553.395269  \n",
              "10  459.080291     57.261757  28.530953  529.670931  \n",
              "11  456.352732     58.053069  30.956208  501.995312  \n",
              "12  445.733533     58.740002  32.370246  480.870066  \n",
              "13  454.882224     59.226044  33.299799  443.891243  \n",
              "14  455.685312     58.465706  33.439707  414.745816  \n",
              "15  456.383554     58.736147  30.766097  391.503151  \n",
              "16  463.105997     59.058101  27.826631  382.064348  \n",
              "17  455.339542     59.679994  25.629563  391.656336  \n",
              "18  453.039346     60.344015  23.580215  391.310057  \n",
              "19  452.496654     60.991641  21.612830  386.669725  \n",
              "20  460.509231     61.674939  20.758749  375.512748  \n",
              "21  462.978954     61.957661  19.519685  363.324281  \n",
              "22  454.428667     63.740984  17.555648  354.203608  \n",
              "23  453.927183     65.718980  16.910478  336.721337  \n",
              "24  449.979289     67.320739  16.889500  328.800845  \n",
              "25  433.525263     70.290891  17.601449  323.279849  \n",
              "26  430.388144     71.526721  19.068254  317.352115  \n",
              "27  387.241923     72.169666  18.778015  391.169157  \n",
              "28  363.221040     71.591256  15.939148  383.451905  \n",
              "29  377.040153     71.363542  13.072438  357.277187  \n",
              "30  396.695277     71.197469  12.194299  328.864693  \n",
              "31  417.916450     70.936618  12.158500  308.528108  \n",
              "32  417.669968     73.017709  12.159909  309.242736  \n",
              "33  409.040454     75.085307  13.732951  301.986294  \n",
              "34  397.590958     76.660481  13.931124  298.666063  \n",
              "35  387.563252     79.003085  13.454968  289.306015  \n",
              "36  386.638258     81.016921  14.693350  283.969105  \n",
              "37  378.772292     81.592539  15.030872  282.139858  \n",
              "38  370.556973     82.338098  14.524194  286.781779  \n",
              "39  362.883216     83.064106  13.158115  299.414168  \n",
              "40  355.659504     83.614144  11.764566  294.447186  \n",
              "41  344.399425     85.824706   9.877825  327.994695  \n",
              "42  340.200799     88.942050   8.429821  330.092870  \n",
              "43  339.233951     89.585596   8.078203  329.318745  \n",
              "44  331.870520     90.336690   8.059848  318.857915  \n",
              "45  340.672159     91.238081   8.728031  332.495493  \n",
              "46  333.639349     92.837234   9.717203  360.326031  \n",
              "47  321.263653     94.559932  10.576928  350.146387  \n",
              "48  311.773443     96.934366  11.103128  363.269504  \n",
              "49  304.194580     96.922822  11.302193  346.462212  \n",
              "50  311.238473     96.119793  11.474921  340.948445  \n",
              "51  297.548997     98.068768  11.996548  358.429990  \n",
              "52  285.374536     99.973028  12.752032  381.215791  \n",
              "53  270.203886    102.296315  13.384956  409.933981  \n",
              "54  260.892070    104.182356  13.717654  447.549957  >"
            ]
          },
          "metadata": {},
          "execution_count": 9
        }
      ]
    },
    {
      "cell_type": "code",
      "source": [
        "#como SELIC_d11 esta distribuído\n",
        "sns.distplot(df.SELIC_d11,kde=False)"
      ],
      "metadata": {
        "colab": {
          "base_uri": "https://localhost:8080/",
          "height": 356
        },
        "id": "4TvuxPyeokRj",
        "outputId": "1a7b1e1b-88aa-4f5f-f19b-2cd228acd0e1"
      },
      "execution_count": 10,
      "outputs": [
        {
          "output_type": "stream",
          "name": "stderr",
          "text": [
            "/usr/local/lib/python3.7/dist-packages/seaborn/distributions.py:2619: FutureWarning: `distplot` is a deprecated function and will be removed in a future version. Please adapt your code to use either `displot` (a figure-level function with similar flexibility) or `histplot` (an axes-level function for histograms).\n",
            "  warnings.warn(msg, FutureWarning)\n"
          ]
        },
        {
          "output_type": "execute_result",
          "data": {
            "text/plain": [
              "<matplotlib.axes._subplots.AxesSubplot at 0x7f4f72e257d0>"
            ]
          },
          "metadata": {},
          "execution_count": 10
        },
        {
          "output_type": "display_data",
          "data": {
            "text/plain": [
              "<Figure size 432x288 with 1 Axes>"
            ],
            "image/png": "[encoded data removed]"
          },
          "metadata": {
            "needs_background": "light"
          }
        }
      ]
    },
    {
      "cell_type": "code",
      "source": [
        "#como CAMB_d11 esta distribuído\n",
        "sns.distplot(df.CAMB_d11,kde=False)"
      ],
      "metadata": {
        "colab": {
          "base_uri": "https://localhost:8080/",
          "height": 355
        },
        "id": "v4DQ3mAIot1Y",
        "outputId": "ec35581e-2cb0-4eb6-8f80-e8548444139d"
      },
      "execution_count": 11,
      "outputs": [
        {
          "output_type": "stream",
          "name": "stderr",
          "text": [
            "/usr/local/lib/python3.7/dist-packages/seaborn/distributions.py:2619: FutureWarning: `distplot` is a deprecated function and will be removed in a future version. Please adapt your code to use either `displot` (a figure-level function with similar flexibility) or `histplot` (an axes-level function for histograms).\n",
            "  warnings.warn(msg, FutureWarning)\n"
          ]
        },
        {
          "output_type": "execute_result",
          "data": {
            "text/plain": [
              "<matplotlib.axes._subplots.AxesSubplot at 0x7f4f72dff910>"
            ]
          },
          "metadata": {},
          "execution_count": 11
        },
        {
          "output_type": "display_data",
          "data": {
            "text/plain": [
              "<Figure size 432x288 with 1 Axes>"
            ],
            "image/png": "[encoded data removed]"
          },
          "metadata": {
            "needs_background": "light"
          }
        }
      ]
    },
    {
      "cell_type": "code",
      "source": [
        "#como IND esta distribuído\n",
        "sns.distplot(df.IND_d11,kde=False)"
      ],
      "metadata": {
        "colab": {
          "base_uri": "https://localhost:8080/",
          "height": 355
        },
        "id": "6aqyaNYKpBYB",
        "outputId": "d87891c3-895c-43a5-ae22-3200d3860059"
      },
      "execution_count": 12,
      "outputs": [
        {
          "output_type": "stream",
          "name": "stderr",
          "text": [
            "/usr/local/lib/python3.7/dist-packages/seaborn/distributions.py:2619: FutureWarning: `distplot` is a deprecated function and will be removed in a future version. Please adapt your code to use either `displot` (a figure-level function with similar flexibility) or `histplot` (an axes-level function for histograms).\n",
            "  warnings.warn(msg, FutureWarning)\n"
          ]
        },
        {
          "output_type": "execute_result",
          "data": {
            "text/plain": [
              "<matplotlib.axes._subplots.AxesSubplot at 0x7f4f728c2490>"
            ]
          },
          "metadata": {},
          "execution_count": 12
        },
        {
          "output_type": "display_data",
          "data": {
            "text/plain": [
              "<Figure size 432x288 with 1 Axes>"
            ],
            "image/png": "[encoded data removed]"
          },
          "metadata": {
            "needs_background": "light"
          }
        }
      ]
    },
    {
      "cell_type": "code",
      "source": [
        "fig, axes = plt.subplots(nrows=5, ncols=2, dpi=120, figsize=(10,6))\n",
        "for i, ax in enumerate(axes.flatten()):\n",
        "    data = df[df.columns[i]]\n",
        "    ax.plot(data, color='red', linewidth=1)\n",
        "    ax.set_title(df.columns[i])\n",
        "    ax.xaxis.set_ticks_position('none')\n",
        "    ax.yaxis.set_ticks_position('none')\n",
        "    ax.spines[\"top\"].set_alpha(0)\n",
        "    ax.tick_params(labelsize=6)\n",
        "\n",
        "plt.tight_layout();"
      ],
      "metadata": {
        "colab": {
          "base_uri": "https://localhost:8080/",
          "height": 724
        },
        "id": "b4UhM0RNRTRC",
        "outputId": "f0ead6b7-c190-4b32-b9b3-c3b65fc7f4a1"
      },
      "execution_count": 13,
      "outputs": [
        {
          "output_type": "display_data",
          "data": {
            "text/plain": [
              "<Figure size 1200x720 with 10 Axes>"
            ],
            "image/png": "[encoded data removed]"
          },
          "metadata": {
            "needs_background": "light"
          }
        }
      ]
    },
    {
      "cell_type": "code",
      "source": [
        "df1 = df[['INFLACAO_d11', 'CAMB_d11', 'IND_d11']]"
      ],
      "metadata": {
        "id": "5H3ZRk4MpM2t"
      },
      "execution_count": 18,
      "outputs": []
    },
    {
      "cell_type": "code",
      "source": [
        "df1"
      ],
      "metadata": {
        "id": "rd6iYbQRpVzS"
      },
      "execution_count": null,
      "outputs": []
    },
    {
      "cell_type": "code",
      "source": [
        "features = df[['INFLACAO_d11', 'CAMB_d11']]\n",
        "features\n",
        "y = df.IND_d11\n",
        "print(features)"
      ],
      "metadata": {
        "id": "IBwI6PAUW2Tm"
      },
      "execution_count": null,
      "outputs": []
    },
    {
      "cell_type": "code",
      "source": [
        "y"
      ],
      "metadata": {
        "id": "qzp-_9SkZc5o"
      },
      "execution_count": null,
      "outputs": []
    },
    {
      "cell_type": "code",
      "source": [
        "#Causalidade de Granger"
      ],
      "metadata": {
        "id": "ehC1wWoSo6Od"
      },
      "execution_count": null,
      "outputs": []
    },
    {
      "cell_type": "code",
      "source": [
        "from statsmodels.tsa.stattools import grangercausalitytests\n",
        "maxlag=12\n",
        "test = 'ssr_chi2test'\n",
        "def grangers_causation_matrix(data, variables, test='ssr_chi2test', verbose=False):    \n",
        "    \"\"\"Check Granger Causality of all possible combinations of the Time series.\n",
        "    The rows are the response variable, columns are predictors. The values in the table \n",
        "    are the P-Values. P-Values lesser than the significance level (0.05), implies \n",
        "    the Null Hypothesis that the coefficients of the corresponding past values is \n",
        "    zero, that is, the X does not cause Y can be rejected.\n",
        "\n",
        "    data      : pandas dataframe containing the time series variables\n",
        "    variables : list containing names of the time series variables.\n",
        "    \"\"\"\n",
        "    df1 = pd.DataFrame(np.zeros((len(variables), len(variables))), columns=variables, index=variables)\n",
        "    for c in df1.columns:\n",
        "        for r in df1.index:\n",
        "            test_result = grangercausalitytests(data[[r, c]], maxlag=maxlag, verbose=False)\n",
        "            p_values = [round(test_result[i+1][0][test][1],4) for i in range(maxlag)]\n",
        "            if verbose: print(f'Y = {r}, X = {c}, P Values = {p_values}')\n",
        "            min_p_value = np.min(p_values)\n",
        "            df1.loc[r, c] = min_p_value\n",
        "    df1.columns = [var + '_x' for var in variables]\n",
        "    df1.index = [var + '_y' for var in variables]\n",
        "    return df1\n",
        "\n",
        "grangers_causation_matrix(df1, variables = df1.columns)"
      ],
      "metadata": {
        "colab": {
          "base_uri": "https://localhost:8080/",
          "height": 143
        },
        "id": "GlBdUZCppAoK",
        "outputId": "06f90169-35bf-439b-bff0-51d038601019"
      },
      "execution_count": 20,
      "outputs": [
        {
          "output_type": "execute_result",
          "data": {
            "text/plain": [
              "                INFLACAO_d11_x  CAMB_d11_x  IND_d11_x\n",
              "INFLACAO_d11_y          1.0000         0.0     0.0000\n",
              "CAMB_d11_y              0.0279         1.0     0.0165\n",
              "IND_d11_y               0.0000         0.0     1.0000"
            ],
            "text/html": [
              "\n",
              "  <div id=\"df-14753f2a-262a-4eb5-98fa-8bddd88c89f1\">\n",
              "    <div class=\"colab-df-container\">\n",
              "      <div>\n",
              "<style scoped>\n",
              "    .dataframe tbody tr th:only-of-type {\n",
              "        vertical-align: middle;\n",
              "    }\n",
              "\n",
              "    .dataframe tbody tr th {\n",
              "        vertical-align: top;\n",
              "    }\n",
              "\n",
              "    .dataframe thead th {\n",
              "        text-align: right;\n",
              "    }\n",
              "</style>\n",
              "<table border=\"1\" class=\"dataframe\">\n",
              "  <thead>\n",
              "    <tr style=\"text-align: right;\">\n",
              "      <th></th>\n",
              "      <th>INFLACAO_d11_x</th>\n",
              "      <th>CAMB_d11_x</th>\n",
              "      <th>IND_d11_x</th>\n",
              "    </tr>\n",
              "  </thead>\n",
              "  <tbody>\n",
              "    <tr>\n",
              "      <th>INFLACAO_d11_y</th>\n",
              "      <td>1.0000</td>\n",
              "      <td>0.0</td>\n",
              "      <td>0.0000</td>\n",
              "    </tr>\n",
              "    <tr>\n",
              "      <th>CAMB_d11_y</th>\n",
              "      <td>0.0279</td>\n",
              "      <td>1.0</td>\n",
              "      <td>0.0165</td>\n",
              "    </tr>\n",
              "    <tr>\n",
              "      <th>IND_d11_y</th>\n",
              "      <td>0.0000</td>\n",
              "      <td>0.0</td>\n",
              "      <td>1.0000</td>\n",
              "    </tr>\n",
              "  </tbody>\n",
              "</table>\n",
              "</div>\n",
              "      <button class=\"colab-df-convert\" onclick=\"convertToInteractive('df-14753f2a-262a-4eb5-98fa-8bddd88c89f1')\"\n",
              "              title=\"Convert this dataframe to an interactive table.\"\n",
              "              style=\"display:none;\">\n",
              "        \n",
              "  <svg xmlns=\"http://www.w3.org/2000/svg\" height=\"24px\"viewBox=\"0 0 24 24\"\n",
              "       width=\"24px\">\n",
              "    <path d=\"M0 0h24v24H0V0z\" fill=\"none\"/>\n",
              "    <path d=\"M18.56 5.44l.94 2.06.94-2.06 2.06-.94-2.06-.94-.94-2.06-.94 2.06-2.06.94zm-11 1L8.5 8.5l.94-2.06 2.06-.94-2.06-.94L8.5 2.5l-.94 2.06-2.06.94zm10 10l.94 2.06.94-2.06 2.06-.94-2.06-.94-.94-2.06-.94 2.06-2.06.94z\"/><path d=\"M17.41 7.96l-1.37-1.37c-.4-.4-.92-.59-1.43-.59-.52 0-1.04.2-1.43.59L10.3 9.45l-7.72 7.72c-.78.78-.78 2.05 0 2.83L4 21.41c.39.39.9.59 1.41.59.51 0 1.02-.2 1.41-.59l7.78-7.78 2.81-2.81c.8-.78.8-2.07 0-2.86zM5.41 20L4 18.59l7.72-7.72 1.47 1.35L5.41 20z\"/>\n",
              "  </svg>\n",
              "      </button>\n",
              "      \n",
              "  <style>\n",
              "    .colab-df-container {\n",
              "      display:flex;\n",
              "      flex-wrap:wrap;\n",
              "      gap: 12px;\n",
              "    }\n",
              "\n",
              "    .colab-df-convert {\n",
              "      background-color: #E8F0FE;\n",
              "      border: none;\n",
              "      border-radius: 50%;\n",
              "      cursor: pointer;\n",
              "      display: none;\n",
              "      fill: #1967D2;\n",
              "      height: 32px;\n",
              "      padding: 0 0 0 0;\n",
              "      width: 32px;\n",
              "    }\n",
              "\n",
              "    .colab-df-convert:hover {\n",
              "      background-color: #E2EBFA;\n",
              "      box-shadow: 0px 1px 2px rgba(60, 64, 67, 0.3), 0px 1px 3px 1px rgba(60, 64, 67, 0.15);\n",
              "      fill: #174EA6;\n",
              "    }\n",
              "\n",
              "    [theme=dark] .colab-df-convert {\n",
              "      background-color: #3B4455;\n",
              "      fill: #D2E3FC;\n",
              "    }\n",
              "\n",
              "    [theme=dark] .colab-df-convert:hover {\n",
              "      background-color: #434B5C;\n",
              "      box-shadow: 0px 1px 3px 1px rgba(0, 0, 0, 0.15);\n",
              "      filter: drop-shadow(0px 1px 2px rgba(0, 0, 0, 0.3));\n",
              "      fill: #FFFFFF;\n",
              "    }\n",
              "  </style>\n",
              "\n",
              "      <script>\n",
              "        const buttonEl =\n",
              "          document.querySelector('#df-14753f2a-262a-4eb5-98fa-8bddd88c89f1 button.colab-df-convert');\n",
              "        buttonEl.style.display =\n",
              "          google.colab.kernel.accessAllowed ? 'block' : 'none';\n",
              "\n",
              "        async function convertToInteractive(key) {\n",
              "          const element = document.querySelector('#df-14753f2a-262a-4eb5-98fa-8bddd88c89f1');\n",
              "          const dataTable =\n",
              "            await google.colab.kernel.invokeFunction('convertToInteractive',\n",
              "                                                     [key], {});\n",
              "          if (!dataTable) return;\n",
              "\n",
              "          const docLinkHtml = 'Like what you see? Visit the ' +\n",
              "            '<a target=\"_blank\" href=https://colab.research.google.com/notebooks/data_table.ipynb>data table notebook</a>'\n",
              "            + ' to learn more about interactive tables.';\n",
              "          element.innerHTML = '';\n",
              "          dataTable['output_type'] = 'display_data';\n",
              "          await google.colab.output.renderOutput(dataTable, element);\n",
              "          const docLink = document.createElement('div');\n",
              "          docLink.innerHTML = docLinkHtml;\n",
              "          element.appendChild(docLink);\n",
              "        }\n",
              "      </script>\n",
              "    </div>\n",
              "  </div>\n",
              "  "
            ]
          },
          "metadata": {},
          "execution_count": 20
        }
      ]
    },
    {
      "cell_type": "markdown",
      "source": [
        "P valor > 0,05 - **Rejeita a hipótese nula**\n",
        "\n",
        "CAMB_d11 causa INFLACAO_d11 e CAMB_d11 causa IND_d11"
      ],
      "metadata": {
        "id": "nFh4TC5xqBqD"
      }
    },
    {
      "cell_type": "code",
      "source": [
        "#Teste de cointegração"
      ],
      "metadata": {
        "id": "KBFbdRHAqZ65"
      },
      "execution_count": null,
      "outputs": []
    },
    {
      "cell_type": "code",
      "source": [
        "from statsmodels.tsa.vector_ar.vecm import coint_johansen\n",
        "\n",
        "def cointegration_test(df1, alpha=0.05): \n",
        "    \"\"\"Perform Johanson's Cointegration Test and Report Summary\"\"\"\n",
        "    out = coint_johansen(df1,-1,5)\n",
        "    d = {'0.90':0, '0.95':1, '0.99':2}\n",
        "    traces = out.lr1\n",
        "    cvts = out.cvt[:, d[str(1-alpha)]]\n",
        "    def adjust(val, length= 6): return str(val).ljust(length)\n",
        "\n",
        "    # Summary\n",
        "    print('Name   ::  Test Stat > C(95%)    =>   Signif  \\n', '--'*20)\n",
        "    for col, trace, cvt in zip(df1.columns, traces, cvts):\n",
        "        print(adjust(col), ':: ', adjust(round(trace,2), 9), \">\", adjust(cvt, 8), ' =>  ' , trace > cvt)\n",
        "\n",
        "cointegration_test(df1)"
      ],
      "metadata": {
        "colab": {
          "base_uri": "https://localhost:8080/"
        },
        "id": "IXnPHgL-qdGj",
        "outputId": "324269a2-9006-4ff2-9593-643cd5dc3801"
      },
      "execution_count": 21,
      "outputs": [
        {
          "output_type": "stream",
          "name": "stdout",
          "text": [
            "Name   ::  Test Stat > C(95%)    =>   Signif  \n",
            " ----------------------------------------\n",
            "INFLACAO_d11 ::  36.32     > 24.2761   =>   True\n",
            "CAMB_d11 ::  11.33     > 12.3212   =>   False\n",
            "IND_d11 ::  0.87      > 4.1296    =>   False\n"
          ]
        }
      ]
    },
    {
      "cell_type": "code",
      "source": [
        "#Separando os dados em training e test"
      ],
      "metadata": {
        "id": "rNbJ8RWkqmPZ"
      },
      "execution_count": null,
      "outputs": []
    },
    {
      "cell_type": "code",
      "source": [
        "nobs = 4\n",
        "df1_train, df1_test = df1[0:-nobs], df1[-nobs:]\n",
        "\n",
        "# Check size\n",
        "print(df1_train.shape)  # (119, 8)\n",
        "print(df1_test.shape)  # (4, 8)"
      ],
      "metadata": {
        "colab": {
          "base_uri": "https://localhost:8080/"
        },
        "id": "1gv17hY6q41D",
        "outputId": "148dc0bf-d14f-42df-99c7-0a3921c5ee23"
      },
      "execution_count": 22,
      "outputs": [
        {
          "output_type": "stream",
          "name": "stdout",
          "text": [
            "(51, 3)\n",
            "(4, 3)\n"
          ]
        }
      ]
    },
    {
      "cell_type": "code",
      "source": [
        "#Chechando estacionaridade e fazendo elas estacionárias"
      ],
      "metadata": {
        "id": "ygE5-hLrrAoA"
      },
      "execution_count": null,
      "outputs": []
    },
    {
      "cell_type": "code",
      "source": [
        "def adfuller_test(series, signif=0.05, name='', verbose=False):\n",
        "    \"\"\"Perform ADFuller to test for Stationarity of given series and print report\"\"\"\n",
        "    r = adfuller(series, autolag='AIC')\n",
        "    output = {'test_statistic':round(r[0], 4), 'pvalue':round(r[1], 4), 'n_lags':round(r[2], 4), 'n_obs':r[3]}\n",
        "    p_value = output['pvalue'] \n",
        "    def adjust(val, length= 6): return str(val).ljust(length)\n",
        "\n",
        "    # Print Summary\n",
        "    print(f'    Augmented Dickey-Fuller Test on \"{name}\"', \"\\n   \", '-'*47)\n",
        "    print(f' Null Hypothesis: Data has unit root. Non-Stationary.')\n",
        "    print(f' Significance Level    = {signif}')\n",
        "    print(f' Test Statistic        = {output[\"test_statistic\"]}')\n",
        "    print(f' No. Lags Chosen       = {output[\"n_lags\"]}')\n",
        "\n",
        "    for key,val in r[4].items():\n",
        "        print(f' Critical value {adjust(key)} = {round(val, 3)}')\n",
        "\n",
        "    if p_value <= signif:\n",
        "        print(f\" => P-Value = {p_value}. Rejecting Null Hypothesis.\")\n",
        "        print(f\" => Series is Stationary.\")\n",
        "    else:\n",
        "        print(f\" => P-Value = {p_value}. Weak evidence to reject the Null Hypothesis.\")\n",
        "        print(f\" => Series is Non-Stationary.\")  "
      ],
      "metadata": {
        "id": "D-ahoirrrIJa"
      },
      "execution_count": 23,
      "outputs": []
    },
    {
      "cell_type": "code",
      "source": [
        "# Teste ADF em cada série\n",
        "for name, column in df1_train.iteritems():\n",
        "    adfuller_test(column, name=column.name)\n",
        "    print('\\n')"
      ],
      "metadata": {
        "colab": {
          "base_uri": "https://localhost:8080/"
        },
        "id": "pFz-abeBrc0Q",
        "outputId": "ca72349b-ab2e-4c73-c9bc-1125dd7077bc"
      },
      "execution_count": 32,
      "outputs": [
        {
          "output_type": "stream",
          "name": "stdout",
          "text": [
            "    Augmented Dickey-Fuller Test on \"INFLACAO_d11\" \n",
            "    -----------------------------------------------\n",
            " Null Hypothesis: Data has unit root. Non-Stationary.\n",
            " Significance Level    = 0.05\n",
            " Test Statistic        = 1.8631\n",
            " No. Lags Chosen       = 11\n",
            " Critical value 1%     = -3.61\n",
            " Critical value 5%     = -2.939\n",
            " Critical value 10%    = -2.608\n",
            " => P-Value = 0.9985. Weak evidence to reject the Null Hypothesis.\n",
            " => Series is Non-Stationary.\n",
            "\n",
            "\n",
            "    Augmented Dickey-Fuller Test on \"CAMB_d11\" \n",
            "    -----------------------------------------------\n",
            " Null Hypothesis: Data has unit root. Non-Stationary.\n",
            " Significance Level    = 0.05\n",
            " Test Statistic        = -1.1037\n",
            " No. Lags Chosen       = 0\n",
            " Critical value 1%     = -3.568\n",
            " Critical value 5%     = -2.921\n",
            " Critical value 10%    = -2.599\n",
            " => P-Value = 0.7136. Weak evidence to reject the Null Hypothesis.\n",
            " => Series is Non-Stationary.\n",
            "\n",
            "\n",
            "    Augmented Dickey-Fuller Test on \"IND_d11\" \n",
            "    -----------------------------------------------\n",
            " Null Hypothesis: Data has unit root. Non-Stationary.\n",
            " Significance Level    = 0.05\n",
            " Test Statistic        = -0.6134\n",
            " No. Lags Chosen       = 4\n",
            " Critical value 1%     = -3.581\n",
            " Critical value 5%     = -2.927\n",
            " Critical value 10%    = -2.602\n",
            " => P-Value = 0.8679. Weak evidence to reject the Null Hypothesis.\n",
            " => Series is Non-Stationary.\n",
            "\n",
            "\n"
          ]
        }
      ]
    },
    {
      "cell_type": "code",
      "source": [
        "# Primeira diferença\n",
        "df_differenced = df1_train.diff().dropna()"
      ],
      "metadata": {
        "id": "dQJIjaI8rm4b"
      },
      "execution_count": 33,
      "outputs": []
    },
    {
      "cell_type": "code",
      "source": [
        "# Teste ADF em cada série mas agora na 1 diferença\n",
        "for name, column in df_differenced.iteritems():\n",
        "    adfuller_test(column, name=column.name)\n",
        "    print('\\n')"
      ],
      "metadata": {
        "colab": {
          "base_uri": "https://localhost:8080/"
        },
        "id": "ZDjbGTiIrwMu",
        "outputId": "8785647c-3860-49bd-ecf0-0567ad5a91b3"
      },
      "execution_count": 34,
      "outputs": [
        {
          "output_type": "stream",
          "name": "stdout",
          "text": [
            "    Augmented Dickey-Fuller Test on \"INFLACAO_d11\" \n",
            "    -----------------------------------------------\n",
            " Null Hypothesis: Data has unit root. Non-Stationary.\n",
            " Significance Level    = 0.05\n",
            " Test Statistic        = -3.0866\n",
            " No. Lags Chosen       = 10\n",
            " Critical value 1%     = -3.61\n",
            " Critical value 5%     = -2.939\n",
            " Critical value 10%    = -2.608\n",
            " => P-Value = 0.0276. Rejecting Null Hypothesis.\n",
            " => Series is Stationary.\n",
            "\n",
            "\n",
            "    Augmented Dickey-Fuller Test on \"CAMB_d11\" \n",
            "    -----------------------------------------------\n",
            " Null Hypothesis: Data has unit root. Non-Stationary.\n",
            " Significance Level    = 0.05\n",
            " Test Statistic        = -4.546\n",
            " No. Lags Chosen       = 0\n",
            " Critical value 1%     = -3.571\n",
            " Critical value 5%     = -2.923\n",
            " Critical value 10%    = -2.599\n",
            " => P-Value = 0.0002. Rejecting Null Hypothesis.\n",
            " => Series is Stationary.\n",
            "\n",
            "\n",
            "    Augmented Dickey-Fuller Test on \"IND_d11\" \n",
            "    -----------------------------------------------\n",
            " Null Hypothesis: Data has unit root. Non-Stationary.\n",
            " Significance Level    = 0.05\n",
            " Test Statistic        = -4.0751\n",
            " No. Lags Chosen       = 4\n",
            " Critical value 1%     = -3.585\n",
            " Critical value 5%     = -2.928\n",
            " Critical value 10%    = -2.602\n",
            " => P-Value = 0.0011. Rejecting Null Hypothesis.\n",
            " => Series is Stationary.\n",
            "\n",
            "\n"
          ]
        }
      ]
    },
    {
      "cell_type": "code",
      "source": [
        "#A série agora é estacionária 👌🏻"
      ],
      "metadata": {
        "id": "nnFoVwzksgAf"
      },
      "execution_count": null,
      "outputs": []
    },
    {
      "cell_type": "code",
      "source": [
        "# Segunda diferença\n",
        "#df_differenced = df_differenced.diff().dropna()"
      ],
      "metadata": {
        "id": "_oY37Nr3r6pv"
      },
      "execution_count": 28,
      "outputs": []
    },
    {
      "cell_type": "code",
      "source": [
        "## Teste ADF em cada série mas agora na 2 diferença\n",
        "#for name, column in df_differenced.iteritems():\n",
        "   # adfuller_test(column, name=column.name)\n",
        "    #print('\\n')"
      ],
      "metadata": {
        "id": "hmfO8gVBsDCP"
      },
      "execution_count": null,
      "outputs": []
    },
    {
      "cell_type": "code",
      "source": [
        "#Selecionando a ordem do modelo VAR"
      ],
      "metadata": {
        "id": "_NtGYW_jsQuI"
      },
      "execution_count": null,
      "outputs": []
    },
    {
      "cell_type": "code",
      "source": [
        "model = VAR(df_differenced)\n",
        "for i in [1,2,3,4,5,6,7,8,9]:\n",
        "    result = model.fit(i)\n",
        "    print('Lag Order =', i)\n",
        "    print('AIC : ', result.aic)\n",
        "    print('BIC : ', result.bic)\n",
        "    print('FPE : ', result.fpe)\n",
        "    print('HQIC: ', result.hqic, '\\n')"
      ],
      "metadata": {
        "colab": {
          "base_uri": "https://localhost:8080/"
        },
        "id": "SO_nIXTEsuTI",
        "outputId": "5623ed55-ffe3-47de-85e6-95ae6bcb78d6"
      },
      "execution_count": 35,
      "outputs": [
        {
          "output_type": "stream",
          "name": "stdout",
          "text": [
            "Lag Order = 1\n",
            "AIC :  10.644408380853088\n",
            "BIC :  11.107711311002628\n",
            "FPE :  42003.18525653488\n",
            "HQIC:  10.820184866308542 \n",
            "\n",
            "Lag Order = 2\n",
            "AIC :  10.127249986199566\n",
            "BIC :  10.945900428471768\n",
            "FPE :  25173.15283193637\n",
            "HQIC:  10.43661918412798 \n",
            "\n",
            "Lag Order = 3\n",
            "AIC :  9.918593138553128\n",
            "BIC :  11.0995384162404\n",
            "FPE :  20710.528216396622\n",
            "HQIC:  10.362990779835657 \n",
            "\n",
            "Lag Order = 4\n",
            "AIC :  9.703459994508284\n",
            "BIC :  11.253829874140344\n",
            "FPE :  17169.631089711296\n",
            "HQIC:  10.284237843481261 \n",
            "\n",
            "Lag Order = 5\n",
            "AIC :  9.653673554303396\n",
            "BIC :  11.580780210058403\n",
            "FPE :  17172.667903952814\n",
            "HQIC:  10.372079566678687 \n",
            "\n",
            "Lag Order = 6\n",
            "AIC :  9.78524620075492\n",
            "BIC :  12.096582771967213\n",
            "FPE :  21313.880676780773\n",
            "HQIC:  10.642401227233528 \n",
            "\n",
            "Lag Order = 7\n",
            "AIC :  9.786976132682069\n",
            "BIC :  12.49021351956056\n",
            "FPE :  24509.184095682784\n",
            "HQIC:  10.783846536771144 \n",
            "\n",
            "Lag Order = 8\n",
            "AIC :  9.37633002211169\n",
            "BIC :  12.47931148333199\n",
            "FPE :  20319.56058464859\n",
            "HQIC:  10.513695452487863 \n",
            "\n",
            "Lag Order = 9\n",
            "AIC :  7.971809069524387\n",
            "BIC :  11.482542084235652\n",
            "FPE :  7199.159307371752\n",
            "HQIC:  9.250224469911988 \n",
            "\n"
          ]
        },
        {
          "output_type": "stream",
          "name": "stderr",
          "text": [
            "/usr/local/lib/python3.7/dist-packages/statsmodels/tsa/base/tsa_model.py:215: ValueWarning: An unsupported index was provided and will be ignored when e.g. forecasting.\n",
            "  ' ignored when e.g. forecasting.', ValueWarning)\n"
          ]
        }
      ]
    },
    {
      "cell_type": "code",
      "source": [
        "x = model.select_order(maxlags=4)\n",
        "x.summary()"
      ],
      "metadata": {
        "colab": {
          "base_uri": "https://localhost:8080/",
          "height": 175
        },
        "id": "KfndVSQ8tOyA",
        "outputId": "af3094ed-394b-4f44-921a-d100c4864c35"
      },
      "execution_count": 38,
      "outputs": [
        {
          "output_type": "execute_result",
          "data": {
            "text/plain": [
              "<class 'statsmodels.iolib.table.SimpleTable'>"
            ],
            "text/html": [
              "<table class=\"simpletable\">\n",
              "<caption>VAR Order Selection (* highlights the minimums)</caption>\n",
              "<tr>\n",
              "  <td></td>      <th>AIC</th>         <th>BIC</th>         <th>FPE</th>        <th>HQIC</th>    \n",
              "</tr>\n",
              "<tr>\n",
              "  <th>0</th> <td>     10.65</td>  <td>     10.77</td>  <td> 4.236e+04</td>  <td>     10.70</td> \n",
              "</tr>\n",
              "<tr>\n",
              "  <th>1</th> <td>     10.11</td>  <td>     10.59*</td> <td> 2.462e+04</td>  <td>     10.29</td> \n",
              "</tr>\n",
              "<tr>\n",
              "  <th>2</th> <td>     9.826</td>  <td>     10.66</td>  <td> 1.865e+04</td>  <td>     10.14*</td>\n",
              "</tr>\n",
              "<tr>\n",
              "  <th>3</th> <td>     9.752</td>  <td>     10.94</td>  <td> 1.756e+04</td>  <td>     10.20</td> \n",
              "</tr>\n",
              "<tr>\n",
              "  <th>4</th> <td>     9.703*</td> <td>     11.25</td>  <td> 1.717e+04*</td> <td>     10.28</td> \n",
              "</tr>\n",
              "</table>"
            ]
          },
          "metadata": {},
          "execution_count": 38
        }
      ]
    },
    {
      "cell_type": "code",
      "source": [
        "model_fitted = model.fit(4)\n",
        "model_fitted.summary()"
      ],
      "metadata": {
        "colab": {
          "base_uri": "https://localhost:8080/"
        },
        "id": "t7yVTcvItUjo",
        "outputId": "eba26cdb-263d-48e7-b8e4-db5d4f96e333"
      },
      "execution_count": 39,
      "outputs": [
        {
          "output_type": "execute_result",
          "data": {
            "text/plain": [
              "  Summary of Regression Results   \n",
              "==================================\n",
              "Model:                         VAR\n",
              "Method:                        OLS\n",
              "Date:           Tue, 29, Mar, 2022\n",
              "Time:                     22:04:45\n",
              "--------------------------------------------------------------------\n",
              "No. of Equations:         3.00000    BIC:                    11.2538\n",
              "Nobs:                     46.0000    HQIC:                   10.2842\n",
              "Log likelihood:          -379.993    FPE:                    17169.6\n",
              "AIC:                      9.70346    Det(Omega_mle):         8137.26\n",
              "--------------------------------------------------------------------\n",
              "Results for equation INFLACAO_d11\n",
              "==================================================================================\n",
              "                     coefficient       std. error           t-stat            prob\n",
              "----------------------------------------------------------------------------------\n",
              "const                   0.598675         0.305614            1.959           0.050\n",
              "L1.INFLACAO_d11         0.552946         0.179100            3.087           0.002\n",
              "L1.CAMB_d11            -0.000522         0.008874           -0.059           0.953\n",
              "L1.IND_d11              0.010491         0.019609            0.535           0.593\n",
              "L2.INFLACAO_d11        -0.148783         0.191837           -0.776           0.438\n",
              "L2.CAMB_d11            -0.002906         0.009321           -0.312           0.755\n",
              "L2.IND_d11              0.009673         0.022522            0.430           0.668\n",
              "L3.INFLACAO_d11         0.266810         0.236578            1.128           0.259\n",
              "L3.CAMB_d11             0.009793         0.008545            1.146           0.252\n",
              "L3.IND_d11              0.024175         0.018039            1.340           0.180\n",
              "L4.INFLACAO_d11        -0.209187         0.228623           -0.915           0.360\n",
              "L4.CAMB_d11            -0.010589         0.006481           -1.634           0.102\n",
              "L4.IND_d11             -0.024933         0.014739           -1.692           0.091\n",
              "==================================================================================\n",
              "\n",
              "Results for equation CAMB_d11\n",
              "==================================================================================\n",
              "                     coefficient       std. error           t-stat            prob\n",
              "----------------------------------------------------------------------------------\n",
              "const                  -9.379147         7.263631           -1.291           0.197\n",
              "L1.INFLACAO_d11        -2.113596         4.256729           -0.497           0.620\n",
              "L1.CAMB_d11             0.567239         0.210909            2.689           0.007\n",
              "L1.IND_d11              1.244476         0.466045            2.670           0.008\n",
              "L2.INFLACAO_d11         3.662223         4.559463            0.803           0.422\n",
              "L2.CAMB_d11            -0.051697         0.221542           -0.233           0.815\n",
              "L2.IND_d11             -0.321274         0.535284           -0.600           0.548\n",
              "L3.INFLACAO_d11         9.200095         5.622826            1.636           0.102\n",
              "L3.CAMB_d11            -0.087368         0.203093           -0.430           0.667\n",
              "L3.IND_d11              0.594832         0.428739            1.387           0.165\n",
              "L4.INFLACAO_d11        -0.264983         5.433769           -0.049           0.961\n",
              "L4.CAMB_d11            -0.097380         0.154045           -0.632           0.527\n",
              "L4.IND_d11             -0.184029         0.350298           -0.525           0.599\n",
              "==================================================================================\n",
              "\n",
              "Results for equation IND_d11\n",
              "==================================================================================\n",
              "                     coefficient       std. error           t-stat            prob\n",
              "----------------------------------------------------------------------------------\n",
              "const                   3.754359         2.832216            1.326           0.185\n",
              "L1.INFLACAO_d11         1.239806         1.659773            0.747           0.455\n",
              "L1.CAMB_d11            -0.167936         0.082237           -2.042           0.041\n",
              "L1.IND_d11              0.123939         0.181719            0.682           0.495\n",
              "L2.INFLACAO_d11        -8.044111         1.777814           -4.525           0.000\n",
              "L2.CAMB_d11             0.187169         0.086383            2.167           0.030\n",
              "L2.IND_d11             -0.109965         0.208717           -0.527           0.598\n",
              "L3.INFLACAO_d11         0.467027         2.192438            0.213           0.831\n",
              "L3.CAMB_d11            -0.130385         0.079189           -1.646           0.100\n",
              "L3.IND_d11             -0.202619         0.167173           -1.212           0.225\n",
              "L4.INFLACAO_d11        -0.645223         2.118721           -0.305           0.761\n",
              "L4.CAMB_d11             0.181878         0.060065            3.028           0.002\n",
              "L4.IND_d11              0.063380         0.136587            0.464           0.643\n",
              "==================================================================================\n",
              "\n",
              "Correlation matrix of residuals\n",
              "                INFLACAO_d11  CAMB_d11   IND_d11\n",
              "INFLACAO_d11        1.000000  0.328881 -0.284408\n",
              "CAMB_d11            0.328881  1.000000 -0.637371\n",
              "IND_d11            -0.284408 -0.637371  1.000000\n",
              "\n"
            ]
          },
          "metadata": {},
          "execution_count": 39
        }
      ]
    },
    {
      "cell_type": "code",
      "source": [
        "#Checando a correlação dos resíduos usando DURBIN WATSON"
      ],
      "metadata": {
        "id": "FKjFJciftczx"
      },
      "execution_count": null,
      "outputs": []
    },
    {
      "cell_type": "code",
      "source": [
        "def adjust(val, length= 6): return str(val).ljust(length)"
      ],
      "metadata": {
        "id": "SNfFWGXhwbLv"
      },
      "execution_count": 47,
      "outputs": []
    },
    {
      "cell_type": "code",
      "source": [
        "from statsmodels.stats.stattools import durbin_watson\n",
        "out = durbin_watson(model_fitted.resid)\n",
        "\n",
        "for col, val in zip(df1.columns, out):\n",
        "    print(adjust(col), ':', round(val, 2))"
      ],
      "metadata": {
        "colab": {
          "base_uri": "https://localhost:8080/"
        },
        "id": "ugmCBiodtwM3",
        "outputId": "b819df76-aab6-42da-803e-f3e593912c57"
      },
      "execution_count": 48,
      "outputs": [
        {
          "output_type": "stream",
          "name": "stdout",
          "text": [
            "INFLACAO_d11 : 1.83\n",
            "CAMB_d11 : 2.04\n",
            "IND_d11 : 1.97\n"
          ]
        }
      ]
    },
    {
      "cell_type": "code",
      "source": [
        "#Parece bom"
      ],
      "metadata": {
        "id": "pkzRFdZ8wfvK"
      },
      "execution_count": null,
      "outputs": []
    },
    {
      "cell_type": "code",
      "source": [
        "#Usando a Previsão com VAR"
      ],
      "metadata": {
        "id": "UwjIqh9Aw2Vo"
      },
      "execution_count": null,
      "outputs": []
    },
    {
      "cell_type": "code",
      "source": [
        "# pegue a ordem de lags\n",
        "lag_order = model_fitted.k_ar\n",
        "print(lag_order)  #> 4\n",
        "\n",
        "# colocando os dados para previsão\n",
        "forecast_input = df_differenced.values[-lag_order:]\n",
        "forecast_input"
      ],
      "metadata": {
        "colab": {
          "base_uri": "https://localhost:8080/"
        },
        "id": "L8V6cFOzw9c3",
        "outputId": "903aef82-f23d-4e14-b224-a2758ecd1b29"
      },
      "execution_count": 49,
      "outputs": [
        {
          "output_type": "stream",
          "name": "stdout",
          "text": [
            "4\n"
          ]
        },
        {
          "output_type": "execute_result",
          "data": {
            "text/plain": [
              "array([[ 1.72269801e+00, -1.01796445e+01, -1.23756953e+01],\n",
              "       [ 2.37443377e+00,  1.31231166e+01, -9.49021039e+00],\n",
              "       [-1.15437642e-02, -1.68072919e+01, -7.57886308e+00],\n",
              "       [-8.03029618e-01, -5.51376637e+00,  7.04389312e+00]])"
            ]
          },
          "metadata": {},
          "execution_count": 49
        }
      ]
    },
    {
      "cell_type": "code",
      "source": [
        "#Previsão"
      ],
      "metadata": {
        "id": "tkpIhGawxHKY"
      },
      "execution_count": null,
      "outputs": []
    },
    {
      "cell_type": "code",
      "source": [
        "fc = model_fitted.forecast(y=forecast_input, steps=nobs)\n",
        "df_forecast = pd.DataFrame(fc, index=df.index[-nobs:], columns=df1.columns + '_1d')\n",
        "df_forecast"
      ],
      "metadata": {
        "colab": {
          "base_uri": "https://localhost:8080/",
          "height": 174
        },
        "id": "JlnGMpLAxMoh",
        "outputId": "8e87f176-de2d-4515-baff-0325834d98ab"
      },
      "execution_count": 86,
      "outputs": [
        {
          "output_type": "execute_result",
          "data": {
            "text/plain": [
              "    INFLACAO_d11_1d  CAMB_d11_1d  IND_d11_1d\n",
              "51         0.797278    19.083642   -0.088374\n",
              "52         0.482332    -8.574678   10.155037\n",
              "53         1.072844    -0.344954   -0.393975\n",
              "54         1.687556    -8.316926   -3.644180"
            ],
            "text/html": [
              "\n",
              "  <div id=\"df-562597f9-6d8d-4c08-8f85-c889a264df3b\">\n",
              "    <div class=\"colab-df-container\">\n",
              "      <div>\n",
              "<style scoped>\n",
              "    .dataframe tbody tr th:only-of-type {\n",
              "        vertical-align: middle;\n",
              "    }\n",
              "\n",
              "    .dataframe tbody tr th {\n",
              "        vertical-align: top;\n",
              "    }\n",
              "\n",
              "    .dataframe thead th {\n",
              "        text-align: right;\n",
              "    }\n",
              "</style>\n",
              "<table border=\"1\" class=\"dataframe\">\n",
              "  <thead>\n",
              "    <tr style=\"text-align: right;\">\n",
              "      <th></th>\n",
              "      <th>INFLACAO_d11_1d</th>\n",
              "      <th>CAMB_d11_1d</th>\n",
              "      <th>IND_d11_1d</th>\n",
              "    </tr>\n",
              "  </thead>\n",
              "  <tbody>\n",
              "    <tr>\n",
              "      <th>51</th>\n",
              "      <td>0.797278</td>\n",
              "      <td>19.083642</td>\n",
              "      <td>-0.088374</td>\n",
              "    </tr>\n",
              "    <tr>\n",
              "      <th>52</th>\n",
              "      <td>0.482332</td>\n",
              "      <td>-8.574678</td>\n",
              "      <td>10.155037</td>\n",
              "    </tr>\n",
              "    <tr>\n",
              "      <th>53</th>\n",
              "      <td>1.072844</td>\n",
              "      <td>-0.344954</td>\n",
              "      <td>-0.393975</td>\n",
              "    </tr>\n",
              "    <tr>\n",
              "      <th>54</th>\n",
              "      <td>1.687556</td>\n",
              "      <td>-8.316926</td>\n",
              "      <td>-3.644180</td>\n",
              "    </tr>\n",
              "  </tbody>\n",
              "</table>\n",
              "</div>\n",
              "      <button class=\"colab-df-convert\" onclick=\"convertToInteractive('df-562597f9-6d8d-4c08-8f85-c889a264df3b')\"\n",
              "              title=\"Convert this dataframe to an interactive table.\"\n",
              "              style=\"display:none;\">\n",
              "        \n",
              "  <svg xmlns=\"http://www.w3.org/2000/svg\" height=\"24px\"viewBox=\"0 0 24 24\"\n",
              "       width=\"24px\">\n",
              "    <path d=\"M0 0h24v24H0V0z\" fill=\"none\"/>\n",
              "    <path d=\"M18.56 5.44l.94 2.06.94-2.06 2.06-.94-2.06-.94-.94-2.06-.94 2.06-2.06.94zm-11 1L8.5 8.5l.94-2.06 2.06-.94-2.06-.94L8.5 2.5l-.94 2.06-2.06.94zm10 10l.94 2.06.94-2.06 2.06-.94-2.06-.94-.94-2.06-.94 2.06-2.06.94z\"/><path d=\"M17.41 7.96l-1.37-1.37c-.4-.4-.92-.59-1.43-.59-.52 0-1.04.2-1.43.59L10.3 9.45l-7.72 7.72c-.78.78-.78 2.05 0 2.83L4 21.41c.39.39.9.59 1.41.59.51 0 1.02-.2 1.41-.59l7.78-7.78 2.81-2.81c.8-.78.8-2.07 0-2.86zM5.41 20L4 18.59l7.72-7.72 1.47 1.35L5.41 20z\"/>\n",
              "  </svg>\n",
              "      </button>\n",
              "      \n",
              "  <style>\n",
              "    .colab-df-container {\n",
              "      display:flex;\n",
              "      flex-wrap:wrap;\n",
              "      gap: 12px;\n",
              "    }\n",
              "\n",
              "    .colab-df-convert {\n",
              "      background-color: #E8F0FE;\n",
              "      border: none;\n",
              "      border-radius: 50%;\n",
              "      cursor: pointer;\n",
              "      display: none;\n",
              "      fill: #1967D2;\n",
              "      height: 32px;\n",
              "      padding: 0 0 0 0;\n",
              "      width: 32px;\n",
              "    }\n",
              "\n",
              "    .colab-df-convert:hover {\n",
              "      background-color: #E2EBFA;\n",
              "      box-shadow: 0px 1px 2px rgba(60, 64, 67, 0.3), 0px 1px 3px 1px rgba(60, 64, 67, 0.15);\n",
              "      fill: #174EA6;\n",
              "    }\n",
              "\n",
              "    [theme=dark] .colab-df-convert {\n",
              "      background-color: #3B4455;\n",
              "      fill: #D2E3FC;\n",
              "    }\n",
              "\n",
              "    [theme=dark] .colab-df-convert:hover {\n",
              "      background-color: #434B5C;\n",
              "      box-shadow: 0px 1px 3px 1px rgba(0, 0, 0, 0.15);\n",
              "      filter: drop-shadow(0px 1px 2px rgba(0, 0, 0, 0.3));\n",
              "      fill: #FFFFFF;\n",
              "    }\n",
              "  </style>\n",
              "\n",
              "      <script>\n",
              "        const buttonEl =\n",
              "          document.querySelector('#df-562597f9-6d8d-4c08-8f85-c889a264df3b button.colab-df-convert');\n",
              "        buttonEl.style.display =\n",
              "          google.colab.kernel.accessAllowed ? 'block' : 'none';\n",
              "\n",
              "        async function convertToInteractive(key) {\n",
              "          const element = document.querySelector('#df-562597f9-6d8d-4c08-8f85-c889a264df3b');\n",
              "          const dataTable =\n",
              "            await google.colab.kernel.invokeFunction('convertToInteractive',\n",
              "                                                     [key], {});\n",
              "          if (!dataTable) return;\n",
              "\n",
              "          const docLinkHtml = 'Like what you see? Visit the ' +\n",
              "            '<a target=\"_blank\" href=https://colab.research.google.com/notebooks/data_table.ipynb>data table notebook</a>'\n",
              "            + ' to learn more about interactive tables.';\n",
              "          element.innerHTML = '';\n",
              "          dataTable['output_type'] = 'display_data';\n",
              "          await google.colab.output.renderOutput(dataTable, element);\n",
              "          const docLink = document.createElement('div');\n",
              "          docLink.innerHTML = docLinkHtml;\n",
              "          element.appendChild(docLink);\n",
              "        }\n",
              "      </script>\n",
              "    </div>\n",
              "  </div>\n",
              "  "
            ]
          },
          "metadata": {},
          "execution_count": 86
        }
      ]
    },
    {
      "cell_type": "code",
      "source": [
        "#Feito, mas está na escala nos dados de treino, vamos colocá-lo de volta para a escala original, no caso aqui, precisamos realizar novamente o teste de primeira diferênça, (ficou estácionario na 1 diferença)"
      ],
      "metadata": {
        "id": "v9JqzA3RxUMf"
      },
      "execution_count": null,
      "outputs": []
    },
    {
      "cell_type": "code",
      "source": [
        "#Inverter a transformação para ter a verdadeira previsão"
      ],
      "metadata": {
        "id": "fYy3d1Ycxqku"
      },
      "execution_count": null,
      "outputs": []
    },
    {
      "cell_type": "code",
      "source": [
        "def invert_transformation(df1_train, df_forecast, second_diff=False):\n",
        "    df_fc = df_forecast.copy()\n",
        "    columns = df1_train.columns\n",
        "    for col in columns:        \n",
        "        # Roll back 2nd Diff\n",
        "        if second_diff:\n",
        "            df_fc[str(col)+'_1d'] = (df1_train[col].iloc[-1]-df1_train[col].iloc[-2]) + df_fc[str(col)+'_2d'].cumsum()\n",
        "        # Roll back 1st Diff\n",
        "        df_fc[str(col)+'_forecast'] = df1_train[col].iloc[-1] + df_fc[str(col)+'_1d'].cumsum()\n",
        "    return df_fc"
      ],
      "metadata": {
        "id": "ABHSAjPjx6rH"
      },
      "execution_count": 87,
      "outputs": []
    },
    {
      "cell_type": "code",
      "source": [
        "df_results = invert_transformation(df1_train, df_forecast, second_diff=False) \n",
        "df_results.loc[:, ['INFLACAO_d11_forecast', 'CAMB_d11_forecast', 'IND_d11_forecast']]       \n"
      ],
      "metadata": {
        "colab": {
          "base_uri": "https://localhost:8080/",
          "height": 174
        },
        "id": "bfx7YdxnyaUA",
        "outputId": "ebfbddec-4083-4695-a3e9-21cf5bb240ea"
      },
      "execution_count": 93,
      "outputs": [
        {
          "output_type": "execute_result",
          "data": {
            "text/plain": [
              "    INFLACAO_d11_forecast  CAMB_d11_forecast  IND_d11_forecast\n",
              "51              96.917071         360.032087        311.150098\n",
              "52              97.399403         351.457409        321.305135\n",
              "53              98.472247         351.112455        320.911160\n",
              "54             100.159803         342.795529        317.266981"
            ],
            "text/html": [
              "\n",
              "  <div id=\"df-b4bf9b91-3e1e-4fe5-b968-1ad3b0b6f66f\">\n",
              "    <div class=\"colab-df-container\">\n",
              "      <div>\n",
              "<style scoped>\n",
              "    .dataframe tbody tr th:only-of-type {\n",
              "        vertical-align: middle;\n",
              "    }\n",
              "\n",
              "    .dataframe tbody tr th {\n",
              "        vertical-align: top;\n",
              "    }\n",
              "\n",
              "    .dataframe thead th {\n",
              "        text-align: right;\n",
              "    }\n",
              "</style>\n",
              "<table border=\"1\" class=\"dataframe\">\n",
              "  <thead>\n",
              "    <tr style=\"text-align: right;\">\n",
              "      <th></th>\n",
              "      <th>INFLACAO_d11_forecast</th>\n",
              "      <th>CAMB_d11_forecast</th>\n",
              "      <th>IND_d11_forecast</th>\n",
              "    </tr>\n",
              "  </thead>\n",
              "  <tbody>\n",
              "    <tr>\n",
              "      <th>51</th>\n",
              "      <td>96.917071</td>\n",
              "      <td>360.032087</td>\n",
              "      <td>311.150098</td>\n",
              "    </tr>\n",
              "    <tr>\n",
              "      <th>52</th>\n",
              "      <td>97.399403</td>\n",
              "      <td>351.457409</td>\n",
              "      <td>321.305135</td>\n",
              "    </tr>\n",
              "    <tr>\n",
              "      <th>53</th>\n",
              "      <td>98.472247</td>\n",
              "      <td>351.112455</td>\n",
              "      <td>320.911160</td>\n",
              "    </tr>\n",
              "    <tr>\n",
              "      <th>54</th>\n",
              "      <td>100.159803</td>\n",
              "      <td>342.795529</td>\n",
              "      <td>317.266981</td>\n",
              "    </tr>\n",
              "  </tbody>\n",
              "</table>\n",
              "</div>\n",
              "      <button class=\"colab-df-convert\" onclick=\"convertToInteractive('df-b4bf9b91-3e1e-4fe5-b968-1ad3b0b6f66f')\"\n",
              "              title=\"Convert this dataframe to an interactive table.\"\n",
              "              style=\"display:none;\">\n",
              "        \n",
              "  <svg xmlns=\"http://www.w3.org/2000/svg\" height=\"24px\"viewBox=\"0 0 24 24\"\n",
              "       width=\"24px\">\n",
              "    <path d=\"M0 0h24v24H0V0z\" fill=\"none\"/>\n",
              "    <path d=\"M18.56 5.44l.94 2.06.94-2.06 2.06-.94-2.06-.94-.94-2.06-.94 2.06-2.06.94zm-11 1L8.5 8.5l.94-2.06 2.06-.94-2.06-.94L8.5 2.5l-.94 2.06-2.06.94zm10 10l.94 2.06.94-2.06 2.06-.94-2.06-.94-.94-2.06-.94 2.06-2.06.94z\"/><path d=\"M17.41 7.96l-1.37-1.37c-.4-.4-.92-.59-1.43-.59-.52 0-1.04.2-1.43.59L10.3 9.45l-7.72 7.72c-.78.78-.78 2.05 0 2.83L4 21.41c.39.39.9.59 1.41.59.51 0 1.02-.2 1.41-.59l7.78-7.78 2.81-2.81c.8-.78.8-2.07 0-2.86zM5.41 20L4 18.59l7.72-7.72 1.47 1.35L5.41 20z\"/>\n",
              "  </svg>\n",
              "      </button>\n",
              "      \n",
              "  <style>\n",
              "    .colab-df-container {\n",
              "      display:flex;\n",
              "      flex-wrap:wrap;\n",
              "      gap: 12px;\n",
              "    }\n",
              "\n",
              "    .colab-df-convert {\n",
              "      background-color: #E8F0FE;\n",
              "      border: none;\n",
              "      border-radius: 50%;\n",
              "      cursor: pointer;\n",
              "      display: none;\n",
              "      fill: #1967D2;\n",
              "      height: 32px;\n",
              "      padding: 0 0 0 0;\n",
              "      width: 32px;\n",
              "    }\n",
              "\n",
              "    .colab-df-convert:hover {\n",
              "      background-color: #E2EBFA;\n",
              "      box-shadow: 0px 1px 2px rgba(60, 64, 67, 0.3), 0px 1px 3px 1px rgba(60, 64, 67, 0.15);\n",
              "      fill: #174EA6;\n",
              "    }\n",
              "\n",
              "    [theme=dark] .colab-df-convert {\n",
              "      background-color: #3B4455;\n",
              "      fill: #D2E3FC;\n",
              "    }\n",
              "\n",
              "    [theme=dark] .colab-df-convert:hover {\n",
              "      background-color: #434B5C;\n",
              "      box-shadow: 0px 1px 3px 1px rgba(0, 0, 0, 0.15);\n",
              "      filter: drop-shadow(0px 1px 2px rgba(0, 0, 0, 0.3));\n",
              "      fill: #FFFFFF;\n",
              "    }\n",
              "  </style>\n",
              "\n",
              "      <script>\n",
              "        const buttonEl =\n",
              "          document.querySelector('#df-b4bf9b91-3e1e-4fe5-b968-1ad3b0b6f66f button.colab-df-convert');\n",
              "        buttonEl.style.display =\n",
              "          google.colab.kernel.accessAllowed ? 'block' : 'none';\n",
              "\n",
              "        async function convertToInteractive(key) {\n",
              "          const element = document.querySelector('#df-b4bf9b91-3e1e-4fe5-b968-1ad3b0b6f66f');\n",
              "          const dataTable =\n",
              "            await google.colab.kernel.invokeFunction('convertToInteractive',\n",
              "                                                     [key], {});\n",
              "          if (!dataTable) return;\n",
              "\n",
              "          const docLinkHtml = 'Like what you see? Visit the ' +\n",
              "            '<a target=\"_blank\" href=https://colab.research.google.com/notebooks/data_table.ipynb>data table notebook</a>'\n",
              "            + ' to learn more about interactive tables.';\n",
              "          element.innerHTML = '';\n",
              "          dataTable['output_type'] = 'display_data';\n",
              "          await google.colab.output.renderOutput(dataTable, element);\n",
              "          const docLink = document.createElement('div');\n",
              "          docLink.innerHTML = docLinkHtml;\n",
              "          element.appendChild(docLink);\n",
              "        }\n",
              "      </script>\n",
              "    </div>\n",
              "  </div>\n",
              "  "
            ]
          },
          "metadata": {},
          "execution_count": 93
        }
      ]
    },
    {
      "cell_type": "code",
      "source": [
        "fig, axes = plt.subplots(nrows=int(len(df1.columns)/2), ncols=3, dpi=150, figsize=(10,10))\n",
        "for i, (col,ax) in enumerate(zip(df1.columns, axes.flatten())):\n",
        "    df_results[col+'_forecast'].plot(legend=True, ax=ax).autoscale(axis='x',tight=True)\n",
        "    df1_test[col][-nobs:].plot(legend=True, ax=ax);\n",
        "    ax.set_title(col + \": Previsão vs Atual\")\n",
        "    ax.xaxis.set_ticks_position('none')\n",
        "    ax.yaxis.set_ticks_position('none')\n",
        "    ax.spines[\"top\"].set_alpha(0)\n",
        "    ax.tick_params(labelsize=6)\n",
        "\n",
        "plt.tight_layout();"
      ],
      "metadata": {
        "id": "sMnWnvx1zq9P"
      },
      "execution_count": null,
      "outputs": []
    },
    {
      "cell_type": "code",
      "source": [
        "#Diagnosticando as previsões"
      ],
      "metadata": {
        "id": "F5UzDVno7_PH"
      },
      "execution_count": null,
      "outputs": []
    },
    {
      "cell_type": "code",
      "source": [
        "df1_test"
      ],
      "metadata": {
        "colab": {
          "base_uri": "https://localhost:8080/",
          "height": 174
        },
        "id": "bRygQScn8lfW",
        "outputId": "581f1374-006f-489e-f47e-f91e63b7104d"
      },
      "execution_count": 118,
      "outputs": [
        {
          "output_type": "execute_result",
          "data": {
            "text/plain": [
              "    INFLACAO_d11    CAMB_d11     IND_d11\n",
              "51     98.068768  358.429990  297.548997\n",
              "52     99.973028  381.215791  285.374536\n",
              "53    102.296315  409.933981  270.203886\n",
              "54    104.182356  447.549957  260.892070"
            ],
            "text/html": [
              "\n",
              "  <div id=\"df-903ee05a-a57d-467e-bdc5-8df74cd2fe1f\">\n",
              "    <div class=\"colab-df-container\">\n",
              "      <div>\n",
              "<style scoped>\n",
              "    .dataframe tbody tr th:only-of-type {\n",
              "        vertical-align: middle;\n",
              "    }\n",
              "\n",
              "    .dataframe tbody tr th {\n",
              "        vertical-align: top;\n",
              "    }\n",
              "\n",
              "    .dataframe thead th {\n",
              "        text-align: right;\n",
              "    }\n",
              "</style>\n",
              "<table border=\"1\" class=\"dataframe\">\n",
              "  <thead>\n",
              "    <tr style=\"text-align: right;\">\n",
              "      <th></th>\n",
              "      <th>INFLACAO_d11</th>\n",
              "      <th>CAMB_d11</th>\n",
              "      <th>IND_d11</th>\n",
              "    </tr>\n",
              "  </thead>\n",
              "  <tbody>\n",
              "    <tr>\n",
              "      <th>51</th>\n",
              "      <td>98.068768</td>\n",
              "      <td>358.429990</td>\n",
              "      <td>297.548997</td>\n",
              "    </tr>\n",
              "    <tr>\n",
              "      <th>52</th>\n",
              "      <td>99.973028</td>\n",
              "      <td>381.215791</td>\n",
              "      <td>285.374536</td>\n",
              "    </tr>\n",
              "    <tr>\n",
              "      <th>53</th>\n",
              "      <td>102.296315</td>\n",
              "      <td>409.933981</td>\n",
              "      <td>270.203886</td>\n",
              "    </tr>\n",
              "    <tr>\n",
              "      <th>54</th>\n",
              "      <td>104.182356</td>\n",
              "      <td>447.549957</td>\n",
              "      <td>260.892070</td>\n",
              "    </tr>\n",
              "  </tbody>\n",
              "</table>\n",
              "</div>\n",
              "      <button class=\"colab-df-convert\" onclick=\"convertToInteractive('df-903ee05a-a57d-467e-bdc5-8df74cd2fe1f')\"\n",
              "              title=\"Convert this dataframe to an interactive table.\"\n",
              "              style=\"display:none;\">\n",
              "        \n",
              "  <svg xmlns=\"http://www.w3.org/2000/svg\" height=\"24px\"viewBox=\"0 0 24 24\"\n",
              "       width=\"24px\">\n",
              "    <path d=\"M0 0h24v24H0V0z\" fill=\"none\"/>\n",
              "    <path d=\"M18.56 5.44l.94 2.06.94-2.06 2.06-.94-2.06-.94-.94-2.06-.94 2.06-2.06.94zm-11 1L8.5 8.5l.94-2.06 2.06-.94-2.06-.94L8.5 2.5l-.94 2.06-2.06.94zm10 10l.94 2.06.94-2.06 2.06-.94-2.06-.94-.94-2.06-.94 2.06-2.06.94z\"/><path d=\"M17.41 7.96l-1.37-1.37c-.4-.4-.92-.59-1.43-.59-.52 0-1.04.2-1.43.59L10.3 9.45l-7.72 7.72c-.78.78-.78 2.05 0 2.83L4 21.41c.39.39.9.59 1.41.59.51 0 1.02-.2 1.41-.59l7.78-7.78 2.81-2.81c.8-.78.8-2.07 0-2.86zM5.41 20L4 18.59l7.72-7.72 1.47 1.35L5.41 20z\"/>\n",
              "  </svg>\n",
              "      </button>\n",
              "      \n",
              "  <style>\n",
              "    .colab-df-container {\n",
              "      display:flex;\n",
              "      flex-wrap:wrap;\n",
              "      gap: 12px;\n",
              "    }\n",
              "\n",
              "    .colab-df-convert {\n",
              "      background-color: #E8F0FE;\n",
              "      border: none;\n",
              "      border-radius: 50%;\n",
              "      cursor: pointer;\n",
              "      display: none;\n",
              "      fill: #1967D2;\n",
              "      height: 32px;\n",
              "      padding: 0 0 0 0;\n",
              "      width: 32px;\n",
              "    }\n",
              "\n",
              "    .colab-df-convert:hover {\n",
              "      background-color: #E2EBFA;\n",
              "      box-shadow: 0px 1px 2px rgba(60, 64, 67, 0.3), 0px 1px 3px 1px rgba(60, 64, 67, 0.15);\n",
              "      fill: #174EA6;\n",
              "    }\n",
              "\n",
              "    [theme=dark] .colab-df-convert {\n",
              "      background-color: #3B4455;\n",
              "      fill: #D2E3FC;\n",
              "    }\n",
              "\n",
              "    [theme=dark] .colab-df-convert:hover {\n",
              "      background-color: #434B5C;\n",
              "      box-shadow: 0px 1px 3px 1px rgba(0, 0, 0, 0.15);\n",
              "      filter: drop-shadow(0px 1px 2px rgba(0, 0, 0, 0.3));\n",
              "      fill: #FFFFFF;\n",
              "    }\n",
              "  </style>\n",
              "\n",
              "      <script>\n",
              "        const buttonEl =\n",
              "          document.querySelector('#df-903ee05a-a57d-467e-bdc5-8df74cd2fe1f button.colab-df-convert');\n",
              "        buttonEl.style.display =\n",
              "          google.colab.kernel.accessAllowed ? 'block' : 'none';\n",
              "\n",
              "        async function convertToInteractive(key) {\n",
              "          const element = document.querySelector('#df-903ee05a-a57d-467e-bdc5-8df74cd2fe1f');\n",
              "          const dataTable =\n",
              "            await google.colab.kernel.invokeFunction('convertToInteractive',\n",
              "                                                     [key], {});\n",
              "          if (!dataTable) return;\n",
              "\n",
              "          const docLinkHtml = 'Like what you see? Visit the ' +\n",
              "            '<a target=\"_blank\" href=https://colab.research.google.com/notebooks/data_table.ipynb>data table notebook</a>'\n",
              "            + ' to learn more about interactive tables.';\n",
              "          element.innerHTML = '';\n",
              "          dataTable['output_type'] = 'display_data';\n",
              "          await google.colab.output.renderOutput(dataTable, element);\n",
              "          const docLink = document.createElement('div');\n",
              "          docLink.innerHTML = docLinkHtml;\n",
              "          element.appendChild(docLink);\n",
              "        }\n",
              "      </script>\n",
              "    </div>\n",
              "  </div>\n",
              "  "
            ]
          },
          "metadata": {},
          "execution_count": 118
        }
      ]
    },
    {
      "cell_type": "code",
      "source": [
        "from statsmodels.tsa.stattools import acf\n",
        "def forecast_accuracy(forecast, actual):\n",
        "    mape = np.mean(np.abs(forecast - actual)/np.abs(actual))  # MAPE\n",
        "    me = np.mean(forecast - actual)             # ME\n",
        "    mae = np.mean(np.abs(forecast - actual))    # MAE\n",
        "    mpe = np.mean((forecast - actual)/actual)   # MPE\n",
        "    rmse = np.mean((forecast - actual)**2)**.5  # RMSE\n",
        "    corr = np.corrcoef(forecast, actual)[0,1]   # corr\n",
        "    mins = np.amin(np.hstack([forecast[:,None], \n",
        "                              actual[:,None]]), axis=1)\n",
        "    maxs = np.amax(np.hstack([forecast[:,None], \n",
        "                              actual[:,None]]), axis=1)\n",
        "    minmax = 1 - np.mean(mins/maxs)             # minmax\n",
        "    return({'mape':mape, 'me':me, 'mae': mae, \n",
        "            'mpe': mpe, 'rmse':rmse, 'corr':corr, 'minmax':minmax})\n",
        "\n",
        "print('Forecast Accuracy of: INFLACAO_d11')\n",
        "accuracy_prod = forecast_accuracy(df_results['INFLACAO_d11_forecast'].values, df1_test['INFLACAO_d11'])\n",
        "for k, v in accuracy_prod.items():\n",
        "    print(adjust(k), ': ', round(v,4))\n",
        "\n",
        "print('\\nForecast Accuracy of: CAMB_d11')\n",
        "accuracy_prod = forecast_accuracy(df_results['CAMB_d11_forecast'].values, df1_test['CAMB_d11'])\n",
        "for k, v in accuracy_prod.items():\n",
        "    print(adjust(k), ': ', round(v,4))\n",
        "\n",
        "print('\\nForecast Accuracy of: IND_d11')\n",
        "accuracy_prod = forecast_accuracy(df_results['IND_d11_forecast'].values, df1_test['IND_d11'])\n",
        "for k, v in accuracy_prod.items():\n",
        "    print(adjust(k), ': ', round(v,4))\n",
        "\n",
        "for k, v in accuracy_prod.items():\n",
        "    print(adjust(k), ': ', round(v,4))"
      ],
      "metadata": {
        "colab": {
          "base_uri": "https://localhost:8080/"
        },
        "id": "DEcKZk6Q8B_D",
        "outputId": "98f68431-c2b3-467f-85a9-a3d326b6ec42"
      },
      "execution_count": 120,
      "outputs": [
        {
          "output_type": "stream",
          "name": "stdout",
          "text": [
            "Forecast Accuracy of: INFLACAO_d11\n",
            "mape   :  0.0284\n",
            "me     :  -2.893\n",
            "mae    :  2.893\n",
            "mpe    :  -0.0284\n",
            "rmse   :  3.1127\n",
            "corr   :  0.9689\n",
            "minmax :  0.0284\n",
            "\n",
            "Forecast Accuracy of: CAMB_d11\n",
            "mape   :  0.115\n",
            "me     :  -47.9331\n",
            "mae    :  48.7341\n",
            "mpe    :  -0.1128\n",
            "rmse   :  61.8902\n",
            "corr   :  -0.9506\n",
            "minmax :  0.115\n",
            "\n",
            "Forecast Accuracy of: IND_d11\n",
            "mape   :  0.1438\n",
            "me     :  39.1535\n",
            "mae    :  39.1535\n",
            "mpe    :  0.1438\n",
            "rmse   :  42.501\n",
            "corr   :  -0.5199\n",
            "minmax :  0.1228\n",
            "mape   :  0.1438\n",
            "me     :  39.1535\n",
            "mae    :  39.1535\n",
            "mpe    :  0.1438\n",
            "rmse   :  42.501\n",
            "corr   :  -0.5199\n",
            "minmax :  0.1228\n"
          ]
        },
        {
          "output_type": "stream",
          "name": "stderr",
          "text": [
            "/usr/local/lib/python3.7/dist-packages/ipykernel_launcher.py:10: FutureWarning: Support for multi-dimensional indexing (e.g. `obj[:, None]`) is deprecated and will be removed in a future version.  Convert to a numpy array before indexing instead.\n",
            "  # Remove the CWD from sys.path while we load stuff.\n",
            "/usr/local/lib/python3.7/dist-packages/ipykernel_launcher.py:12: FutureWarning: Support for multi-dimensional indexing (e.g. `obj[:, None]`) is deprecated and will be removed in a future version.  Convert to a numpy array before indexing instead.\n",
            "  if sys.path[0] == '':\n"
          ]
        }
      ]
    },
    {
      "cell_type": "code",
      "source": [
        ""
      ],
      "metadata": {
        "id": "5QUltfGuJf_P"
      },
      "execution_count": null,
      "outputs": []
    }
  ]
}