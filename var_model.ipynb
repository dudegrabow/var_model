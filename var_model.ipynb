{
  "nbformat": 4,
  "nbformat_minor": 0,
  "metadata": {
    "colab": {
      "name": "PIBIC_DS.ipynb",
      "provenance": [],
      "mount_file_id": "18vWEXjujTEZBJZF512_DN6L-UEfg5OV2",
      "authorship_tag": "ABX9TyPqff/mGPrUfL6pe6AehsIM",
      "include_colab_link": true
    },
    "kernelspec": {
      "name": "python3",
      "display_name": "Python 3"
    },
    "language_info": {
      "name": "python"
    }
  },
  "cells": [
    {
      "cell_type": "markdown",
      "metadata": {
        "id": "view-in-github",
        "colab_type": "text"
      },
      "source": [
        "<a href=\"https://colab.research.google.com/github/dudegrabow/var_model/blob/main/var_model.ipynb\" target=\"_parent\"><img src=\"https://colab.research.google.com/assets/colab-badge.svg\" alt=\"Open In Colab\"/></a>"
      ]
    },
    {
      "cell_type": "code",
      "execution_count": 3,
      "metadata": {
        "id": "zeiw9CAVVDvG"
      },
      "outputs": [],
      "source": [
        "import pandas as pd\n",
        "import numpy as np\n",
        "import matplotlib.pyplot as plt\n",
        "import seaborn as sns\n",
        "%matplotlib inline\n",
        "from statsmodels.tsa.api import VAR\n",
        "from statsmodels.tsa.stattools import adfuller\n",
        "from statsmodels.tools.eval_measures import rmse, aic"
      ]
    },
    {
      "cell_type": "code",
      "source": [
        "from google.colab import drive\n",
        "drive.mount('/content/drive')"
      ],
      "metadata": {
        "colab": {
          "base_uri": "https://localhost:8080/"
        },
        "id": "USOqpp8hZcHn",
        "outputId": "4c4aac29-1c6f-4aba-8f63-3d53584aa957"
      },
      "execution_count": 4,
      "outputs": [
        {
          "output_type": "stream",
          "name": "stdout",
          "text": [
            "Drive already mounted at /content/drive; to attempt to forcibly remount, call drive.mount(\"/content/drive\", force_remount=True).\n"
          ]
        }
      ]
    },
    {
      "cell_type": "code",
      "source": [
        "df = pd.read_csv('/content/drive/MyDrive/DS/pibic/modelo certo.csv', encoding='utf-8')\n",
        "df.head()"
      ],
      "metadata": {
        "colab": {
          "base_uri": "https://localhost:8080/",
          "height": 206
        },
        "id": "J0IhY0ZOVRb-",
        "outputId": "3fd683ed-e2ff-474d-cfb9-945294dd8092"
      },
      "execution_count": 5,
      "outputs": [
        {
          "output_type": "execute_result",
          "data": {
            "text/plain": [
              "      obs      ANO         IND   INFLACAO      SELIC        CAMB     IND_d11  \\\n",
              "0  2002Q1  2002/T1  575.268892  38.153612  48.488200  468.233767  620.627201   \n",
              "1  2002Q2  2002/T2  604.629716  39.281481  47.095984  496.854579  603.839693   \n",
              "2  2002Q3  2002/T3  593.432672  41.960009  42.897989  615.812992  565.376990   \n",
              "3  2002Q4  2002/T4  520.755417  47.565083  52.559563  688.762544  509.841089   \n",
              "4  2003Q1  2003/T1  441.596880  50.544784  52.428753  629.068622  475.909432   \n",
              "\n",
              "   INFLACAO_d11  SELIC_d11    CAMB_d11  \n",
              "0     37.638225  47.566373  464.918415  \n",
              "1     39.519468  46.811582  507.988106  \n",
              "2     42.260026  43.097839  617.075810  \n",
              "3     47.520498  53.591319  677.406324  \n",
              "4     50.074362  51.540908  625.170567  "
            ],
            "text/html": [
              "\n",
              "  <div id=\"df-258ad3e5-04c7-4a3c-b7b6-aecac0949e25\">\n",
              "    <div class=\"colab-df-container\">\n",
              "      <div>\n",
              "<style scoped>\n",
              "    .dataframe tbody tr th:only-of-type {\n",
              "        vertical-align: middle;\n",
              "    }\n",
              "\n",
              "    .dataframe tbody tr th {\n",
              "        vertical-align: top;\n",
              "    }\n",
              "\n",
              "    .dataframe thead th {\n",
              "        text-align: right;\n",
              "    }\n",
              "</style>\n",
              "<table border=\"1\" class=\"dataframe\">\n",
              "  <thead>\n",
              "    <tr style=\"text-align: right;\">\n",
              "      <th></th>\n",
              "      <th>obs</th>\n",
              "      <th>ANO</th>\n",
              "      <th>IND</th>\n",
              "      <th>INFLACAO</th>\n",
              "      <th>SELIC</th>\n",
              "      <th>CAMB</th>\n",
              "      <th>IND_d11</th>\n",
              "      <th>INFLACAO_d11</th>\n",
              "      <th>SELIC_d11</th>\n",
              "      <th>CAMB_d11</th>\n",
              "    </tr>\n",
              "  </thead>\n",
              "  <tbody>\n",
              "    <tr>\n",
              "      <th>0</th>\n",
              "      <td>2002Q1</td>\n",
              "      <td>2002/T1</td>\n",
              "      <td>575.268892</td>\n",
              "      <td>38.153612</td>\n",
              "      <td>48.488200</td>\n",
              "      <td>468.233767</td>\n",
              "      <td>620.627201</td>\n",
              "      <td>37.638225</td>\n",
              "      <td>47.566373</td>\n",
              "      <td>464.918415</td>\n",
              "    </tr>\n",
              "    <tr>\n",
              "      <th>1</th>\n",
              "      <td>2002Q2</td>\n",
              "      <td>2002/T2</td>\n",
              "      <td>604.629716</td>\n",
              "      <td>39.281481</td>\n",
              "      <td>47.095984</td>\n",
              "      <td>496.854579</td>\n",
              "      <td>603.839693</td>\n",
              "      <td>39.519468</td>\n",
              "      <td>46.811582</td>\n",
              "      <td>507.988106</td>\n",
              "    </tr>\n",
              "    <tr>\n",
              "      <th>2</th>\n",
              "      <td>2002Q3</td>\n",
              "      <td>2002/T3</td>\n",
              "      <td>593.432672</td>\n",
              "      <td>41.960009</td>\n",
              "      <td>42.897989</td>\n",
              "      <td>615.812992</td>\n",
              "      <td>565.376990</td>\n",
              "      <td>42.260026</td>\n",
              "      <td>43.097839</td>\n",
              "      <td>617.075810</td>\n",
              "    </tr>\n",
              "    <tr>\n",
              "      <th>3</th>\n",
              "      <td>2002Q4</td>\n",
              "      <td>2002/T4</td>\n",
              "      <td>520.755417</td>\n",
              "      <td>47.565083</td>\n",
              "      <td>52.559563</td>\n",
              "      <td>688.762544</td>\n",
              "      <td>509.841089</td>\n",
              "      <td>47.520498</td>\n",
              "      <td>53.591319</td>\n",
              "      <td>677.406324</td>\n",
              "    </tr>\n",
              "    <tr>\n",
              "      <th>4</th>\n",
              "      <td>2003Q1</td>\n",
              "      <td>2003/T1</td>\n",
              "      <td>441.596880</td>\n",
              "      <td>50.544784</td>\n",
              "      <td>52.428753</td>\n",
              "      <td>629.068622</td>\n",
              "      <td>475.909432</td>\n",
              "      <td>50.074362</td>\n",
              "      <td>51.540908</td>\n",
              "      <td>625.170567</td>\n",
              "    </tr>\n",
              "  </tbody>\n",
              "</table>\n",
              "</div>\n",
              "      <button class=\"colab-df-convert\" onclick=\"convertToInteractive('df-258ad3e5-04c7-4a3c-b7b6-aecac0949e25')\"\n",
              "              title=\"Convert this dataframe to an interactive table.\"\n",
              "              style=\"display:none;\">\n",
              "        \n",
              "  <svg xmlns=\"http://www.w3.org/2000/svg\" height=\"24px\"viewBox=\"0 0 24 24\"\n",
              "       width=\"24px\">\n",
              "    <path d=\"M0 0h24v24H0V0z\" fill=\"none\"/>\n",
              "    <path d=\"M18.56 5.44l.94 2.06.94-2.06 2.06-.94-2.06-.94-.94-2.06-.94 2.06-2.06.94zm-11 1L8.5 8.5l.94-2.06 2.06-.94-2.06-.94L8.5 2.5l-.94 2.06-2.06.94zm10 10l.94 2.06.94-2.06 2.06-.94-2.06-.94-.94-2.06-.94 2.06-2.06.94z\"/><path d=\"M17.41 7.96l-1.37-1.37c-.4-.4-.92-.59-1.43-.59-.52 0-1.04.2-1.43.59L10.3 9.45l-7.72 7.72c-.78.78-.78 2.05 0 2.83L4 21.41c.39.39.9.59 1.41.59.51 0 1.02-.2 1.41-.59l7.78-7.78 2.81-2.81c.8-.78.8-2.07 0-2.86zM5.41 20L4 18.59l7.72-7.72 1.47 1.35L5.41 20z\"/>\n",
              "  </svg>\n",
              "      </button>\n",
              "      \n",
              "  <style>\n",
              "    .colab-df-container {\n",
              "      display:flex;\n",
              "      flex-wrap:wrap;\n",
              "      gap: 12px;\n",
              "    }\n",
              "\n",
              "    .colab-df-convert {\n",
              "      background-color: #E8F0FE;\n",
              "      border: none;\n",
              "      border-radius: 50%;\n",
              "      cursor: pointer;\n",
              "      display: none;\n",
              "      fill: #1967D2;\n",
              "      height: 32px;\n",
              "      padding: 0 0 0 0;\n",
              "      width: 32px;\n",
              "    }\n",
              "\n",
              "    .colab-df-convert:hover {\n",
              "      background-color: #E2EBFA;\n",
              "      box-shadow: 0px 1px 2px rgba(60, 64, 67, 0.3), 0px 1px 3px 1px rgba(60, 64, 67, 0.15);\n",
              "      fill: #174EA6;\n",
              "    }\n",
              "\n",
              "    [theme=dark] .colab-df-convert {\n",
              "      background-color: #3B4455;\n",
              "      fill: #D2E3FC;\n",
              "    }\n",
              "\n",
              "    [theme=dark] .colab-df-convert:hover {\n",
              "      background-color: #434B5C;\n",
              "      box-shadow: 0px 1px 3px 1px rgba(0, 0, 0, 0.15);\n",
              "      filter: drop-shadow(0px 1px 2px rgba(0, 0, 0, 0.3));\n",
              "      fill: #FFFFFF;\n",
              "    }\n",
              "  </style>\n",
              "\n",
              "      <script>\n",
              "        const buttonEl =\n",
              "          document.querySelector('#df-258ad3e5-04c7-4a3c-b7b6-aecac0949e25 button.colab-df-convert');\n",
              "        buttonEl.style.display =\n",
              "          google.colab.kernel.accessAllowed ? 'block' : 'none';\n",
              "\n",
              "        async function convertToInteractive(key) {\n",
              "          const element = document.querySelector('#df-258ad3e5-04c7-4a3c-b7b6-aecac0949e25');\n",
              "          const dataTable =\n",
              "            await google.colab.kernel.invokeFunction('convertToInteractive',\n",
              "                                                     [key], {});\n",
              "          if (!dataTable) return;\n",
              "\n",
              "          const docLinkHtml = 'Like what you see? Visit the ' +\n",
              "            '<a target=\"_blank\" href=https://colab.research.google.com/notebooks/data_table.ipynb>data table notebook</a>'\n",
              "            + ' to learn more about interactive tables.';\n",
              "          element.innerHTML = '';\n",
              "          dataTable['output_type'] = 'display_data';\n",
              "          await google.colab.output.renderOutput(dataTable, element);\n",
              "          const docLink = document.createElement('div');\n",
              "          docLink.innerHTML = docLinkHtml;\n",
              "          element.appendChild(docLink);\n",
              "        }\n",
              "      </script>\n",
              "    </div>\n",
              "  </div>\n",
              "  "
            ]
          },
          "metadata": {},
          "execution_count": 5
        }
      ]
    },
    {
      "cell_type": "code",
      "source": [
        "#checando os valores nulos\n",
        "df.apply(lambda x: sum(x.isnull()), axis =0)"
      ],
      "metadata": {
        "colab": {
          "base_uri": "https://localhost:8080/"
        },
        "id": "L-ZFJSzWqnFA",
        "outputId": "0f8a1426-8cd4-44c3-c433-157a8a11ad72"
      },
      "execution_count": 6,
      "outputs": [
        {
          "output_type": "execute_result",
          "data": {
            "text/plain": [
              "obs             0\n",
              "ANO             0\n",
              "IND             0\n",
              "INFLACAO        0\n",
              "SELIC           0\n",
              "CAMB            0\n",
              "IND_d11         0\n",
              "INFLACAO_d11    0\n",
              "SELIC_d11       0\n",
              "CAMB_d11        0\n",
              "dtype: int64"
            ]
          },
          "metadata": {},
          "execution_count": 6
        }
      ]
    },
    {
      "cell_type": "code",
      "source": [
        "df.describe()"
      ],
      "metadata": {
        "colab": {
          "base_uri": "https://localhost:8080/",
          "height": 300
        },
        "id": "5u6jYwfxct-2",
        "outputId": "c864bd14-a885-4c70-f969-aa98a6f4c7eb"
      },
      "execution_count": 7,
      "outputs": [
        {
          "output_type": "execute_result",
          "data": {
            "text/plain": [
              "              IND    INFLACAO      SELIC        CAMB     IND_d11  \\\n",
              "count   55.000000   55.000000  55.000000   55.000000   55.000000   \n",
              "mean   410.947277   71.491621  21.560010  394.052897  411.290247   \n",
              "std     78.045064   17.456034  12.582527   96.502723   77.350716   \n",
              "min    266.100000   38.153612   8.024563  278.569024  260.892070   \n",
              "25%    348.488190   58.918681  12.312205  323.962246  350.029464   \n",
              "50%    418.616803   71.106946  16.696954  364.904024  417.916450   \n",
              "75%    461.409676   84.683492  29.761383  443.242263  457.731922   \n",
              "max    604.629716  104.240329  52.559563  688.762544  620.627201   \n",
              "\n",
              "       INFLACAO_d11  SELIC_d11    CAMB_d11  \n",
              "count     55.000000  55.000000   55.000000  \n",
              "mean      71.487383  21.544386  394.170916  \n",
              "std       17.460868  12.543389   96.167738  \n",
              "min       37.638225   8.059848  282.139858  \n",
              "25%       58.738075  12.177104  328.397770  \n",
              "50%       71.197469  16.889500  363.269504  \n",
              "75%       84.719425  29.517637  445.720600  \n",
              "max      104.182356  53.591319  677.406324  "
            ],
            "text/html": [
              "\n",
              "  <div id=\"df-03dec6bd-19da-4cf8-89bf-b60c33a93542\">\n",
              "    <div class=\"colab-df-container\">\n",
              "      <div>\n",
              "<style scoped>\n",
              "    .dataframe tbody tr th:only-of-type {\n",
              "        vertical-align: middle;\n",
              "    }\n",
              "\n",
              "    .dataframe tbody tr th {\n",
              "        vertical-align: top;\n",
              "    }\n",
              "\n",
              "    .dataframe thead th {\n",
              "        text-align: right;\n",
              "    }\n",
              "</style>\n",
              "<table border=\"1\" class=\"dataframe\">\n",
              "  <thead>\n",
              "    <tr style=\"text-align: right;\">\n",
              "      <th></th>\n",
              "      <th>IND</th>\n",
              "      <th>INFLACAO</th>\n",
              "      <th>SELIC</th>\n",
              "      <th>CAMB</th>\n",
              "      <th>IND_d11</th>\n",
              "      <th>INFLACAO_d11</th>\n",
              "      <th>SELIC_d11</th>\n",
              "      <th>CAMB_d11</th>\n",
              "    </tr>\n",
              "  </thead>\n",
              "  <tbody>\n",
              "    <tr>\n",
              "      <th>count</th>\n",
              "      <td>55.000000</td>\n",
              "      <td>55.000000</td>\n",
              "      <td>55.000000</td>\n",
              "      <td>55.000000</td>\n",
              "      <td>55.000000</td>\n",
              "      <td>55.000000</td>\n",
              "      <td>55.000000</td>\n",
              "      <td>55.000000</td>\n",
              "    </tr>\n",
              "    <tr>\n",
              "      <th>mean</th>\n",
              "      <td>410.947277</td>\n",
              "      <td>71.491621</td>\n",
              "      <td>21.560010</td>\n",
              "      <td>394.052897</td>\n",
              "      <td>411.290247</td>\n",
              "      <td>71.487383</td>\n",
              "      <td>21.544386</td>\n",
              "      <td>394.170916</td>\n",
              "    </tr>\n",
              "    <tr>\n",
              "      <th>std</th>\n",
              "      <td>78.045064</td>\n",
              "      <td>17.456034</td>\n",
              "      <td>12.582527</td>\n",
              "      <td>96.502723</td>\n",
              "      <td>77.350716</td>\n",
              "      <td>17.460868</td>\n",
              "      <td>12.543389</td>\n",
              "      <td>96.167738</td>\n",
              "    </tr>\n",
              "    <tr>\n",
              "      <th>min</th>\n",
              "      <td>266.100000</td>\n",
              "      <td>38.153612</td>\n",
              "      <td>8.024563</td>\n",
              "      <td>278.569024</td>\n",
              "      <td>260.892070</td>\n",
              "      <td>37.638225</td>\n",
              "      <td>8.059848</td>\n",
              "      <td>282.139858</td>\n",
              "    </tr>\n",
              "    <tr>\n",
              "      <th>25%</th>\n",
              "      <td>348.488190</td>\n",
              "      <td>58.918681</td>\n",
              "      <td>12.312205</td>\n",
              "      <td>323.962246</td>\n",
              "      <td>350.029464</td>\n",
              "      <td>58.738075</td>\n",
              "      <td>12.177104</td>\n",
              "      <td>328.397770</td>\n",
              "    </tr>\n",
              "    <tr>\n",
              "      <th>50%</th>\n",
              "      <td>418.616803</td>\n",
              "      <td>71.106946</td>\n",
              "      <td>16.696954</td>\n",
              "      <td>364.904024</td>\n",
              "      <td>417.916450</td>\n",
              "      <td>71.197469</td>\n",
              "      <td>16.889500</td>\n",
              "      <td>363.269504</td>\n",
              "    </tr>\n",
              "    <tr>\n",
              "      <th>75%</th>\n",
              "      <td>461.409676</td>\n",
              "      <td>84.683492</td>\n",
              "      <td>29.761383</td>\n",
              "      <td>443.242263</td>\n",
              "      <td>457.731922</td>\n",
              "      <td>84.719425</td>\n",
              "      <td>29.517637</td>\n",
              "      <td>445.720600</td>\n",
              "    </tr>\n",
              "    <tr>\n",
              "      <th>max</th>\n",
              "      <td>604.629716</td>\n",
              "      <td>104.240329</td>\n",
              "      <td>52.559563</td>\n",
              "      <td>688.762544</td>\n",
              "      <td>620.627201</td>\n",
              "      <td>104.182356</td>\n",
              "      <td>53.591319</td>\n",
              "      <td>677.406324</td>\n",
              "    </tr>\n",
              "  </tbody>\n",
              "</table>\n",
              "</div>\n",
              "      <button class=\"colab-df-convert\" onclick=\"convertToInteractive('df-03dec6bd-19da-4cf8-89bf-b60c33a93542')\"\n",
              "              title=\"Convert this dataframe to an interactive table.\"\n",
              "              style=\"display:none;\">\n",
              "        \n",
              "  <svg xmlns=\"http://www.w3.org/2000/svg\" height=\"24px\"viewBox=\"0 0 24 24\"\n",
              "       width=\"24px\">\n",
              "    <path d=\"M0 0h24v24H0V0z\" fill=\"none\"/>\n",
              "    <path d=\"M18.56 5.44l.94 2.06.94-2.06 2.06-.94-2.06-.94-.94-2.06-.94 2.06-2.06.94zm-11 1L8.5 8.5l.94-2.06 2.06-.94-2.06-.94L8.5 2.5l-.94 2.06-2.06.94zm10 10l.94 2.06.94-2.06 2.06-.94-2.06-.94-.94-2.06-.94 2.06-2.06.94z\"/><path d=\"M17.41 7.96l-1.37-1.37c-.4-.4-.92-.59-1.43-.59-.52 0-1.04.2-1.43.59L10.3 9.45l-7.72 7.72c-.78.78-.78 2.05 0 2.83L4 21.41c.39.39.9.59 1.41.59.51 0 1.02-.2 1.41-.59l7.78-7.78 2.81-2.81c.8-.78.8-2.07 0-2.86zM5.41 20L4 18.59l7.72-7.72 1.47 1.35L5.41 20z\"/>\n",
              "  </svg>\n",
              "      </button>\n",
              "      \n",
              "  <style>\n",
              "    .colab-df-container {\n",
              "      display:flex;\n",
              "      flex-wrap:wrap;\n",
              "      gap: 12px;\n",
              "    }\n",
              "\n",
              "    .colab-df-convert {\n",
              "      background-color: #E8F0FE;\n",
              "      border: none;\n",
              "      border-radius: 50%;\n",
              "      cursor: pointer;\n",
              "      display: none;\n",
              "      fill: #1967D2;\n",
              "      height: 32px;\n",
              "      padding: 0 0 0 0;\n",
              "      width: 32px;\n",
              "    }\n",
              "\n",
              "    .colab-df-convert:hover {\n",
              "      background-color: #E2EBFA;\n",
              "      box-shadow: 0px 1px 2px rgba(60, 64, 67, 0.3), 0px 1px 3px 1px rgba(60, 64, 67, 0.15);\n",
              "      fill: #174EA6;\n",
              "    }\n",
              "\n",
              "    [theme=dark] .colab-df-convert {\n",
              "      background-color: #3B4455;\n",
              "      fill: #D2E3FC;\n",
              "    }\n",
              "\n",
              "    [theme=dark] .colab-df-convert:hover {\n",
              "      background-color: #434B5C;\n",
              "      box-shadow: 0px 1px 3px 1px rgba(0, 0, 0, 0.15);\n",
              "      filter: drop-shadow(0px 1px 2px rgba(0, 0, 0, 0.3));\n",
              "      fill: #FFFFFF;\n",
              "    }\n",
              "  </style>\n",
              "\n",
              "      <script>\n",
              "        const buttonEl =\n",
              "          document.querySelector('#df-03dec6bd-19da-4cf8-89bf-b60c33a93542 button.colab-df-convert');\n",
              "        buttonEl.style.display =\n",
              "          google.colab.kernel.accessAllowed ? 'block' : 'none';\n",
              "\n",
              "        async function convertToInteractive(key) {\n",
              "          const element = document.querySelector('#df-03dec6bd-19da-4cf8-89bf-b60c33a93542');\n",
              "          const dataTable =\n",
              "            await google.colab.kernel.invokeFunction('convertToInteractive',\n",
              "                                                     [key], {});\n",
              "          if (!dataTable) return;\n",
              "\n",
              "          const docLinkHtml = 'Like what you see? Visit the ' +\n",
              "            '<a target=\"_blank\" href=https://colab.research.google.com/notebooks/data_table.ipynb>data table notebook</a>'\n",
              "            + ' to learn more about interactive tables.';\n",
              "          element.innerHTML = '';\n",
              "          dataTable['output_type'] = 'display_data';\n",
              "          await google.colab.output.renderOutput(dataTable, element);\n",
              "          const docLink = document.createElement('div');\n",
              "          docLink.innerHTML = docLinkHtml;\n",
              "          element.appendChild(docLink);\n",
              "        }\n",
              "      </script>\n",
              "    </div>\n",
              "  </div>\n",
              "  "
            ]
          },
          "metadata": {},
          "execution_count": 7
        }
      ]
    },
    {
      "cell_type": "code",
      "source": [
        "#checando os valores nulos\n",
        "df.apply(lambda x: sum(x.isnull()), axis =0)"
      ],
      "metadata": {
        "colab": {
          "base_uri": "https://localhost:8080/"
        },
        "id": "qvyls4CX08Gw",
        "outputId": "be4d1e59-cb58-4404-96ae-ce95abdc157d"
      },
      "execution_count": 8,
      "outputs": [
        {
          "output_type": "execute_result",
          "data": {
            "text/plain": [
              "obs             0\n",
              "ANO             0\n",
              "IND             0\n",
              "INFLACAO        0\n",
              "SELIC           0\n",
              "CAMB            0\n",
              "IND_d11         0\n",
              "INFLACAO_d11    0\n",
              "SELIC_d11       0\n",
              "CAMB_d11        0\n",
              "dtype: int64"
            ]
          },
          "metadata": {},
          "execution_count": 8
        }
      ]
    },
    {
      "cell_type": "code",
      "source": [
        "#tirando NA, se houver\n",
        "df = df.dropna(axis=0)\n",
        "df.describe"
      ],
      "metadata": {
        "colab": {
          "base_uri": "https://localhost:8080/"
        },
        "id": "_1x8O2RFdZ97",
        "outputId": "927933a0-26fb-46bd-e019-544b7af9d0a3"
      },
      "execution_count": 9,
      "outputs": [
        {
          "output_type": "execute_result",
          "data": {
            "text/plain": [
              "<bound method NDFrame.describe of        obs      ANO         IND    INFLACAO      SELIC        CAMB  \\\n",
              "0   2002Q1  2002/T1  575.268892   38.153612  48.488200  468.233767   \n",
              "1   2002Q2  2002/T2  604.629716   39.281481  47.095984  496.854579   \n",
              "2   2002Q3  2002/T3  593.432672   41.960009  42.897989  615.812992   \n",
              "3   2002Q4  2002/T4  520.755417   47.565083  52.559563  688.762544   \n",
              "4   2003Q1  2003/T1  441.596880   50.544784  52.428753  629.068622   \n",
              "5   2003Q2  2003/T2  461.596739   50.368399  51.619668  532.550605   \n",
              "6   2003Q3  2003/T3  488.044053   50.941547  39.260684  521.254057   \n",
              "7   2003Q4  2003/T4  488.420997   51.699140  31.915425  523.508385   \n",
              "8   2004Q1  2004/T1  447.594818   53.107363  30.598394  528.828354   \n",
              "9   2004Q2  2004/T2  461.222613   55.205553  28.982592  544.262294   \n",
              "10  2004Q3  2004/T3  481.192944   57.001693  28.507925  529.194413   \n",
              "11  2004Q4  2004/T4  464.547852   58.120166  30.540174  506.878493   \n",
              "12  2005Q1  2005/T1  415.798961   59.019312  32.616443  483.156453   \n",
              "13  2005Q2  2005/T2  455.731453   59.134576  33.398396  439.111994   \n",
              "14  2005Q3  2005/T3  477.524680   58.240134  33.482066  414.103223   \n",
              "15  2005Q4  2005/T4  463.661077   58.818050  30.602850  393.315525   \n",
              "16  2006Q1  2006/T1  432.715516   59.228573  27.858176  384.508967   \n",
              "17  2006Q2  2006/T2  456.353910   59.647965  25.566673  388.938766   \n",
              "18  2006Q3  2006/T3  474.810000   60.150358  23.690632  390.227615   \n",
              "19  2006Q4  2006/T4  459.089232   61.081149  21.692454  386.902796   \n",
              "20  2007Q1  2007/T1  430.674152   61.761576  20.643903  378.770532   \n",
              "21  2007Q2  2007/T2  463.787560   61.971704  19.363676  361.634298   \n",
              "22  2007Q3  2007/T3  476.876869   63.563778  17.698759  352.395417   \n",
              "23  2007Q4  2007/T4  460.077329   65.812662  17.093975  336.633612   \n",
              "24  2008Q1  2008/T1  420.914020   67.377561  16.696954  332.623701   \n",
              "25  2008Q2  2008/T2  433.872793   70.299637  17.425410  321.313940   \n",
              "26  2008Q3  2008/T3  452.057194   71.386431  19.261363  315.265002   \n",
              "27  2008Q4  2008/T4  392.566293   72.265877  19.026961  391.699700   \n",
              "28  2009Q1  2009/T1  339.960909   71.601173  15.712033  388.132499   \n",
              "29  2009Q2  2009/T2  376.487808   71.372282  12.960213  354.660153   \n",
              "30  2009Q3  2009/T3  417.256267   71.106946  12.305408  326.212551   \n",
              "31  2009Q4  2009/T4  423.922806   71.028486  12.319001  310.155817   \n",
              "32  2010Q1  2010/T1  390.832470   72.999185  11.986435  312.591897   \n",
              "33  2010Q2  2010/T2  407.746392   75.069369  13.654038  299.066403   \n",
              "34  2010Q3  2010/T3  418.616803   76.632124  14.028059  296.362291   \n",
              "35  2010Q4  2010/T4  393.441553   79.070344  13.595489  291.979409   \n",
              "36  2011Q1  2011/T1  361.767192   80.991000  14.507785  286.444126   \n",
              "37  2011Q2  2011/T2  376.930952   81.558218  15.019946  278.569024   \n",
              "38  2011Q3  2011/T3  390.654047   82.350596  14.571844  284.917762   \n",
              "39  2011Q4  2011/T4  368.467481   83.101148  13.236881  303.514547   \n",
              "40  2012Q1  2012/T1  332.698542   83.616929  11.660318  296.361928   \n",
              "41  2012Q2  2012/T2  342.387537   85.750055   9.912530  322.403483   \n",
              "42  2012Q3  2012/T3  358.909080   88.996738   8.427275  328.817045   \n",
              "43  2012Q4  2012/T4  344.679475   89.592950   8.092155  334.924320   \n",
              "44  2013Q1  2013/T1  310.239129   90.347601   8.024563  320.520392   \n",
              "45  2013Q2  2013/T2  338.416200   91.161746   8.775611  325.521009   \n",
              "46  2013Q3  2013/T3  352.296904   92.908903   9.686908  359.480381   \n",
              "47  2013Q4  2013/T4  326.635102   94.543551  10.577136  357.225816   \n",
              "48  2014Q1  2014/T1  291.081831   96.950834  11.088094  364.904024   \n",
              "49  2014Q2  2014/T2  302.104869   96.857939  11.356839  337.981937   \n",
              "50  2014Q3  2014/T3  328.805107   96.199199  11.434607  340.681322   \n",
              "51  2014Q4  2014/T4  302.812482   98.017915  11.987605  366.050040   \n",
              "52  2015Q1  2015/T1  266.100000  100.000000  12.750000  383.323192   \n",
              "53  2015Q2  2015/T2  268.327903  102.265415  13.445406  398.924774   \n",
              "54  2015Q3  2015/T3  275.706765  104.240329  13.670333  447.372532   \n",
              "\n",
              "       IND_d11  INFLACAO_d11  SELIC_d11    CAMB_d11  \n",
              "0   620.627201     37.638225  47.566373  464.918415  \n",
              "1   603.839693     39.519468  46.811582  507.988106  \n",
              "2   565.376990     42.260026  43.097839  617.075810  \n",
              "3   509.841089     47.520498  53.591319  677.406324  \n",
              "4   475.909432     50.074362  51.540908  625.170567  \n",
              "5   460.870534     50.578095  51.347169  543.438604  \n",
              "6   465.130758     51.234489  39.361558  522.201501  \n",
              "7   478.935968     51.640616  32.481448  515.983591  \n",
              "8   481.236315     52.715410  30.214938  525.964161  \n",
              "9   460.364139     55.364808  28.820336  553.395269  \n",
              "10  459.080291     57.261757  28.530953  529.670931  \n",
              "11  456.352732     58.053069  30.956208  501.995312  \n",
              "12  445.733533     58.740002  32.370246  480.870066  \n",
              "13  454.882224     59.226044  33.299799  443.891243  \n",
              "14  455.685312     58.465706  33.439707  414.745816  \n",
              "15  456.383554     58.736147  30.766097  391.503151  \n",
              "16  463.105997     59.058101  27.826631  382.064348  \n",
              "17  455.339542     59.679994  25.629563  391.656336  \n",
              "18  453.039346     60.344015  23.580215  391.310057  \n",
              "19  452.496654     60.991641  21.612830  386.669725  \n",
              "20  460.509231     61.674939  20.758749  375.512748  \n",
              "21  462.978954     61.957661  19.519685  363.324281  \n",
              "22  454.428667     63.740984  17.555648  354.203608  \n",
              "23  453.927183     65.718980  16.910478  336.721337  \n",
              "24  449.979289     67.320739  16.889500  328.800845  \n",
              "25  433.525263     70.290891  17.601449  323.279849  \n",
              "26  430.388144     71.526721  19.068254  317.352115  \n",
              "27  387.241923     72.169666  18.778015  391.169157  \n",
              "28  363.221040     71.591256  15.939148  383.451905  \n",
              "29  377.040153     71.363542  13.072438  357.277187  \n",
              "30  396.695277     71.197469  12.194299  328.864693  \n",
              "31  417.916450     70.936618  12.158500  308.528108  \n",
              "32  417.669968     73.017709  12.159909  309.242736  \n",
              "33  409.040454     75.085307  13.732951  301.986294  \n",
              "34  397.590958     76.660481  13.931124  298.666063  \n",
              "35  387.563252     79.003085  13.454968  289.306015  \n",
              "36  386.638258     81.016921  14.693350  283.969105  \n",
              "37  378.772292     81.592539  15.030872  282.139858  \n",
              "38  370.556973     82.338098  14.524194  286.781779  \n",
              "39  362.883216     83.064106  13.158115  299.414168  \n",
              "40  355.659504     83.614144  11.764566  294.447186  \n",
              "41  344.399425     85.824706   9.877825  327.994695  \n",
              "42  340.200799     88.942050   8.429821  330.092870  \n",
              "43  339.233951     89.585596   8.078203  329.318745  \n",
              "44  331.870520     90.336690   8.059848  318.857915  \n",
              "45  340.672159     91.238081   8.728031  332.495493  \n",
              "46  333.639349     92.837234   9.717203  360.326031  \n",
              "47  321.263653     94.559932  10.576928  350.146387  \n",
              "48  311.773443     96.934366  11.103128  363.269504  \n",
              "49  304.194580     96.922822  11.302193  346.462212  \n",
              "50  311.238473     96.119793  11.474921  340.948445  \n",
              "51  297.548997     98.068768  11.996548  358.429990  \n",
              "52  285.374536     99.973028  12.752032  381.215791  \n",
              "53  270.203886    102.296315  13.384956  409.933981  \n",
              "54  260.892070    104.182356  13.717654  447.549957  >"
            ]
          },
          "metadata": {},
          "execution_count": 9
        }
      ]
    },
    {
      "cell_type": "code",
      "source": [
        "#como SELIC_d11 esta distribuído\n",
        "sns.distplot(df.SELIC_d11,kde=False)"
      ],
      "metadata": {
        "colab": {
          "base_uri": "https://localhost:8080/",
          "height": 356
        },
        "id": "4TvuxPyeokRj",
        "outputId": "11006b45-b63e-44cb-ae24-211fc14ffab0"
      },
      "execution_count": 10,
      "outputs": [
        {
          "output_type": "stream",
          "name": "stderr",
          "text": [
            "/usr/local/lib/python3.7/dist-packages/seaborn/distributions.py:2619: FutureWarning: `distplot` is a deprecated function and will be removed in a future version. Please adapt your code to use either `displot` (a figure-level function with similar flexibility) or `histplot` (an axes-level function for histograms).\n",
            "  warnings.warn(msg, FutureWarning)\n"
          ]
        },
        {
          "output_type": "execute_result",
          "data": {
            "text/plain": [
              "<matplotlib.axes._subplots.AxesSubplot at 0x7f9374cb0550>"
            ]
          },
          "metadata": {},
          "execution_count": 10
        },
        {
          "output_type": "display_data",
          "data": {
            "text/plain": [
              "<Figure size 432x288 with 1 Axes>"
            ],
            "image/png": "[encoded data removed]"
          },
          "metadata": {
            "needs_background": "light"
          }
        }
      ]
    },
    {
      "cell_type": "code",
      "source": [
        "#como CAMB_d11 esta distribuído\n",
        "sns.distplot(df.CAMB_d11,kde=False)"
      ],
      "metadata": {
        "colab": {
          "base_uri": "https://localhost:8080/",
          "height": 355
        },
        "id": "v4DQ3mAIot1Y",
        "outputId": "9214f71a-443a-43c3-9449-129d865d4ae2"
      },
      "execution_count": 11,
      "outputs": [
        {
          "output_type": "stream",
          "name": "stderr",
          "text": [
            "/usr/local/lib/python3.7/dist-packages/seaborn/distributions.py:2619: FutureWarning: `distplot` is a deprecated function and will be removed in a future version. Please adapt your code to use either `displot` (a figure-level function with similar flexibility) or `histplot` (an axes-level function for histograms).\n",
            "  warnings.warn(msg, FutureWarning)\n"
          ]
        },
        {
          "output_type": "execute_result",
          "data": {
            "text/plain": [
              "<matplotlib.axes._subplots.AxesSubplot at 0x7f9360e94fd0>"
            ]
          },
          "metadata": {},
          "execution_count": 11
        },
        {
          "output_type": "display_data",
          "data": {
            "text/plain": [
              "<Figure size 432x288 with 1 Axes>"
            ],
            "image/png": "[encoded data removed]"
          },
          "metadata": {
            "needs_background": "light"
          }
        }
      ]
    },
    {
      "cell_type": "code",
      "source": [
        "#como IND esta distribuído\n",
        "sns.distplot(df.IND_d11,kde=False)"
      ],
      "metadata": {
        "colab": {
          "base_uri": "https://localhost:8080/",
          "height": 355
        },
        "id": "6aqyaNYKpBYB",
        "outputId": "f6a8d9d2-9bd0-4ea3-f0d1-e3ccd0b3030c"
      },
      "execution_count": 12,
      "outputs": [
        {
          "output_type": "stream",
          "name": "stderr",
          "text": [
            "/usr/local/lib/python3.7/dist-packages/seaborn/distributions.py:2619: FutureWarning: `distplot` is a deprecated function and will be removed in a future version. Please adapt your code to use either `displot` (a figure-level function with similar flexibility) or `histplot` (an axes-level function for histograms).\n",
            "  warnings.warn(msg, FutureWarning)\n"
          ]
        },
        {
          "output_type": "execute_result",
          "data": {
            "text/plain": [
              "<matplotlib.axes._subplots.AxesSubplot at 0x7f9360956f90>"
            ]
          },
          "metadata": {},
          "execution_count": 12
        },
        {
          "output_type": "display_data",
          "data": {
            "text/plain": [
              "<Figure size 432x288 with 1 Axes>"
            ],
            "image/png": "[encoded data removed]"
          },
          "metadata": {
            "needs_background": "light"
          }
        }
      ]
    },
    {
      "cell_type": "code",
      "source": [
        "fig, axes = plt.subplots(nrows=5, ncols=2, dpi=120, figsize=(10,6))\n",
        "for i, ax in enumerate(axes.flatten()):\n",
        "    data = df[df.columns[i]]\n",
        "    ax.plot(data, color='red', linewidth=1)\n",
        "    ax.set_title(df.columns[i])\n",
        "    ax.xaxis.set_ticks_position('none')\n",
        "    ax.yaxis.set_ticks_position('none')\n",
        "    ax.spines[\"top\"].set_alpha(0)\n",
        "    ax.tick_params(labelsize=6)\n",
        "\n",
        "plt.tight_layout();"
      ],
      "metadata": {
        "colab": {
          "base_uri": "https://localhost:8080/",
          "height": 724
        },
        "id": "b4UhM0RNRTRC",
        "outputId": "7b442121-d0ae-4de9-a047-1a97aab0ca3b"
      },
      "execution_count": 13,
      "outputs": [
        {
          "output_type": "display_data",
          "data": {
            "text/plain": [
              "<Figure size 1200x720 with 10 Axes>"
            ],
            "image/png": "[encoded data removed]"
          },
          "metadata": {
            "needs_background": "light"
          }
        }
      ]
    },
    {
      "cell_type": "code",
      "source": [
        "df1 = df[['INFLACAO_d11', 'CAMB_d11', 'IND_d11', 'SELIC_d11']]"
      ],
      "metadata": {
        "id": "5H3ZRk4MpM2t"
      },
      "execution_count": 144,
      "outputs": []
    },
    {
      "cell_type": "code",
      "source": [
        "df1"
      ],
      "metadata": {
        "id": "rd6iYbQRpVzS",
        "colab": {
          "base_uri": "https://localhost:8080/",
          "height": 1000
        },
        "outputId": "83409276-7d36-4e3c-cc96-350862dc955c"
      },
      "execution_count": 145,
      "outputs": [
        {
          "output_type": "execute_result",
          "data": {
            "text/plain": [
              "    INFLACAO_d11    CAMB_d11     IND_d11  SELIC_d11\n",
              "0      37.638225  464.918415  620.627201  47.566373\n",
              "1      39.519468  507.988106  603.839693  46.811582\n",
              "2      42.260026  617.075810  565.376990  43.097839\n",
              "3      47.520498  677.406324  509.841089  53.591319\n",
              "4      50.074362  625.170567  475.909432  51.540908\n",
              "5      50.578095  543.438604  460.870534  51.347169\n",
              "6      51.234489  522.201501  465.130758  39.361558\n",
              "7      51.640616  515.983591  478.935968  32.481448\n",
              "8      52.715410  525.964161  481.236315  30.214938\n",
              "9      55.364808  553.395269  460.364139  28.820336\n",
              "10     57.261757  529.670931  459.080291  28.530953\n",
              "11     58.053069  501.995312  456.352732  30.956208\n",
              "12     58.740002  480.870066  445.733533  32.370246\n",
              "13     59.226044  443.891243  454.882224  33.299799\n",
              "14     58.465706  414.745816  455.685312  33.439707\n",
              "15     58.736147  391.503151  456.383554  30.766097\n",
              "16     59.058101  382.064348  463.105997  27.826631\n",
              "17     59.679994  391.656336  455.339542  25.629563\n",
              "18     60.344015  391.310057  453.039346  23.580215\n",
              "19     60.991641  386.669725  452.496654  21.612830\n",
              "20     61.674939  375.512748  460.509231  20.758749\n",
              "21     61.957661  363.324281  462.978954  19.519685\n",
              "22     63.740984  354.203608  454.428667  17.555648\n",
              "23     65.718980  336.721337  453.927183  16.910478\n",
              "24     67.320739  328.800845  449.979289  16.889500\n",
              "25     70.290891  323.279849  433.525263  17.601449\n",
              "26     71.526721  317.352115  430.388144  19.068254\n",
              "27     72.169666  391.169157  387.241923  18.778015\n",
              "28     71.591256  383.451905  363.221040  15.939148\n",
              "29     71.363542  357.277187  377.040153  13.072438\n",
              "30     71.197469  328.864693  396.695277  12.194299\n",
              "31     70.936618  308.528108  417.916450  12.158500\n",
              "32     73.017709  309.242736  417.669968  12.159909\n",
              "33     75.085307  301.986294  409.040454  13.732951\n",
              "34     76.660481  298.666063  397.590958  13.931124\n",
              "35     79.003085  289.306015  387.563252  13.454968\n",
              "36     81.016921  283.969105  386.638258  14.693350\n",
              "37     81.592539  282.139858  378.772292  15.030872\n",
              "38     82.338098  286.781779  370.556973  14.524194\n",
              "39     83.064106  299.414168  362.883216  13.158115\n",
              "40     83.614144  294.447186  355.659504  11.764566\n",
              "41     85.824706  327.994695  344.399425   9.877825\n",
              "42     88.942050  330.092870  340.200799   8.429821\n",
              "43     89.585596  329.318745  339.233951   8.078203\n",
              "44     90.336690  318.857915  331.870520   8.059848\n",
              "45     91.238081  332.495493  340.672159   8.728031\n",
              "46     92.837234  360.326031  333.639349   9.717203\n",
              "47     94.559932  350.146387  321.263653  10.576928\n",
              "48     96.934366  363.269504  311.773443  11.103128\n",
              "49     96.922822  346.462212  304.194580  11.302193\n",
              "50     96.119793  340.948445  311.238473  11.474921\n",
              "51     98.068768  358.429990  297.548997  11.996548\n",
              "52     99.973028  381.215791  285.374536  12.752032\n",
              "53    102.296315  409.933981  270.203886  13.384956\n",
              "54    104.182356  447.549957  260.892070  13.717654"
            ],
            "text/html": [
              "\n",
              "  <div id=\"df-41231caa-3f5c-4517-aee5-f5f4686254d6\">\n",
              "    <div class=\"colab-df-container\">\n",
              "      <div>\n",
              "<style scoped>\n",
              "    .dataframe tbody tr th:only-of-type {\n",
              "        vertical-align: middle;\n",
              "    }\n",
              "\n",
              "    .dataframe tbody tr th {\n",
              "        vertical-align: top;\n",
              "    }\n",
              "\n",
              "    .dataframe thead th {\n",
              "        text-align: right;\n",
              "    }\n",
              "</style>\n",
              "<table border=\"1\" class=\"dataframe\">\n",
              "  <thead>\n",
              "    <tr style=\"text-align: right;\">\n",
              "      <th></th>\n",
              "      <th>INFLACAO_d11</th>\n",
              "      <th>CAMB_d11</th>\n",
              "      <th>IND_d11</th>\n",
              "      <th>SELIC_d11</th>\n",
              "    </tr>\n",
              "  </thead>\n",
              "  <tbody>\n",
              "    <tr>\n",
              "      <th>0</th>\n",
              "      <td>37.638225</td>\n",
              "      <td>464.918415</td>\n",
              "      <td>620.627201</td>\n",
              "      <td>47.566373</td>\n",
              "    </tr>\n",
              "    <tr>\n",
              "      <th>1</th>\n",
              "      <td>39.519468</td>\n",
              "      <td>507.988106</td>\n",
              "      <td>603.839693</td>\n",
              "      <td>46.811582</td>\n",
              "    </tr>\n",
              "    <tr>\n",
              "      <th>2</th>\n",
              "      <td>42.260026</td>\n",
              "      <td>617.075810</td>\n",
              "      <td>565.376990</td>\n",
              "      <td>43.097839</td>\n",
              "    </tr>\n",
              "    <tr>\n",
              "      <th>3</th>\n",
              "      <td>47.520498</td>\n",
              "      <td>677.406324</td>\n",
              "      <td>509.841089</td>\n",
              "      <td>53.591319</td>\n",
              "    </tr>\n",
              "    <tr>\n",
              "      <th>4</th>\n",
              "      <td>50.074362</td>\n",
              "      <td>625.170567</td>\n",
              "      <td>475.909432</td>\n",
              "      <td>51.540908</td>\n",
              "    </tr>\n",
              "    <tr>\n",
              "      <th>5</th>\n",
              "      <td>50.578095</td>\n",
              "      <td>543.438604</td>\n",
              "      <td>460.870534</td>\n",
              "      <td>51.347169</td>\n",
              "    </tr>\n",
              "    <tr>\n",
              "      <th>6</th>\n",
              "      <td>51.234489</td>\n",
              "      <td>522.201501</td>\n",
              "      <td>465.130758</td>\n",
              "      <td>39.361558</td>\n",
              "    </tr>\n",
              "    <tr>\n",
              "      <th>7</th>\n",
              "      <td>51.640616</td>\n",
              "      <td>515.983591</td>\n",
              "      <td>478.935968</td>\n",
              "      <td>32.481448</td>\n",
              "    </tr>\n",
              "    <tr>\n",
              "      <th>8</th>\n",
              "      <td>52.715410</td>\n",
              "      <td>525.964161</td>\n",
              "      <td>481.236315</td>\n",
              "      <td>30.214938</td>\n",
              "    </tr>\n",
              "    <tr>\n",
              "      <th>9</th>\n",
              "      <td>55.364808</td>\n",
              "      <td>553.395269</td>\n",
              "      <td>460.364139</td>\n",
              "      <td>28.820336</td>\n",
              "    </tr>\n",
              "    <tr>\n",
              "      <th>10</th>\n",
              "      <td>57.261757</td>\n",
              "      <td>529.670931</td>\n",
              "      <td>459.080291</td>\n",
              "      <td>28.530953</td>\n",
              "    </tr>\n",
              "    <tr>\n",
              "      <th>11</th>\n",
              "      <td>58.053069</td>\n",
              "      <td>501.995312</td>\n",
              "      <td>456.352732</td>\n",
              "      <td>30.956208</td>\n",
              "    </tr>\n",
              "    <tr>\n",
              "      <th>12</th>\n",
              "      <td>58.740002</td>\n",
              "      <td>480.870066</td>\n",
              "      <td>445.733533</td>\n",
              "      <td>32.370246</td>\n",
              "    </tr>\n",
              "    <tr>\n",
              "      <th>13</th>\n",
              "      <td>59.226044</td>\n",
              "      <td>443.891243</td>\n",
              "      <td>454.882224</td>\n",
              "      <td>33.299799</td>\n",
              "    </tr>\n",
              "    <tr>\n",
              "      <th>14</th>\n",
              "      <td>58.465706</td>\n",
              "      <td>414.745816</td>\n",
              "      <td>455.685312</td>\n",
              "      <td>33.439707</td>\n",
              "    </tr>\n",
              "    <tr>\n",
              "      <th>15</th>\n",
              "      <td>58.736147</td>\n",
              "      <td>391.503151</td>\n",
              "      <td>456.383554</td>\n",
              "      <td>30.766097</td>\n",
              "    </tr>\n",
              "    <tr>\n",
              "      <th>16</th>\n",
              "      <td>59.058101</td>\n",
              "      <td>382.064348</td>\n",
              "      <td>463.105997</td>\n",
              "      <td>27.826631</td>\n",
              "    </tr>\n",
              "    <tr>\n",
              "      <th>17</th>\n",
              "      <td>59.679994</td>\n",
              "      <td>391.656336</td>\n",
              "      <td>455.339542</td>\n",
              "      <td>25.629563</td>\n",
              "    </tr>\n",
              "    <tr>\n",
              "      <th>18</th>\n",
              "      <td>60.344015</td>\n",
              "      <td>391.310057</td>\n",
              "      <td>453.039346</td>\n",
              "      <td>23.580215</td>\n",
              "    </tr>\n",
              "    <tr>\n",
              "      <th>19</th>\n",
              "      <td>60.991641</td>\n",
              "      <td>386.669725</td>\n",
              "      <td>452.496654</td>\n",
              "      <td>21.612830</td>\n",
              "    </tr>\n",
              "    <tr>\n",
              "      <th>20</th>\n",
              "      <td>61.674939</td>\n",
              "      <td>375.512748</td>\n",
              "      <td>460.509231</td>\n",
              "      <td>20.758749</td>\n",
              "    </tr>\n",
              "    <tr>\n",
              "      <th>21</th>\n",
              "      <td>61.957661</td>\n",
              "      <td>363.324281</td>\n",
              "      <td>462.978954</td>\n",
              "      <td>19.519685</td>\n",
              "    </tr>\n",
              "    <tr>\n",
              "      <th>22</th>\n",
              "      <td>63.740984</td>\n",
              "      <td>354.203608</td>\n",
              "      <td>454.428667</td>\n",
              "      <td>17.555648</td>\n",
              "    </tr>\n",
              "    <tr>\n",
              "      <th>23</th>\n",
              "      <td>65.718980</td>\n",
              "      <td>336.721337</td>\n",
              "      <td>453.927183</td>\n",
              "      <td>16.910478</td>\n",
              "    </tr>\n",
              "    <tr>\n",
              "      <th>24</th>\n",
              "      <td>67.320739</td>\n",
              "      <td>328.800845</td>\n",
              "      <td>449.979289</td>\n",
              "      <td>16.889500</td>\n",
              "    </tr>\n",
              "    <tr>\n",
              "      <th>25</th>\n",
              "      <td>70.290891</td>\n",
              "      <td>323.279849</td>\n",
              "      <td>433.525263</td>\n",
              "      <td>17.601449</td>\n",
              "    </tr>\n",
              "    <tr>\n",
              "      <th>26</th>\n",
              "      <td>71.526721</td>\n",
              "      <td>317.352115</td>\n",
              "      <td>430.388144</td>\n",
              "      <td>19.068254</td>\n",
              "    </tr>\n",
              "    <tr>\n",
              "      <th>27</th>\n",
              "      <td>72.169666</td>\n",
              "      <td>391.169157</td>\n",
              "      <td>387.241923</td>\n",
              "      <td>18.778015</td>\n",
              "    </tr>\n",
              "    <tr>\n",
              "      <th>28</th>\n",
              "      <td>71.591256</td>\n",
              "      <td>383.451905</td>\n",
              "      <td>363.221040</td>\n",
              "      <td>15.939148</td>\n",
              "    </tr>\n",
              "    <tr>\n",
              "      <th>29</th>\n",
              "      <td>71.363542</td>\n",
              "      <td>357.277187</td>\n",
              "      <td>377.040153</td>\n",
              "      <td>13.072438</td>\n",
              "    </tr>\n",
              "    <tr>\n",
              "      <th>30</th>\n",
              "      <td>71.197469</td>\n",
              "      <td>328.864693</td>\n",
              "      <td>396.695277</td>\n",
              "      <td>12.194299</td>\n",
              "    </tr>\n",
              "    <tr>\n",
              "      <th>31</th>\n",
              "      <td>70.936618</td>\n",
              "      <td>308.528108</td>\n",
              "      <td>417.916450</td>\n",
              "      <td>12.158500</td>\n",
              "    </tr>\n",
              "    <tr>\n",
              "      <th>32</th>\n",
              "      <td>73.017709</td>\n",
              "      <td>309.242736</td>\n",
              "      <td>417.669968</td>\n",
              "      <td>12.159909</td>\n",
              "    </tr>\n",
              "    <tr>\n",
              "      <th>33</th>\n",
              "      <td>75.085307</td>\n",
              "      <td>301.986294</td>\n",
              "      <td>409.040454</td>\n",
              "      <td>13.732951</td>\n",
              "    </tr>\n",
              "    <tr>\n",
              "      <th>34</th>\n",
              "      <td>76.660481</td>\n",
              "      <td>298.666063</td>\n",
              "      <td>397.590958</td>\n",
              "      <td>13.931124</td>\n",
              "    </tr>\n",
              "    <tr>\n",
              "      <th>35</th>\n",
              "      <td>79.003085</td>\n",
              "      <td>289.306015</td>\n",
              "      <td>387.563252</td>\n",
              "      <td>13.454968</td>\n",
              "    </tr>\n",
              "    <tr>\n",
              "      <th>36</th>\n",
              "      <td>81.016921</td>\n",
              "      <td>283.969105</td>\n",
              "      <td>386.638258</td>\n",
              "      <td>14.693350</td>\n",
              "    </tr>\n",
              "    <tr>\n",
              "      <th>37</th>\n",
              "      <td>81.592539</td>\n",
              "      <td>282.139858</td>\n",
              "      <td>378.772292</td>\n",
              "      <td>15.030872</td>\n",
              "    </tr>\n",
              "    <tr>\n",
              "      <th>38</th>\n",
              "      <td>82.338098</td>\n",
              "      <td>286.781779</td>\n",
              "      <td>370.556973</td>\n",
              "      <td>14.524194</td>\n",
              "    </tr>\n",
              "    <tr>\n",
              "      <th>39</th>\n",
              "      <td>83.064106</td>\n",
              "      <td>299.414168</td>\n",
              "      <td>362.883216</td>\n",
              "      <td>13.158115</td>\n",
              "    </tr>\n",
              "    <tr>\n",
              "      <th>40</th>\n",
              "      <td>83.614144</td>\n",
              "      <td>294.447186</td>\n",
              "      <td>355.659504</td>\n",
              "      <td>11.764566</td>\n",
              "    </tr>\n",
              "    <tr>\n",
              "      <th>41</th>\n",
              "      <td>85.824706</td>\n",
              "      <td>327.994695</td>\n",
              "      <td>344.399425</td>\n",
              "      <td>9.877825</td>\n",
              "    </tr>\n",
              "    <tr>\n",
              "      <th>42</th>\n",
              "      <td>88.942050</td>\n",
              "      <td>330.092870</td>\n",
              "      <td>340.200799</td>\n",
              "      <td>8.429821</td>\n",
              "    </tr>\n",
              "    <tr>\n",
              "      <th>43</th>\n",
              "      <td>89.585596</td>\n",
              "      <td>329.318745</td>\n",
              "      <td>339.233951</td>\n",
              "      <td>8.078203</td>\n",
              "    </tr>\n",
              "    <tr>\n",
              "      <th>44</th>\n",
              "      <td>90.336690</td>\n",
              "      <td>318.857915</td>\n",
              "      <td>331.870520</td>\n",
              "      <td>8.059848</td>\n",
              "    </tr>\n",
              "    <tr>\n",
              "      <th>45</th>\n",
              "      <td>91.238081</td>\n",
              "      <td>332.495493</td>\n",
              "      <td>340.672159</td>\n",
              "      <td>8.728031</td>\n",
              "    </tr>\n",
              "    <tr>\n",
              "      <th>46</th>\n",
              "      <td>92.837234</td>\n",
              "      <td>360.326031</td>\n",
              "      <td>333.639349</td>\n",
              "      <td>9.717203</td>\n",
              "    </tr>\n",
              "    <tr>\n",
              "      <th>47</th>\n",
              "      <td>94.559932</td>\n",
              "      <td>350.146387</td>\n",
              "      <td>321.263653</td>\n",
              "      <td>10.576928</td>\n",
              "    </tr>\n",
              "    <tr>\n",
              "      <th>48</th>\n",
              "      <td>96.934366</td>\n",
              "      <td>363.269504</td>\n",
              "      <td>311.773443</td>\n",
              "      <td>11.103128</td>\n",
              "    </tr>\n",
              "    <tr>\n",
              "      <th>49</th>\n",
              "      <td>96.922822</td>\n",
              "      <td>346.462212</td>\n",
              "      <td>304.194580</td>\n",
              "      <td>11.302193</td>\n",
              "    </tr>\n",
              "    <tr>\n",
              "      <th>50</th>\n",
              "      <td>96.119793</td>\n",
              "      <td>340.948445</td>\n",
              "      <td>311.238473</td>\n",
              "      <td>11.474921</td>\n",
              "    </tr>\n",
              "    <tr>\n",
              "      <th>51</th>\n",
              "      <td>98.068768</td>\n",
              "      <td>358.429990</td>\n",
              "      <td>297.548997</td>\n",
              "      <td>11.996548</td>\n",
              "    </tr>\n",
              "    <tr>\n",
              "      <th>52</th>\n",
              "      <td>99.973028</td>\n",
              "      <td>381.215791</td>\n",
              "      <td>285.374536</td>\n",
              "      <td>12.752032</td>\n",
              "    </tr>\n",
              "    <tr>\n",
              "      <th>53</th>\n",
              "      <td>102.296315</td>\n",
              "      <td>409.933981</td>\n",
              "      <td>270.203886</td>\n",
              "      <td>13.384956</td>\n",
              "    </tr>\n",
              "    <tr>\n",
              "      <th>54</th>\n",
              "      <td>104.182356</td>\n",
              "      <td>447.549957</td>\n",
              "      <td>260.892070</td>\n",
              "      <td>13.717654</td>\n",
              "    </tr>\n",
              "  </tbody>\n",
              "</table>\n",
              "</div>\n",
              "      <button class=\"colab-df-convert\" onclick=\"convertToInteractive('df-41231caa-3f5c-4517-aee5-f5f4686254d6')\"\n",
              "              title=\"Convert this dataframe to an interactive table.\"\n",
              "              style=\"display:none;\">\n",
              "        \n",
              "  <svg xmlns=\"http://www.w3.org/2000/svg\" height=\"24px\"viewBox=\"0 0 24 24\"\n",
              "       width=\"24px\">\n",
              "    <path d=\"M0 0h24v24H0V0z\" fill=\"none\"/>\n",
              "    <path d=\"M18.56 5.44l.94 2.06.94-2.06 2.06-.94-2.06-.94-.94-2.06-.94 2.06-2.06.94zm-11 1L8.5 8.5l.94-2.06 2.06-.94-2.06-.94L8.5 2.5l-.94 2.06-2.06.94zm10 10l.94 2.06.94-2.06 2.06-.94-2.06-.94-.94-2.06-.94 2.06-2.06.94z\"/><path d=\"M17.41 7.96l-1.37-1.37c-.4-.4-.92-.59-1.43-.59-.52 0-1.04.2-1.43.59L10.3 9.45l-7.72 7.72c-.78.78-.78 2.05 0 2.83L4 21.41c.39.39.9.59 1.41.59.51 0 1.02-.2 1.41-.59l7.78-7.78 2.81-2.81c.8-.78.8-2.07 0-2.86zM5.41 20L4 18.59l7.72-7.72 1.47 1.35L5.41 20z\"/>\n",
              "  </svg>\n",
              "      </button>\n",
              "      \n",
              "  <style>\n",
              "    .colab-df-container {\n",
              "      display:flex;\n",
              "      flex-wrap:wrap;\n",
              "      gap: 12px;\n",
              "    }\n",
              "\n",
              "    .colab-df-convert {\n",
              "      background-color: #E8F0FE;\n",
              "      border: none;\n",
              "      border-radius: 50%;\n",
              "      cursor: pointer;\n",
              "      display: none;\n",
              "      fill: #1967D2;\n",
              "      height: 32px;\n",
              "      padding: 0 0 0 0;\n",
              "      width: 32px;\n",
              "    }\n",
              "\n",
              "    .colab-df-convert:hover {\n",
              "      background-color: #E2EBFA;\n",
              "      box-shadow: 0px 1px 2px rgba(60, 64, 67, 0.3), 0px 1px 3px 1px rgba(60, 64, 67, 0.15);\n",
              "      fill: #174EA6;\n",
              "    }\n",
              "\n",
              "    [theme=dark] .colab-df-convert {\n",
              "      background-color: #3B4455;\n",
              "      fill: #D2E3FC;\n",
              "    }\n",
              "\n",
              "    [theme=dark] .colab-df-convert:hover {\n",
              "      background-color: #434B5C;\n",
              "      box-shadow: 0px 1px 3px 1px rgba(0, 0, 0, 0.15);\n",
              "      filter: drop-shadow(0px 1px 2px rgba(0, 0, 0, 0.3));\n",
              "      fill: #FFFFFF;\n",
              "    }\n",
              "  </style>\n",
              "\n",
              "      <script>\n",
              "        const buttonEl =\n",
              "          document.querySelector('#df-41231caa-3f5c-4517-aee5-f5f4686254d6 button.colab-df-convert');\n",
              "        buttonEl.style.display =\n",
              "          google.colab.kernel.accessAllowed ? 'block' : 'none';\n",
              "\n",
              "        async function convertToInteractive(key) {\n",
              "          const element = document.querySelector('#df-41231caa-3f5c-4517-aee5-f5f4686254d6');\n",
              "          const dataTable =\n",
              "            await google.colab.kernel.invokeFunction('convertToInteractive',\n",
              "                                                     [key], {});\n",
              "          if (!dataTable) return;\n",
              "\n",
              "          const docLinkHtml = 'Like what you see? Visit the ' +\n",
              "            '<a target=\"_blank\" href=https://colab.research.google.com/notebooks/data_table.ipynb>data table notebook</a>'\n",
              "            + ' to learn more about interactive tables.';\n",
              "          element.innerHTML = '';\n",
              "          dataTable['output_type'] = 'display_data';\n",
              "          await google.colab.output.renderOutput(dataTable, element);\n",
              "          const docLink = document.createElement('div');\n",
              "          docLink.innerHTML = docLinkHtml;\n",
              "          element.appendChild(docLink);\n",
              "        }\n",
              "      </script>\n",
              "    </div>\n",
              "  </div>\n",
              "  "
            ]
          },
          "metadata": {},
          "execution_count": 145
        }
      ]
    },
    {
      "cell_type": "code",
      "source": [
        "features = df[['INFLACAO_d11', 'CAMB_d11', 'SELIC_d11']]\n",
        "features\n",
        "y = df.IND_d11\n",
        "print(features)"
      ],
      "metadata": {
        "id": "IBwI6PAUW2Tm",
        "colab": {
          "base_uri": "https://localhost:8080/"
        },
        "outputId": "6b752b96-9965-4f55-a758-a913b465b601"
      },
      "execution_count": 143,
      "outputs": [
        {
          "output_type": "stream",
          "name": "stdout",
          "text": [
            "    INFLACAO_d11    CAMB_d11  SELIC_d11\n",
            "0      37.638225  464.918415  47.566373\n",
            "1      39.519468  507.988106  46.811582\n",
            "2      42.260026  617.075810  43.097839\n",
            "3      47.520498  677.406324  53.591319\n",
            "4      50.074362  625.170567  51.540908\n",
            "5      50.578095  543.438604  51.347169\n",
            "6      51.234489  522.201501  39.361558\n",
            "7      51.640616  515.983591  32.481448\n",
            "8      52.715410  525.964161  30.214938\n",
            "9      55.364808  553.395269  28.820336\n",
            "10     57.261757  529.670931  28.530953\n",
            "11     58.053069  501.995312  30.956208\n",
            "12     58.740002  480.870066  32.370246\n",
            "13     59.226044  443.891243  33.299799\n",
            "14     58.465706  414.745816  33.439707\n",
            "15     58.736147  391.503151  30.766097\n",
            "16     59.058101  382.064348  27.826631\n",
            "17     59.679994  391.656336  25.629563\n",
            "18     60.344015  391.310057  23.580215\n",
            "19     60.991641  386.669725  21.612830\n",
            "20     61.674939  375.512748  20.758749\n",
            "21     61.957661  363.324281  19.519685\n",
            "22     63.740984  354.203608  17.555648\n",
            "23     65.718980  336.721337  16.910478\n",
            "24     67.320739  328.800845  16.889500\n",
            "25     70.290891  323.279849  17.601449\n",
            "26     71.526721  317.352115  19.068254\n",
            "27     72.169666  391.169157  18.778015\n",
            "28     71.591256  383.451905  15.939148\n",
            "29     71.363542  357.277187  13.072438\n",
            "30     71.197469  328.864693  12.194299\n",
            "31     70.936618  308.528108  12.158500\n",
            "32     73.017709  309.242736  12.159909\n",
            "33     75.085307  301.986294  13.732951\n",
            "34     76.660481  298.666063  13.931124\n",
            "35     79.003085  289.306015  13.454968\n",
            "36     81.016921  283.969105  14.693350\n",
            "37     81.592539  282.139858  15.030872\n",
            "38     82.338098  286.781779  14.524194\n",
            "39     83.064106  299.414168  13.158115\n",
            "40     83.614144  294.447186  11.764566\n",
            "41     85.824706  327.994695   9.877825\n",
            "42     88.942050  330.092870   8.429821\n",
            "43     89.585596  329.318745   8.078203\n",
            "44     90.336690  318.857915   8.059848\n",
            "45     91.238081  332.495493   8.728031\n",
            "46     92.837234  360.326031   9.717203\n",
            "47     94.559932  350.146387  10.576928\n",
            "48     96.934366  363.269504  11.103128\n",
            "49     96.922822  346.462212  11.302193\n",
            "50     96.119793  340.948445  11.474921\n",
            "51     98.068768  358.429990  11.996548\n",
            "52     99.973028  381.215791  12.752032\n",
            "53    102.296315  409.933981  13.384956\n",
            "54    104.182356  447.549957  13.717654\n"
          ]
        }
      ]
    },
    {
      "cell_type": "code",
      "source": [
        "y"
      ],
      "metadata": {
        "id": "qzp-_9SkZc5o",
        "colab": {
          "base_uri": "https://localhost:8080/"
        },
        "outputId": "1eef35a0-a694-4f4a-f9b6-15d3fc1752eb"
      },
      "execution_count": 146,
      "outputs": [
        {
          "output_type": "execute_result",
          "data": {
            "text/plain": [
              "0     620.627201\n",
              "1     603.839693\n",
              "2     565.376990\n",
              "3     509.841089\n",
              "4     475.909432\n",
              "5     460.870534\n",
              "6     465.130758\n",
              "7     478.935968\n",
              "8     481.236315\n",
              "9     460.364139\n",
              "10    459.080291\n",
              "11    456.352732\n",
              "12    445.733533\n",
              "13    454.882224\n",
              "14    455.685312\n",
              "15    456.383554\n",
              "16    463.105997\n",
              "17    455.339542\n",
              "18    453.039346\n",
              "19    452.496654\n",
              "20    460.509231\n",
              "21    462.978954\n",
              "22    454.428667\n",
              "23    453.927183\n",
              "24    449.979289\n",
              "25    433.525263\n",
              "26    430.388144\n",
              "27    387.241923\n",
              "28    363.221040\n",
              "29    377.040153\n",
              "30    396.695277\n",
              "31    417.916450\n",
              "32    417.669968\n",
              "33    409.040454\n",
              "34    397.590958\n",
              "35    387.563252\n",
              "36    386.638258\n",
              "37    378.772292\n",
              "38    370.556973\n",
              "39    362.883216\n",
              "40    355.659504\n",
              "41    344.399425\n",
              "42    340.200799\n",
              "43    339.233951\n",
              "44    331.870520\n",
              "45    340.672159\n",
              "46    333.639349\n",
              "47    321.263653\n",
              "48    311.773443\n",
              "49    304.194580\n",
              "50    311.238473\n",
              "51    297.548997\n",
              "52    285.374536\n",
              "53    270.203886\n",
              "54    260.892070\n",
              "Name: IND_d11, dtype: float64"
            ]
          },
          "metadata": {},
          "execution_count": 146
        }
      ]
    },
    {
      "cell_type": "code",
      "source": [
        "#Causalidade de Granger"
      ],
      "metadata": {
        "id": "ehC1wWoSo6Od"
      },
      "execution_count": 147,
      "outputs": []
    },
    {
      "cell_type": "code",
      "source": [
        "from statsmodels.tsa.stattools import grangercausalitytests\n",
        "maxlag=12\n",
        "test = 'ssr_chi2test'\n",
        "def grangers_causation_matrix(data, variables, test='ssr_chi2test', verbose=False):    \n",
        "    \"\"\"Check Granger Causality of all possible combinations of the Time series.\n",
        "    The rows are the response variable, columns are predictors. The values in the table \n",
        "    are the P-Values. P-Values lesser than the significance level (0.05), implies \n",
        "    the Null Hypothesis that the coefficients of the corresponding past values is \n",
        "    zero, that is, the X does not cause Y can be rejected.\n",
        "\n",
        "    data      : pandas dataframe containing the time series variables\n",
        "    variables : list containing names of the time series variables.\n",
        "    \"\"\"\n",
        "    df1 = pd.DataFrame(np.zeros((len(variables), len(variables))), columns=variables, index=variables)\n",
        "    for c in df1.columns:\n",
        "        for r in df1.index:\n",
        "            test_result = grangercausalitytests(data[[r, c]], maxlag=maxlag, verbose=False)\n",
        "            p_values = [round(test_result[i+1][0][test][1],4) for i in range(maxlag)]\n",
        "            if verbose: print(f'Y = {r}, X = {c}, P Values = {p_values}')\n",
        "            min_p_value = np.min(p_values)\n",
        "            df1.loc[r, c] = min_p_value\n",
        "    df1.columns = [var + '_x' for var in variables]\n",
        "    df1.index = [var + '_y' for var in variables]\n",
        "    return df1\n",
        "\n",
        "grangers_causation_matrix(df1, variables = df1.columns)"
      ],
      "metadata": {
        "colab": {
          "base_uri": "https://localhost:8080/",
          "height": 174
        },
        "id": "GlBdUZCppAoK",
        "outputId": "77784b52-e920-4ec1-fc1c-b782bd4bc7c7"
      },
      "execution_count": 148,
      "outputs": [
        {
          "output_type": "execute_result",
          "data": {
            "text/plain": [
              "                INFLACAO_d11_x  CAMB_d11_x  IND_d11_x  SELIC_d11_x\n",
              "INFLACAO_d11_y          1.0000         0.0     0.0000       0.0645\n",
              "CAMB_d11_y              0.0279         1.0     0.0165       0.0018\n",
              "IND_d11_y               0.0000         0.0     1.0000       0.0000\n",
              "SELIC_d11_y             0.0007         0.0     0.0000       1.0000"
            ],
            "text/html": [
              "\n",
              "  <div id=\"df-63e2b2b3-bf7e-4874-b632-d7adf09ef67d\">\n",
              "    <div class=\"colab-df-container\">\n",
              "      <div>\n",
              "<style scoped>\n",
              "    .dataframe tbody tr th:only-of-type {\n",
              "        vertical-align: middle;\n",
              "    }\n",
              "\n",
              "    .dataframe tbody tr th {\n",
              "        vertical-align: top;\n",
              "    }\n",
              "\n",
              "    .dataframe thead th {\n",
              "        text-align: right;\n",
              "    }\n",
              "</style>\n",
              "<table border=\"1\" class=\"dataframe\">\n",
              "  <thead>\n",
              "    <tr style=\"text-align: right;\">\n",
              "      <th></th>\n",
              "      <th>INFLACAO_d11_x</th>\n",
              "      <th>CAMB_d11_x</th>\n",
              "      <th>IND_d11_x</th>\n",
              "      <th>SELIC_d11_x</th>\n",
              "    </tr>\n",
              "  </thead>\n",
              "  <tbody>\n",
              "    <tr>\n",
              "      <th>INFLACAO_d11_y</th>\n",
              "      <td>1.0000</td>\n",
              "      <td>0.0</td>\n",
              "      <td>0.0000</td>\n",
              "      <td>0.0645</td>\n",
              "    </tr>\n",
              "    <tr>\n",
              "      <th>CAMB_d11_y</th>\n",
              "      <td>0.0279</td>\n",
              "      <td>1.0</td>\n",
              "      <td>0.0165</td>\n",
              "      <td>0.0018</td>\n",
              "    </tr>\n",
              "    <tr>\n",
              "      <th>IND_d11_y</th>\n",
              "      <td>0.0000</td>\n",
              "      <td>0.0</td>\n",
              "      <td>1.0000</td>\n",
              "      <td>0.0000</td>\n",
              "    </tr>\n",
              "    <tr>\n",
              "      <th>SELIC_d11_y</th>\n",
              "      <td>0.0007</td>\n",
              "      <td>0.0</td>\n",
              "      <td>0.0000</td>\n",
              "      <td>1.0000</td>\n",
              "    </tr>\n",
              "  </tbody>\n",
              "</table>\n",
              "</div>\n",
              "      <button class=\"colab-df-convert\" onclick=\"convertToInteractive('df-63e2b2b3-bf7e-4874-b632-d7adf09ef67d')\"\n",
              "              title=\"Convert this dataframe to an interactive table.\"\n",
              "              style=\"display:none;\">\n",
              "        \n",
              "  <svg xmlns=\"http://www.w3.org/2000/svg\" height=\"24px\"viewBox=\"0 0 24 24\"\n",
              "       width=\"24px\">\n",
              "    <path d=\"M0 0h24v24H0V0z\" fill=\"none\"/>\n",
              "    <path d=\"M18.56 5.44l.94 2.06.94-2.06 2.06-.94-2.06-.94-.94-2.06-.94 2.06-2.06.94zm-11 1L8.5 8.5l.94-2.06 2.06-.94-2.06-.94L8.5 2.5l-.94 2.06-2.06.94zm10 10l.94 2.06.94-2.06 2.06-.94-2.06-.94-.94-2.06-.94 2.06-2.06.94z\"/><path d=\"M17.41 7.96l-1.37-1.37c-.4-.4-.92-.59-1.43-.59-.52 0-1.04.2-1.43.59L10.3 9.45l-7.72 7.72c-.78.78-.78 2.05 0 2.83L4 21.41c.39.39.9.59 1.41.59.51 0 1.02-.2 1.41-.59l7.78-7.78 2.81-2.81c.8-.78.8-2.07 0-2.86zM5.41 20L4 18.59l7.72-7.72 1.47 1.35L5.41 20z\"/>\n",
              "  </svg>\n",
              "      </button>\n",
              "      \n",
              "  <style>\n",
              "    .colab-df-container {\n",
              "      display:flex;\n",
              "      flex-wrap:wrap;\n",
              "      gap: 12px;\n",
              "    }\n",
              "\n",
              "    .colab-df-convert {\n",
              "      background-color: #E8F0FE;\n",
              "      border: none;\n",
              "      border-radius: 50%;\n",
              "      cursor: pointer;\n",
              "      display: none;\n",
              "      fill: #1967D2;\n",
              "      height: 32px;\n",
              "      padding: 0 0 0 0;\n",
              "      width: 32px;\n",
              "    }\n",
              "\n",
              "    .colab-df-convert:hover {\n",
              "      background-color: #E2EBFA;\n",
              "      box-shadow: 0px 1px 2px rgba(60, 64, 67, 0.3), 0px 1px 3px 1px rgba(60, 64, 67, 0.15);\n",
              "      fill: #174EA6;\n",
              "    }\n",
              "\n",
              "    [theme=dark] .colab-df-convert {\n",
              "      background-color: #3B4455;\n",
              "      fill: #D2E3FC;\n",
              "    }\n",
              "\n",
              "    [theme=dark] .colab-df-convert:hover {\n",
              "      background-color: #434B5C;\n",
              "      box-shadow: 0px 1px 3px 1px rgba(0, 0, 0, 0.15);\n",
              "      filter: drop-shadow(0px 1px 2px rgba(0, 0, 0, 0.3));\n",
              "      fill: #FFFFFF;\n",
              "    }\n",
              "  </style>\n",
              "\n",
              "      <script>\n",
              "        const buttonEl =\n",
              "          document.querySelector('#df-63e2b2b3-bf7e-4874-b632-d7adf09ef67d button.colab-df-convert');\n",
              "        buttonEl.style.display =\n",
              "          google.colab.kernel.accessAllowed ? 'block' : 'none';\n",
              "\n",
              "        async function convertToInteractive(key) {\n",
              "          const element = document.querySelector('#df-63e2b2b3-bf7e-4874-b632-d7adf09ef67d');\n",
              "          const dataTable =\n",
              "            await google.colab.kernel.invokeFunction('convertToInteractive',\n",
              "                                                     [key], {});\n",
              "          if (!dataTable) return;\n",
              "\n",
              "          const docLinkHtml = 'Like what you see? Visit the ' +\n",
              "            '<a target=\"_blank\" href=https://colab.research.google.com/notebooks/data_table.ipynb>data table notebook</a>'\n",
              "            + ' to learn more about interactive tables.';\n",
              "          element.innerHTML = '';\n",
              "          dataTable['output_type'] = 'display_data';\n",
              "          await google.colab.output.renderOutput(dataTable, element);\n",
              "          const docLink = document.createElement('div');\n",
              "          docLink.innerHTML = docLinkHtml;\n",
              "          element.appendChild(docLink);\n",
              "        }\n",
              "      </script>\n",
              "    </div>\n",
              "  </div>\n",
              "  "
            ]
          },
          "metadata": {},
          "execution_count": 148
        }
      ]
    },
    {
      "cell_type": "markdown",
      "source": [
        "P valor > 0,05 - **Rejeita a hipótese nula**\n",
        "\n",
        "CAMB_d11 causa INFLACAO_d11 e CAMB_d11 causa IND_d11\n",
        "\n",
        "INFLACAO_d11 causa SELIC_d11"
      ],
      "metadata": {
        "id": "nFh4TC5xqBqD"
      }
    },
    {
      "cell_type": "code",
      "source": [
        "#Teste de co-integração"
      ],
      "metadata": {
        "id": "KBFbdRHAqZ65"
      },
      "execution_count": 20,
      "outputs": []
    },
    {
      "cell_type": "code",
      "source": [
        "from statsmodels.tsa.vector_ar.vecm import coint_johansen\n",
        "\n",
        "def cointegration_test(df1, alpha=0.05): \n",
        "    \"\"\"Teste de cointegração de Johanson's\"\"\"\n",
        "    out = coint_johansen(df1,-1,5)\n",
        "    d = {'0.90':0, '0.95':1, '0.99':2}\n",
        "    traces = out.lr1\n",
        "    cvts = out.cvt[:, d[str(1-alpha)]]\n",
        "    def adjust(val, length= 6): return str(val).ljust(length)\n",
        "\n",
        "    # Summary\n",
        "    print('Name   ::  Test Stat > C(95%)    =>   Signif  \\n', '--'*20)\n",
        "    for col, trace, cvt in zip(df1.columns, traces, cvts):\n",
        "        print(adjust(col), ':: ', adjust(round(trace,2), 9), \">\", adjust(cvt, 8), ' =>  ' , trace > cvt)\n",
        "\n",
        "cointegration_test(df1)"
      ],
      "metadata": {
        "colab": {
          "base_uri": "https://localhost:8080/"
        },
        "id": "IXnPHgL-qdGj",
        "outputId": "ccd43b68-1288-46e4-fea9-bdf553ee843a"
      },
      "execution_count": 149,
      "outputs": [
        {
          "output_type": "stream",
          "name": "stdout",
          "text": [
            "Name   ::  Test Stat > C(95%)    =>   Signif  \n",
            " ----------------------------------------\n",
            "INFLACAO_d11 ::  83.11     > 40.1749   =>   True\n",
            "CAMB_d11 ::  36.41     > 24.2761   =>   True\n",
            "IND_d11 ::  13.84     > 12.3212   =>   True\n",
            "SELIC_d11 ::  1.86      > 4.1296    =>   False\n"
          ]
        }
      ]
    },
    {
      "cell_type": "code",
      "source": [
        "#Separando os dados em training e test"
      ],
      "metadata": {
        "id": "rNbJ8RWkqmPZ"
      },
      "execution_count": 22,
      "outputs": []
    },
    {
      "cell_type": "code",
      "source": [
        "nobs = 4\n",
        "df1_train, df1_test = df1[0:-nobs], df1[-nobs:]\n",
        "\n",
        "# Tamanho\n",
        "print(df1_train.shape)  \n",
        "print(df1_test.shape)  "
      ],
      "metadata": {
        "colab": {
          "base_uri": "https://localhost:8080/"
        },
        "id": "1gv17hY6q41D",
        "outputId": "f14161af-1222-4ca0-c814-7d55ae9acc46"
      },
      "execution_count": 150,
      "outputs": [
        {
          "output_type": "stream",
          "name": "stdout",
          "text": [
            "(51, 4)\n",
            "(4, 4)\n"
          ]
        }
      ]
    },
    {
      "cell_type": "code",
      "source": [
        "#Chechando estacionaridade e fazendo elas estacionárias"
      ],
      "metadata": {
        "id": "ygE5-hLrrAoA"
      },
      "execution_count": 24,
      "outputs": []
    },
    {
      "cell_type": "code",
      "source": [
        "def adfuller_test(series, signif=0.05, name='', verbose=False):\n",
        "    \"\"\"Teste ADFULLER para testar a estacionariedade\"\"\"\n",
        "    r = adfuller(series, autolag='AIC')\n",
        "    output = {'test_statistic':round(r[0], 4), 'pvalue':round(r[1], 4), 'n_lags':round(r[2], 4), 'n_obs':r[3]}\n",
        "    p_value = output['pvalue'] \n",
        "    def adjust(val, length= 6): return str(val).ljust(length)\n",
        "\n",
        "    # Sumario\n",
        "    print(f'    Augmented Dickey-Fuller Test on \"{name}\"', \"\\n   \", '-'*47)\n",
        "    print(f' Null Hypothesis: Data has unit root. Non-Stationary.')\n",
        "    print(f' Significance Level    = {signif}')\n",
        "    print(f' Test Statistic        = {output[\"test_statistic\"]}')\n",
        "    print(f' No. Lags Chosen       = {output[\"n_lags\"]}')\n",
        "\n",
        "    for key,val in r[4].items():\n",
        "        print(f' Critical value {adjust(key)} = {round(val, 3)}')\n",
        "\n",
        "    if p_value <= signif:\n",
        "        print(f\" => P-Value = {p_value}. Rejecting Null Hypothesis.\")\n",
        "        print(f\" => Series is Stationary.\")\n",
        "    else:\n",
        "        print(f\" => P-Value = {p_value}. Weak evidence to reject the Null Hypothesis.\")\n",
        "        print(f\" => Series is Non-Stationary.\")  "
      ],
      "metadata": {
        "id": "D-ahoirrrIJa"
      },
      "execution_count": 151,
      "outputs": []
    },
    {
      "cell_type": "code",
      "source": [
        "# Teste ADF em cada série\n",
        "for name, column in df1_train.iteritems():\n",
        "    adfuller_test(column, name=column.name)\n",
        "    print('\\n')"
      ],
      "metadata": {
        "colab": {
          "base_uri": "https://localhost:8080/"
        },
        "id": "pFz-abeBrc0Q",
        "outputId": "2e1751e3-9254-420b-ca83-a90ed31f873d"
      },
      "execution_count": 152,
      "outputs": [
        {
          "output_type": "stream",
          "name": "stdout",
          "text": [
            "    Augmented Dickey-Fuller Test on \"INFLACAO_d11\" \n",
            "    -----------------------------------------------\n",
            " Null Hypothesis: Data has unit root. Non-Stationary.\n",
            " Significance Level    = 0.05\n",
            " Test Statistic        = 1.8631\n",
            " No. Lags Chosen       = 11\n",
            " Critical value 1%     = -3.61\n",
            " Critical value 5%     = -2.939\n",
            " Critical value 10%    = -2.608\n",
            " => P-Value = 0.9985. Weak evidence to reject the Null Hypothesis.\n",
            " => Series is Non-Stationary.\n",
            "\n",
            "\n",
            "    Augmented Dickey-Fuller Test on \"CAMB_d11\" \n",
            "    -----------------------------------------------\n",
            " Null Hypothesis: Data has unit root. Non-Stationary.\n",
            " Significance Level    = 0.05\n",
            " Test Statistic        = -1.1037\n",
            " No. Lags Chosen       = 0\n",
            " Critical value 1%     = -3.568\n",
            " Critical value 5%     = -2.921\n",
            " Critical value 10%    = -2.599\n",
            " => P-Value = 0.7136. Weak evidence to reject the Null Hypothesis.\n",
            " => Series is Non-Stationary.\n",
            "\n",
            "\n",
            "    Augmented Dickey-Fuller Test on \"IND_d11\" \n",
            "    -----------------------------------------------\n",
            " Null Hypothesis: Data has unit root. Non-Stationary.\n",
            " Significance Level    = 0.05\n",
            " Test Statistic        = -0.6134\n",
            " No. Lags Chosen       = 4\n",
            " Critical value 1%     = -3.581\n",
            " Critical value 5%     = -2.927\n",
            " Critical value 10%    = -2.602\n",
            " => P-Value = 0.8679. Weak evidence to reject the Null Hypothesis.\n",
            " => Series is Non-Stationary.\n",
            "\n",
            "\n",
            "    Augmented Dickey-Fuller Test on \"SELIC_d11\" \n",
            "    -----------------------------------------------\n",
            " Null Hypothesis: Data has unit root. Non-Stationary.\n",
            " Significance Level    = 0.05\n",
            " Test Statistic        = -3.475\n",
            " No. Lags Chosen       = 7\n",
            " Critical value 1%     = -3.593\n",
            " Critical value 5%     = -2.932\n",
            " Critical value 10%    = -2.604\n",
            " => P-Value = 0.0087. Rejecting Null Hypothesis.\n",
            " => Series is Stationary.\n",
            "\n",
            "\n"
          ]
        }
      ]
    },
    {
      "cell_type": "code",
      "source": [
        "# Primeira diferença\n",
        "df_differenced = df1_train.diff().dropna()"
      ],
      "metadata": {
        "id": "dQJIjaI8rm4b"
      },
      "execution_count": 153,
      "outputs": []
    },
    {
      "cell_type": "code",
      "source": [
        "# Teste ADF em cada série mas agora na 1 diferença\n",
        "for name, column in df_differenced.iteritems():\n",
        "    adfuller_test(column, name=column.name)\n",
        "    print('\\n')"
      ],
      "metadata": {
        "colab": {
          "base_uri": "https://localhost:8080/"
        },
        "id": "ZDjbGTiIrwMu",
        "outputId": "f93a335c-5c5c-48e6-9c7c-0e12719ca412"
      },
      "execution_count": 154,
      "outputs": [
        {
          "output_type": "stream",
          "name": "stdout",
          "text": [
            "    Augmented Dickey-Fuller Test on \"INFLACAO_d11\" \n",
            "    -----------------------------------------------\n",
            " Null Hypothesis: Data has unit root. Non-Stationary.\n",
            " Significance Level    = 0.05\n",
            " Test Statistic        = -3.0866\n",
            " No. Lags Chosen       = 10\n",
            " Critical value 1%     = -3.61\n",
            " Critical value 5%     = -2.939\n",
            " Critical value 10%    = -2.608\n",
            " => P-Value = 0.0276. Rejecting Null Hypothesis.\n",
            " => Series is Stationary.\n",
            "\n",
            "\n",
            "    Augmented Dickey-Fuller Test on \"CAMB_d11\" \n",
            "    -----------------------------------------------\n",
            " Null Hypothesis: Data has unit root. Non-Stationary.\n",
            " Significance Level    = 0.05\n",
            " Test Statistic        = -4.546\n",
            " No. Lags Chosen       = 0\n",
            " Critical value 1%     = -3.571\n",
            " Critical value 5%     = -2.923\n",
            " Critical value 10%    = -2.599\n",
            " => P-Value = 0.0002. Rejecting Null Hypothesis.\n",
            " => Series is Stationary.\n",
            "\n",
            "\n",
            "    Augmented Dickey-Fuller Test on \"IND_d11\" \n",
            "    -----------------------------------------------\n",
            " Null Hypothesis: Data has unit root. Non-Stationary.\n",
            " Significance Level    = 0.05\n",
            " Test Statistic        = -4.0751\n",
            " No. Lags Chosen       = 4\n",
            " Critical value 1%     = -3.585\n",
            " Critical value 5%     = -2.928\n",
            " Critical value 10%    = -2.602\n",
            " => P-Value = 0.0011. Rejecting Null Hypothesis.\n",
            " => Series is Stationary.\n",
            "\n",
            "\n",
            "    Augmented Dickey-Fuller Test on \"SELIC_d11\" \n",
            "    -----------------------------------------------\n",
            " Null Hypothesis: Data has unit root. Non-Stationary.\n",
            " Significance Level    = 0.05\n",
            " Test Statistic        = -3.9555\n",
            " No. Lags Chosen       = 3\n",
            " Critical value 1%     = -3.581\n",
            " Critical value 5%     = -2.927\n",
            " Critical value 10%    = -2.602\n",
            " => P-Value = 0.0017. Rejecting Null Hypothesis.\n",
            " => Series is Stationary.\n",
            "\n",
            "\n"
          ]
        }
      ]
    },
    {
      "cell_type": "code",
      "source": [
        "#A série agora é estacionária 👌🏻"
      ],
      "metadata": {
        "id": "nnFoVwzksgAf"
      },
      "execution_count": 29,
      "outputs": []
    },
    {
      "cell_type": "code",
      "source": [
        "# Segunda diferença\n",
        "#df_differenced = df_differenced.diff().dropna()"
      ],
      "metadata": {
        "id": "_oY37Nr3r6pv"
      },
      "execution_count": 30,
      "outputs": []
    },
    {
      "cell_type": "code",
      "source": [
        "## Teste ADF em cada série mas agora na 2 diferença\n",
        "#for name, column in df_differenced.iteritems():\n",
        "   # adfuller_test(column, name=column.name)\n",
        "    #print('\\n')"
      ],
      "metadata": {
        "id": "hmfO8gVBsDCP"
      },
      "execution_count": 31,
      "outputs": []
    },
    {
      "cell_type": "code",
      "source": [
        "#Selecionando a ordem do modelo VAR"
      ],
      "metadata": {
        "id": "_NtGYW_jsQuI"
      },
      "execution_count": 32,
      "outputs": []
    },
    {
      "cell_type": "code",
      "source": [
        "model = VAR(df_differenced)\n",
        "for i in [1,2,3,4,5,6,7,8,9]:\n",
        "    result = model.fit(i)\n",
        "    print('Lag Order =', i)\n",
        "    print('AIC : ', result.aic)\n",
        "    print('BIC : ', result.bic)\n",
        "    print('FPE : ', result.fpe)\n",
        "    print('HQIC: ', result.hqic, '\\n')"
      ],
      "metadata": {
        "colab": {
          "base_uri": "https://localhost:8080/"
        },
        "id": "SO_nIXTEsuTI",
        "outputId": "0e0fbbcd-26f4-49e9-acaf-d233b2c49f61"
      },
      "execution_count": 155,
      "outputs": [
        {
          "output_type": "stream",
          "name": "stdout",
          "text": [
            "Lag Order = 1\n",
            "AIC :  12.44535742354235\n",
            "BIC :  13.217528973791586\n",
            "FPE :  254793.46212838497\n",
            "HQIC:  12.738318232634775 \n",
            "\n",
            "Lag Order = 2\n",
            "AIC :  11.597132364406672\n",
            "BIC :  13.00053312258759\n",
            "FPE :  110756.66328800945\n",
            "HQIC:  12.127479560855384 \n",
            "\n",
            "Lag Order = 3\n",
            "AIC :  10.700235378327424\n",
            "BIC :  12.74720719298536\n",
            "FPE :  47070.67955022057\n",
            "HQIC:  11.470524623217141 \n",
            "\n",
            "Lag Order = 4\n",
            "AIC :  10.071443815022581\n",
            "BIC :  12.774652835919504\n",
            "FPE :  27399.434720163554\n",
            "HQIC:  11.084082115795976 \n",
            "\n",
            "Lag Order = 5\n",
            "AIC :  9.77744076548758\n",
            "BIC :  13.149877413058842\n",
            "FPE :  24113.11298742797\n",
            "HQIC:  11.034651287144339 \n",
            "\n",
            "Lag Order = 6\n",
            "AIC :  8.414037206493296\n",
            "BIC :  12.469013647216617\n",
            "FPE :  8326.952007692022\n",
            "HQIC:  9.91781795470138 \n",
            "\n",
            "Lag Order = 7\n",
            "AIC :  8.606211171413147\n",
            "BIC :  13.357355669563223\n",
            "FPE :  17349.127428538195\n",
            "HQIC:  10.358286427084852 \n",
            "\n",
            "Lag Order = 8\n",
            "AIC :  6.827762458413879\n",
            "BIC :  12.289009830161609\n",
            "FPE :  8292.463070915772\n",
            "HQIC:  8.829525615875944 \n",
            "\n",
            "Lag Order = 9\n",
            "AIC :  -2.1315970279217185\n",
            "BIC :  4.05398018847432\n",
            "FPE :  12.560395372353002\n",
            "HQIC:  0.12084915371358029 \n",
            "\n"
          ]
        },
        {
          "output_type": "stream",
          "name": "stderr",
          "text": [
            "/usr/local/lib/python3.7/dist-packages/statsmodels/tsa/base/tsa_model.py:215: ValueWarning: An unsupported index was provided and will be ignored when e.g. forecasting.\n",
            "  ' ignored when e.g. forecasting.', ValueWarning)\n"
          ]
        }
      ]
    },
    {
      "cell_type": "code",
      "source": [
        "x = model.select_order(maxlags=6)\n",
        "x.summary()"
      ],
      "metadata": {
        "colab": {
          "base_uri": "https://localhost:8080/",
          "height": 216
        },
        "id": "KfndVSQ8tOyA",
        "outputId": "8bcc667b-8ed0-4a63-b0a3-5b23cd03163b"
      },
      "execution_count": 156,
      "outputs": [
        {
          "output_type": "execute_result",
          "data": {
            "text/plain": [
              "<class 'statsmodels.iolib.table.SimpleTable'>"
            ],
            "text/html": [
              "<table class=\"simpletable\">\n",
              "<caption>VAR Order Selection (* highlights the minimums)</caption>\n",
              "<tr>\n",
              "  <td></td>      <th>AIC</th>         <th>BIC</th>         <th>FPE</th>        <th>HQIC</th>    \n",
              "</tr>\n",
              "<tr>\n",
              "  <th>0</th> <td>     11.07</td>  <td>     11.23</td>  <td> 6.434e+04</td>  <td>     11.13</td> \n",
              "</tr>\n",
              "<tr>\n",
              "  <th>1</th> <td>     9.261</td>  <td>     10.07*</td> <td> 1.056e+04</td>  <td>     9.561*</td>\n",
              "</tr>\n",
              "<tr>\n",
              "  <th>2</th> <td>     9.131</td>  <td>     10.59</td>  <td>     9452.</td>  <td>     9.672</td> \n",
              "</tr>\n",
              "<tr>\n",
              "  <th>3</th> <td>     9.253</td>  <td>     11.36</td>  <td> 1.123e+04</td>  <td>     10.04</td> \n",
              "</tr>\n",
              "<tr>\n",
              "  <th>4</th> <td>     9.008</td>  <td>     11.77</td>  <td>     9675.</td>  <td>     10.03</td> \n",
              "</tr>\n",
              "<tr>\n",
              "  <th>5</th> <td>     8.637</td>  <td>     12.04</td>  <td>     7896.*</td> <td>     9.900</td> \n",
              "</tr>\n",
              "<tr>\n",
              "  <th>6</th> <td>     8.414*</td> <td>     12.47</td>  <td>     8327.</td>  <td>     9.918</td> \n",
              "</tr>\n",
              "</table>"
            ]
          },
          "metadata": {},
          "execution_count": 156
        }
      ]
    },
    {
      "cell_type": "code",
      "source": [
        "model_fitted = model.fit(6)\n",
        "model_fitted.summary()"
      ],
      "metadata": {
        "colab": {
          "base_uri": "https://localhost:8080/"
        },
        "id": "t7yVTcvItUjo",
        "outputId": "32c946cf-cdcd-4e39-b9de-da0d3456f24d"
      },
      "execution_count": 157,
      "outputs": [
        {
          "output_type": "execute_result",
          "data": {
            "text/plain": [
              "  Summary of Regression Results   \n",
              "==================================\n",
              "Model:                         VAR\n",
              "Method:                        OLS\n",
              "Date:           Fri, 01, Apr, 2022\n",
              "Time:                     01:29:25\n",
              "--------------------------------------------------------------------\n",
              "No. of Equations:         4.00000    BIC:                    12.4690\n",
              "Nobs:                     44.0000    HQIC:                   9.91782\n",
              "Log likelihood:          -334.842    FPE:                    8326.95\n",
              "AIC:                      8.41404    Det(Omega_mle):         1376.89\n",
              "--------------------------------------------------------------------\n",
              "Results for equation INFLACAO_d11\n",
              "==================================================================================\n",
              "                     coefficient       std. error           t-stat            prob\n",
              "----------------------------------------------------------------------------------\n",
              "const                   0.645287         0.428198            1.507           0.132\n",
              "L1.INFLACAO_d11         0.419685         0.219312            1.914           0.056\n",
              "L1.CAMB_d11             0.000148         0.013905            0.011           0.992\n",
              "L1.IND_d11              0.011473         0.037223            0.308           0.758\n",
              "L1.SELIC_d11           -0.211293         0.142678           -1.481           0.139\n",
              "L2.INFLACAO_d11        -0.078503         0.260019           -0.302           0.763\n",
              "L2.CAMB_d11            -0.003663         0.014560           -0.252           0.801\n",
              "L2.IND_d11              0.018129         0.035693            0.508           0.612\n",
              "L2.SELIC_d11            0.091345         0.157972            0.578           0.563\n",
              "L3.INFLACAO_d11        -0.008117         0.301946           -0.027           0.979\n",
              "L3.CAMB_d11             0.015688         0.012795            1.226           0.220\n",
              "L3.IND_d11              0.034716         0.030217            1.149           0.251\n",
              "L3.SELIC_d11           -0.219813         0.127331           -1.726           0.084\n",
              "L4.INFLACAO_d11         0.141901         0.284074            0.500           0.617\n",
              "L4.CAMB_d11            -0.012152         0.013296           -0.914           0.361\n",
              "L4.IND_d11              0.032477         0.031802            1.021           0.307\n",
              "L4.SELIC_d11           -0.149760         0.133542           -1.121           0.262\n",
              "L5.INFLACAO_d11         0.039554         0.281941            0.140           0.888\n",
              "L5.CAMB_d11             0.032610         0.013172            2.476           0.013\n",
              "L5.IND_d11              0.067400         0.027116            2.486           0.013\n",
              "L5.SELIC_d11            0.083538         0.085401            0.978           0.328\n",
              "L6.INFLACAO_d11         0.539289         0.251466            2.145           0.032\n",
              "L6.CAMB_d11             0.011879         0.012409            0.957           0.338\n",
              "L6.IND_d11              0.021676         0.021713            0.998           0.318\n",
              "L6.SELIC_d11            0.030253         0.086836            0.348           0.728\n",
              "==================================================================================\n",
              "\n",
              "Results for equation CAMB_d11\n",
              "==================================================================================\n",
              "                     coefficient       std. error           t-stat            prob\n",
              "----------------------------------------------------------------------------------\n",
              "const                 -12.103657        11.795811           -1.026           0.305\n",
              "L1.INFLACAO_d11        -0.083929         6.041501           -0.014           0.989\n",
              "L1.CAMB_d11             0.487205         0.383053            1.272           0.203\n",
              "L1.IND_d11              1.210015         1.025404            1.180           0.238\n",
              "L1.SELIC_d11            2.217021         3.930428            0.564           0.573\n",
              "L2.INFLACAO_d11         6.094185         7.162888            0.851           0.395\n",
              "L2.CAMB_d11             0.159854         0.401095            0.399           0.690\n",
              "L2.IND_d11              0.261846         0.983252            0.266           0.790\n",
              "L2.SELIC_d11           -2.695369         4.351736           -0.619           0.536\n",
              "L3.INFLACAO_d11         7.452018         8.317868            0.896           0.370\n",
              "L3.CAMB_d11             0.045324         0.352484            0.129           0.898\n",
              "L3.IND_d11              0.939839         0.832392            1.129           0.259\n",
              "L3.SELIC_d11           -0.568632         3.507666           -0.162           0.871\n",
              "L4.INFLACAO_d11         6.827022         7.825544            0.872           0.383\n",
              "L4.CAMB_d11            -0.005054         0.366276           -0.014           0.989\n",
              "L4.IND_d11              0.199931         0.876064            0.228           0.819\n",
              "L4.SELIC_d11            4.840839         3.678761            1.316           0.188\n",
              "L5.INFLACAO_d11        -1.498975         7.766775           -0.193           0.847\n",
              "L5.CAMB_d11            -0.050947         0.362845           -0.140           0.888\n",
              "L5.IND_d11             -0.209702         0.746980           -0.281           0.779\n",
              "L5.SELIC_d11            1.666891         2.352577            0.709           0.479\n",
              "L6.INFLACAO_d11         1.582420         6.927259            0.228           0.819\n",
              "L6.CAMB_d11            -0.228278         0.341841           -0.668           0.504\n",
              "L6.IND_d11             -0.174165         0.598134           -0.291           0.771\n",
              "L6.SELIC_d11           -0.203911         2.392130           -0.085           0.932\n",
              "==================================================================================\n",
              "\n",
              "Results for equation IND_d11\n",
              "==================================================================================\n",
              "                     coefficient       std. error           t-stat            prob\n",
              "----------------------------------------------------------------------------------\n",
              "const                   3.403765         4.373243            0.778           0.436\n",
              "L1.INFLACAO_d11         0.784245         2.239859            0.350           0.726\n",
              "L1.CAMB_d11            -0.373099         0.142015           -2.627           0.009\n",
              "L1.IND_d11             -0.315288         0.380164           -0.829           0.407\n",
              "L1.SELIC_d11           -1.158204         1.457188           -0.795           0.427\n",
              "L2.INFLACAO_d11        -7.049556         2.655608           -2.655           0.008\n",
              "L2.CAMB_d11             0.059427         0.148704            0.400           0.689\n",
              "L2.IND_d11             -0.055066         0.364536           -0.151           0.880\n",
              "L2.SELIC_d11            0.513540         1.613386            0.318           0.750\n",
              "L3.INFLACAO_d11        -0.725051         3.083811           -0.235           0.814\n",
              "L3.CAMB_d11             0.046069         0.130682            0.353           0.724\n",
              "L3.IND_d11             -0.254186         0.308606           -0.824           0.410\n",
              "L3.SELIC_d11           -0.323619         1.300451           -0.249           0.803\n",
              "L4.INFLACAO_d11         0.490444         2.901284            0.169           0.866\n",
              "L4.CAMB_d11             0.111462         0.135795            0.821           0.412\n",
              "L4.IND_d11             -0.086482         0.324797           -0.266           0.790\n",
              "L4.SELIC_d11           -1.720321         1.363884           -1.261           0.207\n",
              "L5.INFLACAO_d11         0.144552         2.879496            0.050           0.960\n",
              "L5.CAMB_d11             0.113299         0.134523            0.842           0.400\n",
              "L5.IND_d11              0.274106         0.276939            0.990           0.322\n",
              "L5.SELIC_d11            1.136206         0.872207            1.303           0.193\n",
              "L6.INFLACAO_d11        -2.517277         2.568250           -0.980           0.327\n",
              "L6.CAMB_d11             0.000798         0.126736            0.006           0.995\n",
              "L6.IND_d11             -0.195247         0.221756           -0.880           0.379\n",
              "L6.SELIC_d11            0.854452         0.886871            0.963           0.335\n",
              "==================================================================================\n",
              "\n",
              "Results for equation SELIC_d11\n",
              "==================================================================================\n",
              "                     coefficient       std. error           t-stat            prob\n",
              "----------------------------------------------------------------------------------\n",
              "const                  -0.916092         0.380361           -2.408           0.016\n",
              "L1.INFLACAO_d11         0.691804         0.194811            3.551           0.000\n",
              "L1.CAMB_d11            -0.024219         0.012352           -1.961           0.050\n",
              "L1.IND_d11              0.007438         0.033065            0.225           0.822\n",
              "L1.SELIC_d11            0.570228         0.126738            4.499           0.000\n",
              "L2.INFLACAO_d11        -0.350896         0.230970           -1.519           0.129\n",
              "L2.CAMB_d11             0.004629         0.012933            0.358           0.720\n",
              "L2.IND_d11              0.002766         0.031705            0.087           0.930\n",
              "L2.SELIC_d11           -0.105030         0.140324           -0.748           0.454\n",
              "L3.INFLACAO_d11         0.220035         0.268213            0.820           0.412\n",
              "L3.CAMB_d11            -0.002685         0.011366           -0.236           0.813\n",
              "L3.IND_d11             -0.032941         0.026841           -1.227           0.220\n",
              "L3.SELIC_d11           -0.003395         0.113106           -0.030           0.976\n",
              "L4.INFLACAO_d11         0.206499         0.252338            0.818           0.413\n",
              "L4.CAMB_d11             0.004551         0.011811            0.385           0.700\n",
              "L4.IND_d11              0.029156         0.028249            1.032           0.302\n",
              "L4.SELIC_d11           -0.280412         0.118623           -2.364           0.018\n",
              "L5.INFLACAO_d11        -0.036051         0.250443           -0.144           0.886\n",
              "L5.CAMB_d11             0.025668         0.011700            2.194           0.028\n",
              "L5.IND_d11              0.032909         0.024087            1.366           0.172\n",
              "L5.SELIC_d11            0.006304         0.075860            0.083           0.934\n",
              "L6.INFLACAO_d11         0.028852         0.223372            0.129           0.897\n",
              "L6.CAMB_d11             0.004817         0.011023            0.437           0.662\n",
              "L6.IND_d11             -0.014976         0.019287           -0.776           0.437\n",
              "L6.SELIC_d11            0.149003         0.077135            1.932           0.053\n",
              "==================================================================================\n",
              "\n",
              "Correlation matrix of residuals\n",
              "                INFLACAO_d11  CAMB_d11   IND_d11  SELIC_d11\n",
              "INFLACAO_d11        1.000000  0.486829 -0.469063   0.102727\n",
              "CAMB_d11            0.486829  1.000000 -0.855278  -0.168766\n",
              "IND_d11            -0.469063 -0.855278  1.000000   0.173100\n",
              "SELIC_d11           0.102727 -0.168766  0.173100   1.000000\n",
              "\n"
            ]
          },
          "metadata": {},
          "execution_count": 157
        }
      ]
    },
    {
      "cell_type": "code",
      "source": [
        "#Checando a correlação dos resíduos usando DURBIN WATSON"
      ],
      "metadata": {
        "id": "FKjFJciftczx"
      },
      "execution_count": 158,
      "outputs": []
    },
    {
      "cell_type": "code",
      "source": [
        "def adjust(val, length= 6): return str(val).ljust(length)"
      ],
      "metadata": {
        "id": "SNfFWGXhwbLv"
      },
      "execution_count": 159,
      "outputs": []
    },
    {
      "cell_type": "code",
      "source": [
        "from statsmodels.stats.stattools import durbin_watson\n",
        "out = durbin_watson(model_fitted.resid)\n",
        "\n",
        "for col, val in zip(df1.columns, out):\n",
        "    print(adjust(col), ':', round(val, 2))"
      ],
      "metadata": {
        "colab": {
          "base_uri": "https://localhost:8080/"
        },
        "id": "ugmCBiodtwM3",
        "outputId": "0ffb2c02-832a-4f03-a213-47642bd66b80"
      },
      "execution_count": 160,
      "outputs": [
        {
          "output_type": "stream",
          "name": "stdout",
          "text": [
            "INFLACAO_d11 : 1.91\n",
            "CAMB_d11 : 2.04\n",
            "IND_d11 : 2.02\n",
            "SELIC_d11 : 1.81\n"
          ]
        }
      ]
    },
    {
      "cell_type": "code",
      "source": [
        "#Parece bom"
      ],
      "metadata": {
        "id": "pkzRFdZ8wfvK"
      },
      "execution_count": 39,
      "outputs": []
    },
    {
      "cell_type": "code",
      "source": [
        "#Usando a Previsão com VAR"
      ],
      "metadata": {
        "id": "UwjIqh9Aw2Vo"
      },
      "execution_count": 40,
      "outputs": []
    },
    {
      "cell_type": "code",
      "source": [
        "# pegue a ordem de lags\n",
        "lag_order = model_fitted.k_ar\n",
        "print(lag_order)  #> 4\n",
        "\n",
        "# colocando os dados para previsão\n",
        "forecast_input = df_differenced.values[-lag_order:]\n",
        "forecast_input"
      ],
      "metadata": {
        "colab": {
          "base_uri": "https://localhost:8080/"
        },
        "id": "L8V6cFOzw9c3",
        "outputId": "ce686d33-095c-4aaa-dca1-6ee94a0ebe88"
      },
      "execution_count": 162,
      "outputs": [
        {
          "output_type": "stream",
          "name": "stdout",
          "text": [
            "6\n"
          ]
        },
        {
          "output_type": "execute_result",
          "data": {
            "text/plain": [
              "array([[ 9.01391404e-01,  1.36375783e+01,  8.80163924e+00,\n",
              "         6.68182931e-01],\n",
              "       [ 1.59915323e+00,  2.78305379e+01, -7.03281076e+00,\n",
              "         9.89172331e-01],\n",
              "       [ 1.72269801e+00, -1.01796445e+01, -1.23756953e+01,\n",
              "         8.59724250e-01],\n",
              "       [ 2.37443377e+00,  1.31231166e+01, -9.49021039e+00,\n",
              "         5.26200943e-01],\n",
              "       [-1.15437642e-02, -1.68072919e+01, -7.57886308e+00,\n",
              "         1.99064904e-01],\n",
              "       [-8.03029618e-01, -5.51376637e+00,  7.04389312e+00,\n",
              "         1.72727941e-01]])"
            ]
          },
          "metadata": {},
          "execution_count": 162
        }
      ]
    },
    {
      "cell_type": "code",
      "source": [
        "#Previsão"
      ],
      "metadata": {
        "id": "tkpIhGawxHKY"
      },
      "execution_count": 163,
      "outputs": []
    },
    {
      "cell_type": "code",
      "source": [
        "fc = model_fitted.forecast(y=forecast_input, steps=nobs)\n",
        "df_forecast = pd.DataFrame(fc, index=df.index[-nobs:], columns=df1.columns + '_1d')\n",
        "df_forecast"
      ],
      "metadata": {
        "colab": {
          "base_uri": "https://localhost:8080/",
          "height": 174
        },
        "id": "JlnGMpLAxMoh",
        "outputId": "cd1c1355-3267-41d0-e438-dd5bfcd5fde0"
      },
      "execution_count": 164,
      "outputs": [
        {
          "output_type": "execute_result",
          "data": {
            "text/plain": [
              "    INFLACAO_d11_1d  CAMB_d11_1d  IND_d11_1d  SELIC_d11_1d\n",
              "51         1.312513     7.428617    1.613666     -0.306323\n",
              "52         0.771565    -3.842328    5.075800      0.031949\n",
              "53         1.436325     8.018291   -9.703544     -1.116639\n",
              "54         2.011405    -3.503640  -10.295762     -1.247529"
            ],
            "text/html": [
              "\n",
              "  <div id=\"df-f319bad1-bd7a-441d-8069-a93b458613a4\">\n",
              "    <div class=\"colab-df-container\">\n",
              "      <div>\n",
              "<style scoped>\n",
              "    .dataframe tbody tr th:only-of-type {\n",
              "        vertical-align: middle;\n",
              "    }\n",
              "\n",
              "    .dataframe tbody tr th {\n",
              "        vertical-align: top;\n",
              "    }\n",
              "\n",
              "    .dataframe thead th {\n",
              "        text-align: right;\n",
              "    }\n",
              "</style>\n",
              "<table border=\"1\" class=\"dataframe\">\n",
              "  <thead>\n",
              "    <tr style=\"text-align: right;\">\n",
              "      <th></th>\n",
              "      <th>INFLACAO_d11_1d</th>\n",
              "      <th>CAMB_d11_1d</th>\n",
              "      <th>IND_d11_1d</th>\n",
              "      <th>SELIC_d11_1d</th>\n",
              "    </tr>\n",
              "  </thead>\n",
              "  <tbody>\n",
              "    <tr>\n",
              "      <th>51</th>\n",
              "      <td>1.312513</td>\n",
              "      <td>7.428617</td>\n",
              "      <td>1.613666</td>\n",
              "      <td>-0.306323</td>\n",
              "    </tr>\n",
              "    <tr>\n",
              "      <th>52</th>\n",
              "      <td>0.771565</td>\n",
              "      <td>-3.842328</td>\n",
              "      <td>5.075800</td>\n",
              "      <td>0.031949</td>\n",
              "    </tr>\n",
              "    <tr>\n",
              "      <th>53</th>\n",
              "      <td>1.436325</td>\n",
              "      <td>8.018291</td>\n",
              "      <td>-9.703544</td>\n",
              "      <td>-1.116639</td>\n",
              "    </tr>\n",
              "    <tr>\n",
              "      <th>54</th>\n",
              "      <td>2.011405</td>\n",
              "      <td>-3.503640</td>\n",
              "      <td>-10.295762</td>\n",
              "      <td>-1.247529</td>\n",
              "    </tr>\n",
              "  </tbody>\n",
              "</table>\n",
              "</div>\n",
              "      <button class=\"colab-df-convert\" onclick=\"convertToInteractive('df-f319bad1-bd7a-441d-8069-a93b458613a4')\"\n",
              "              title=\"Convert this dataframe to an interactive table.\"\n",
              "              style=\"display:none;\">\n",
              "        \n",
              "  <svg xmlns=\"http://www.w3.org/2000/svg\" height=\"24px\"viewBox=\"0 0 24 24\"\n",
              "       width=\"24px\">\n",
              "    <path d=\"M0 0h24v24H0V0z\" fill=\"none\"/>\n",
              "    <path d=\"M18.56 5.44l.94 2.06.94-2.06 2.06-.94-2.06-.94-.94-2.06-.94 2.06-2.06.94zm-11 1L8.5 8.5l.94-2.06 2.06-.94-2.06-.94L8.5 2.5l-.94 2.06-2.06.94zm10 10l.94 2.06.94-2.06 2.06-.94-2.06-.94-.94-2.06-.94 2.06-2.06.94z\"/><path d=\"M17.41 7.96l-1.37-1.37c-.4-.4-.92-.59-1.43-.59-.52 0-1.04.2-1.43.59L10.3 9.45l-7.72 7.72c-.78.78-.78 2.05 0 2.83L4 21.41c.39.39.9.59 1.41.59.51 0 1.02-.2 1.41-.59l7.78-7.78 2.81-2.81c.8-.78.8-2.07 0-2.86zM5.41 20L4 18.59l7.72-7.72 1.47 1.35L5.41 20z\"/>\n",
              "  </svg>\n",
              "      </button>\n",
              "      \n",
              "  <style>\n",
              "    .colab-df-container {\n",
              "      display:flex;\n",
              "      flex-wrap:wrap;\n",
              "      gap: 12px;\n",
              "    }\n",
              "\n",
              "    .colab-df-convert {\n",
              "      background-color: #E8F0FE;\n",
              "      border: none;\n",
              "      border-radius: 50%;\n",
              "      cursor: pointer;\n",
              "      display: none;\n",
              "      fill: #1967D2;\n",
              "      height: 32px;\n",
              "      padding: 0 0 0 0;\n",
              "      width: 32px;\n",
              "    }\n",
              "\n",
              "    .colab-df-convert:hover {\n",
              "      background-color: #E2EBFA;\n",
              "      box-shadow: 0px 1px 2px rgba(60, 64, 67, 0.3), 0px 1px 3px 1px rgba(60, 64, 67, 0.15);\n",
              "      fill: #174EA6;\n",
              "    }\n",
              "\n",
              "    [theme=dark] .colab-df-convert {\n",
              "      background-color: #3B4455;\n",
              "      fill: #D2E3FC;\n",
              "    }\n",
              "\n",
              "    [theme=dark] .colab-df-convert:hover {\n",
              "      background-color: #434B5C;\n",
              "      box-shadow: 0px 1px 3px 1px rgba(0, 0, 0, 0.15);\n",
              "      filter: drop-shadow(0px 1px 2px rgba(0, 0, 0, 0.3));\n",
              "      fill: #FFFFFF;\n",
              "    }\n",
              "  </style>\n",
              "\n",
              "      <script>\n",
              "        const buttonEl =\n",
              "          document.querySelector('#df-f319bad1-bd7a-441d-8069-a93b458613a4 button.colab-df-convert');\n",
              "        buttonEl.style.display =\n",
              "          google.colab.kernel.accessAllowed ? 'block' : 'none';\n",
              "\n",
              "        async function convertToInteractive(key) {\n",
              "          const element = document.querySelector('#df-f319bad1-bd7a-441d-8069-a93b458613a4');\n",
              "          const dataTable =\n",
              "            await google.colab.kernel.invokeFunction('convertToInteractive',\n",
              "                                                     [key], {});\n",
              "          if (!dataTable) return;\n",
              "\n",
              "          const docLinkHtml = 'Like what you see? Visit the ' +\n",
              "            '<a target=\"_blank\" href=https://colab.research.google.com/notebooks/data_table.ipynb>data table notebook</a>'\n",
              "            + ' to learn more about interactive tables.';\n",
              "          element.innerHTML = '';\n",
              "          dataTable['output_type'] = 'display_data';\n",
              "          await google.colab.output.renderOutput(dataTable, element);\n",
              "          const docLink = document.createElement('div');\n",
              "          docLink.innerHTML = docLinkHtml;\n",
              "          element.appendChild(docLink);\n",
              "        }\n",
              "      </script>\n",
              "    </div>\n",
              "  </div>\n",
              "  "
            ]
          },
          "metadata": {},
          "execution_count": 164
        }
      ]
    },
    {
      "cell_type": "code",
      "source": [
        "#Feito, mas está na escala nos dados de treino, vamos colocá-lo de volta para a escala original, no caso aqui, precisamos realizar novamente o teste de primeira diferênça, (ficou estácionario na 1 diferença)"
      ],
      "metadata": {
        "id": "v9JqzA3RxUMf"
      },
      "execution_count": 165,
      "outputs": []
    },
    {
      "cell_type": "code",
      "source": [
        "#Inverter a transformação para ter a verdadeira previsão"
      ],
      "metadata": {
        "id": "fYy3d1Ycxqku"
      },
      "execution_count": 166,
      "outputs": []
    },
    {
      "cell_type": "code",
      "source": [
        "def invert_transformation(df1_train, df_forecast, second_diff=False):\n",
        "    df_fc = df_forecast.copy()\n",
        "    columns = df1_train.columns\n",
        "    for col in columns:        \n",
        "        # Roll back 2nd Diff\n",
        "        if second_diff:\n",
        "            df_fc[str(col)+'_1d'] = (df1_train[col].iloc[-1]-df1_train[col].iloc[-2]) + df_fc[str(col)+'_2d'].cumsum()\n",
        "        # Roll back 1st Diff\n",
        "        df_fc[str(col)+'_forecast'] = df1_train[col].iloc[-1] + df_fc[str(col)+'_1d'].cumsum()\n",
        "    return df_fc"
      ],
      "metadata": {
        "id": "ABHSAjPjx6rH"
      },
      "execution_count": 167,
      "outputs": []
    },
    {
      "cell_type": "code",
      "source": [
        "df_results = invert_transformation(df1_train, df_forecast, second_diff=False) \n",
        "df_results.loc[:, ['INFLACAO_d11_forecast', 'CAMB_d11_forecast', 'IND_d11_forecast', 'SELIC_d11_forecast']]       \n"
      ],
      "metadata": {
        "colab": {
          "base_uri": "https://localhost:8080/",
          "height": 174
        },
        "id": "bfx7YdxnyaUA",
        "outputId": "3c223ebd-8596-49fc-e071-3c1ae95d43db"
      },
      "execution_count": 168,
      "outputs": [
        {
          "output_type": "execute_result",
          "data": {
            "text/plain": [
              "    INFLACAO_d11_forecast  CAMB_d11_forecast  IND_d11_forecast  \\\n",
              "51              97.432306         348.377062        312.852139   \n",
              "52              98.203871         344.534734        317.927939   \n",
              "53              99.640196         352.553025        308.224395   \n",
              "54             101.651601         349.049385        297.928633   \n",
              "\n",
              "    SELIC_d11_forecast  \n",
              "51           11.168599  \n",
              "52           11.200548  \n",
              "53           10.083909  \n",
              "54            8.836380  "
            ],
            "text/html": [
              "\n",
              "  <div id=\"df-946b2fff-1e97-4d32-be9d-6f2a6d4e9034\">\n",
              "    <div class=\"colab-df-container\">\n",
              "      <div>\n",
              "<style scoped>\n",
              "    .dataframe tbody tr th:only-of-type {\n",
              "        vertical-align: middle;\n",
              "    }\n",
              "\n",
              "    .dataframe tbody tr th {\n",
              "        vertical-align: top;\n",
              "    }\n",
              "\n",
              "    .dataframe thead th {\n",
              "        text-align: right;\n",
              "    }\n",
              "</style>\n",
              "<table border=\"1\" class=\"dataframe\">\n",
              "  <thead>\n",
              "    <tr style=\"text-align: right;\">\n",
              "      <th></th>\n",
              "      <th>INFLACAO_d11_forecast</th>\n",
              "      <th>CAMB_d11_forecast</th>\n",
              "      <th>IND_d11_forecast</th>\n",
              "      <th>SELIC_d11_forecast</th>\n",
              "    </tr>\n",
              "  </thead>\n",
              "  <tbody>\n",
              "    <tr>\n",
              "      <th>51</th>\n",
              "      <td>97.432306</td>\n",
              "      <td>348.377062</td>\n",
              "      <td>312.852139</td>\n",
              "      <td>11.168599</td>\n",
              "    </tr>\n",
              "    <tr>\n",
              "      <th>52</th>\n",
              "      <td>98.203871</td>\n",
              "      <td>344.534734</td>\n",
              "      <td>317.927939</td>\n",
              "      <td>11.200548</td>\n",
              "    </tr>\n",
              "    <tr>\n",
              "      <th>53</th>\n",
              "      <td>99.640196</td>\n",
              "      <td>352.553025</td>\n",
              "      <td>308.224395</td>\n",
              "      <td>10.083909</td>\n",
              "    </tr>\n",
              "    <tr>\n",
              "      <th>54</th>\n",
              "      <td>101.651601</td>\n",
              "      <td>349.049385</td>\n",
              "      <td>297.928633</td>\n",
              "      <td>8.836380</td>\n",
              "    </tr>\n",
              "  </tbody>\n",
              "</table>\n",
              "</div>\n",
              "      <button class=\"colab-df-convert\" onclick=\"convertToInteractive('df-946b2fff-1e97-4d32-be9d-6f2a6d4e9034')\"\n",
              "              title=\"Convert this dataframe to an interactive table.\"\n",
              "              style=\"display:none;\">\n",
              "        \n",
              "  <svg xmlns=\"http://www.w3.org/2000/svg\" height=\"24px\"viewBox=\"0 0 24 24\"\n",
              "       width=\"24px\">\n",
              "    <path d=\"M0 0h24v24H0V0z\" fill=\"none\"/>\n",
              "    <path d=\"M18.56 5.44l.94 2.06.94-2.06 2.06-.94-2.06-.94-.94-2.06-.94 2.06-2.06.94zm-11 1L8.5 8.5l.94-2.06 2.06-.94-2.06-.94L8.5 2.5l-.94 2.06-2.06.94zm10 10l.94 2.06.94-2.06 2.06-.94-2.06-.94-.94-2.06-.94 2.06-2.06.94z\"/><path d=\"M17.41 7.96l-1.37-1.37c-.4-.4-.92-.59-1.43-.59-.52 0-1.04.2-1.43.59L10.3 9.45l-7.72 7.72c-.78.78-.78 2.05 0 2.83L4 21.41c.39.39.9.59 1.41.59.51 0 1.02-.2 1.41-.59l7.78-7.78 2.81-2.81c.8-.78.8-2.07 0-2.86zM5.41 20L4 18.59l7.72-7.72 1.47 1.35L5.41 20z\"/>\n",
              "  </svg>\n",
              "      </button>\n",
              "      \n",
              "  <style>\n",
              "    .colab-df-container {\n",
              "      display:flex;\n",
              "      flex-wrap:wrap;\n",
              "      gap: 12px;\n",
              "    }\n",
              "\n",
              "    .colab-df-convert {\n",
              "      background-color: #E8F0FE;\n",
              "      border: none;\n",
              "      border-radius: 50%;\n",
              "      cursor: pointer;\n",
              "      display: none;\n",
              "      fill: #1967D2;\n",
              "      height: 32px;\n",
              "      padding: 0 0 0 0;\n",
              "      width: 32px;\n",
              "    }\n",
              "\n",
              "    .colab-df-convert:hover {\n",
              "      background-color: #E2EBFA;\n",
              "      box-shadow: 0px 1px 2px rgba(60, 64, 67, 0.3), 0px 1px 3px 1px rgba(60, 64, 67, 0.15);\n",
              "      fill: #174EA6;\n",
              "    }\n",
              "\n",
              "    [theme=dark] .colab-df-convert {\n",
              "      background-color: #3B4455;\n",
              "      fill: #D2E3FC;\n",
              "    }\n",
              "\n",
              "    [theme=dark] .colab-df-convert:hover {\n",
              "      background-color: #434B5C;\n",
              "      box-shadow: 0px 1px 3px 1px rgba(0, 0, 0, 0.15);\n",
              "      filter: drop-shadow(0px 1px 2px rgba(0, 0, 0, 0.3));\n",
              "      fill: #FFFFFF;\n",
              "    }\n",
              "  </style>\n",
              "\n",
              "      <script>\n",
              "        const buttonEl =\n",
              "          document.querySelector('#df-946b2fff-1e97-4d32-be9d-6f2a6d4e9034 button.colab-df-convert');\n",
              "        buttonEl.style.display =\n",
              "          google.colab.kernel.accessAllowed ? 'block' : 'none';\n",
              "\n",
              "        async function convertToInteractive(key) {\n",
              "          const element = document.querySelector('#df-946b2fff-1e97-4d32-be9d-6f2a6d4e9034');\n",
              "          const dataTable =\n",
              "            await google.colab.kernel.invokeFunction('convertToInteractive',\n",
              "                                                     [key], {});\n",
              "          if (!dataTable) return;\n",
              "\n",
              "          const docLinkHtml = 'Like what you see? Visit the ' +\n",
              "            '<a target=\"_blank\" href=https://colab.research.google.com/notebooks/data_table.ipynb>data table notebook</a>'\n",
              "            + ' to learn more about interactive tables.';\n",
              "          element.innerHTML = '';\n",
              "          dataTable['output_type'] = 'display_data';\n",
              "          await google.colab.output.renderOutput(dataTable, element);\n",
              "          const docLink = document.createElement('div');\n",
              "          docLink.innerHTML = docLinkHtml;\n",
              "          element.appendChild(docLink);\n",
              "        }\n",
              "      </script>\n",
              "    </div>\n",
              "  </div>\n",
              "  "
            ]
          },
          "metadata": {},
          "execution_count": 168
        }
      ]
    },
    {
      "cell_type": "code",
      "source": [
        "fig, axes = plt.subplots(nrows=int(len(df1.columns)/2), ncols=3, dpi=150, figsize=(10,10))\n",
        "for i, (col,ax) in enumerate(zip(df1.columns, axes.flatten())):\n",
        "    df_results[col+'_forecast'].plot(legend=True, ax=ax).autoscale(axis='x',tight=True)\n",
        "    df1_test[col][-nobs:].plot(legend=True, ax=ax);\n",
        "    ax.set_title(col + \": Previsão vs Atual\")\n",
        "    ax.xaxis.set_ticks_position('none')\n",
        "    ax.yaxis.set_ticks_position('none')\n",
        "    ax.spines[\"top\"].set_alpha(0)\n",
        "    ax.tick_params(labelsize=6)\n",
        "\n",
        "plt.tight_layout();"
      ],
      "metadata": {
        "id": "sMnWnvx1zq9P",
        "colab": {
          "base_uri": "https://localhost:8080/",
          "height": 1000
        },
        "outputId": "4fe75ce0-781f-4ccc-8e6a-c44b4e7e4661"
      },
      "execution_count": 169,
      "outputs": [
        {
          "output_type": "display_data",
          "data": {
            "text/plain": [
              "<Figure size 1500x1500 with 6 Axes>"
            ],
            "image/png": "[encoded data removed]"
          },
          "metadata": {
            "needs_background": "light"
          }
        }
      ]
    },
    {
      "cell_type": "code",
      "source": [
        "#Diagnosticando as previsões"
      ],
      "metadata": {
        "id": "F5UzDVno7_PH"
      },
      "execution_count": 170,
      "outputs": []
    },
    {
      "cell_type": "code",
      "source": [
        "df1_test"
      ],
      "metadata": {
        "colab": {
          "base_uri": "https://localhost:8080/",
          "height": 174
        },
        "id": "bRygQScn8lfW",
        "outputId": "d86cfba1-73c1-4680-8300-a52fd531bb6d"
      },
      "execution_count": 171,
      "outputs": [
        {
          "output_type": "execute_result",
          "data": {
            "text/plain": [
              "    INFLACAO_d11    CAMB_d11     IND_d11  SELIC_d11\n",
              "51     98.068768  358.429990  297.548997  11.996548\n",
              "52     99.973028  381.215791  285.374536  12.752032\n",
              "53    102.296315  409.933981  270.203886  13.384956\n",
              "54    104.182356  447.549957  260.892070  13.717654"
            ],
            "text/html": [
              "\n",
              "  <div id=\"df-86d6195d-3b67-4987-a91c-6b3902b4f40d\">\n",
              "    <div class=\"colab-df-container\">\n",
              "      <div>\n",
              "<style scoped>\n",
              "    .dataframe tbody tr th:only-of-type {\n",
              "        vertical-align: middle;\n",
              "    }\n",
              "\n",
              "    .dataframe tbody tr th {\n",
              "        vertical-align: top;\n",
              "    }\n",
              "\n",
              "    .dataframe thead th {\n",
              "        text-align: right;\n",
              "    }\n",
              "</style>\n",
              "<table border=\"1\" class=\"dataframe\">\n",
              "  <thead>\n",
              "    <tr style=\"text-align: right;\">\n",
              "      <th></th>\n",
              "      <th>INFLACAO_d11</th>\n",
              "      <th>CAMB_d11</th>\n",
              "      <th>IND_d11</th>\n",
              "      <th>SELIC_d11</th>\n",
              "    </tr>\n",
              "  </thead>\n",
              "  <tbody>\n",
              "    <tr>\n",
              "      <th>51</th>\n",
              "      <td>98.068768</td>\n",
              "      <td>358.429990</td>\n",
              "      <td>297.548997</td>\n",
              "      <td>11.996548</td>\n",
              "    </tr>\n",
              "    <tr>\n",
              "      <th>52</th>\n",
              "      <td>99.973028</td>\n",
              "      <td>381.215791</td>\n",
              "      <td>285.374536</td>\n",
              "      <td>12.752032</td>\n",
              "    </tr>\n",
              "    <tr>\n",
              "      <th>53</th>\n",
              "      <td>102.296315</td>\n",
              "      <td>409.933981</td>\n",
              "      <td>270.203886</td>\n",
              "      <td>13.384956</td>\n",
              "    </tr>\n",
              "    <tr>\n",
              "      <th>54</th>\n",
              "      <td>104.182356</td>\n",
              "      <td>447.549957</td>\n",
              "      <td>260.892070</td>\n",
              "      <td>13.717654</td>\n",
              "    </tr>\n",
              "  </tbody>\n",
              "</table>\n",
              "</div>\n",
              "      <button class=\"colab-df-convert\" onclick=\"convertToInteractive('df-86d6195d-3b67-4987-a91c-6b3902b4f40d')\"\n",
              "              title=\"Convert this dataframe to an interactive table.\"\n",
              "              style=\"display:none;\">\n",
              "        \n",
              "  <svg xmlns=\"http://www.w3.org/2000/svg\" height=\"24px\"viewBox=\"0 0 24 24\"\n",
              "       width=\"24px\">\n",
              "    <path d=\"M0 0h24v24H0V0z\" fill=\"none\"/>\n",
              "    <path d=\"M18.56 5.44l.94 2.06.94-2.06 2.06-.94-2.06-.94-.94-2.06-.94 2.06-2.06.94zm-11 1L8.5 8.5l.94-2.06 2.06-.94-2.06-.94L8.5 2.5l-.94 2.06-2.06.94zm10 10l.94 2.06.94-2.06 2.06-.94-2.06-.94-.94-2.06-.94 2.06-2.06.94z\"/><path d=\"M17.41 7.96l-1.37-1.37c-.4-.4-.92-.59-1.43-.59-.52 0-1.04.2-1.43.59L10.3 9.45l-7.72 7.72c-.78.78-.78 2.05 0 2.83L4 21.41c.39.39.9.59 1.41.59.51 0 1.02-.2 1.41-.59l7.78-7.78 2.81-2.81c.8-.78.8-2.07 0-2.86zM5.41 20L4 18.59l7.72-7.72 1.47 1.35L5.41 20z\"/>\n",
              "  </svg>\n",
              "      </button>\n",
              "      \n",
              "  <style>\n",
              "    .colab-df-container {\n",
              "      display:flex;\n",
              "      flex-wrap:wrap;\n",
              "      gap: 12px;\n",
              "    }\n",
              "\n",
              "    .colab-df-convert {\n",
              "      background-color: #E8F0FE;\n",
              "      border: none;\n",
              "      border-radius: 50%;\n",
              "      cursor: pointer;\n",
              "      display: none;\n",
              "      fill: #1967D2;\n",
              "      height: 32px;\n",
              "      padding: 0 0 0 0;\n",
              "      width: 32px;\n",
              "    }\n",
              "\n",
              "    .colab-df-convert:hover {\n",
              "      background-color: #E2EBFA;\n",
              "      box-shadow: 0px 1px 2px rgba(60, 64, 67, 0.3), 0px 1px 3px 1px rgba(60, 64, 67, 0.15);\n",
              "      fill: #174EA6;\n",
              "    }\n",
              "\n",
              "    [theme=dark] .colab-df-convert {\n",
              "      background-color: #3B4455;\n",
              "      fill: #D2E3FC;\n",
              "    }\n",
              "\n",
              "    [theme=dark] .colab-df-convert:hover {\n",
              "      background-color: #434B5C;\n",
              "      box-shadow: 0px 1px 3px 1px rgba(0, 0, 0, 0.15);\n",
              "      filter: drop-shadow(0px 1px 2px rgba(0, 0, 0, 0.3));\n",
              "      fill: #FFFFFF;\n",
              "    }\n",
              "  </style>\n",
              "\n",
              "      <script>\n",
              "        const buttonEl =\n",
              "          document.querySelector('#df-86d6195d-3b67-4987-a91c-6b3902b4f40d button.colab-df-convert');\n",
              "        buttonEl.style.display =\n",
              "          google.colab.kernel.accessAllowed ? 'block' : 'none';\n",
              "\n",
              "        async function convertToInteractive(key) {\n",
              "          const element = document.querySelector('#df-86d6195d-3b67-4987-a91c-6b3902b4f40d');\n",
              "          const dataTable =\n",
              "            await google.colab.kernel.invokeFunction('convertToInteractive',\n",
              "                                                     [key], {});\n",
              "          if (!dataTable) return;\n",
              "\n",
              "          const docLinkHtml = 'Like what you see? Visit the ' +\n",
              "            '<a target=\"_blank\" href=https://colab.research.google.com/notebooks/data_table.ipynb>data table notebook</a>'\n",
              "            + ' to learn more about interactive tables.';\n",
              "          element.innerHTML = '';\n",
              "          dataTable['output_type'] = 'display_data';\n",
              "          await google.colab.output.renderOutput(dataTable, element);\n",
              "          const docLink = document.createElement('div');\n",
              "          docLink.innerHTML = docLinkHtml;\n",
              "          element.appendChild(docLink);\n",
              "        }\n",
              "      </script>\n",
              "    </div>\n",
              "  </div>\n",
              "  "
            ]
          },
          "metadata": {},
          "execution_count": 171
        }
      ]
    },
    {
      "cell_type": "code",
      "source": [
        "from statsmodels.tsa.stattools import acf\n",
        "def forecast_accuracy(forecast, actual):\n",
        "    mape = np.mean(np.abs(forecast - actual)/np.abs(actual))  # MAPE\n",
        "    me = np.mean(forecast - actual)             # ME\n",
        "    mae = np.mean(np.abs(forecast - actual))    # MAE\n",
        "    mpe = np.mean((forecast - actual)/actual)   # MPE\n",
        "    rmse = np.mean((forecast - actual)**2)**.5  # RMSE\n",
        "    corr = np.corrcoef(forecast, actual)[0,1]   # corr\n",
        "    mins = np.amin(np.hstack([forecast[:,None], \n",
        "                              actual[:,None]]), axis=1)\n",
        "    maxs = np.amax(np.hstack([forecast[:,None], \n",
        "                              actual[:,None]]), axis=1)\n",
        "    minmax = 1 - np.mean(mins/maxs)             # minmax\n",
        "    return({'mape':mape, 'me':me, 'mae': mae, \n",
        "            'mpe': mpe, 'rmse':rmse, 'corr':corr, 'minmax':minmax})\n",
        "\n",
        "print('Forecast Accuracy of: INFLACAO_d11')\n",
        "accuracy_prod = forecast_accuracy(df_results['INFLACAO_d11_forecast'].values, df1_test['INFLACAO_d11'])\n",
        "for k, v in accuracy_prod.items():\n",
        "    print(adjust(k), ': ', round(v,4))\n",
        "\n",
        "print('\\nForecast Accuracy of: CAMB_d11')\n",
        "accuracy_prod = forecast_accuracy(df_results['CAMB_d11_forecast'].values, df1_test['CAMB_d11'])\n",
        "for k, v in accuracy_prod.items():\n",
        "    print(adjust(k), ': ', round(v,4))\n",
        "\n",
        "print('\\nForecast Accuracy of: IND_d11')\n",
        "accuracy_prod = forecast_accuracy(df_results['IND_d11_forecast'].values, df1_test['IND_d11'])\n",
        "for k, v in accuracy_prod.items():\n",
        "    print(adjust(k), ': ', round(v,4))\n"
      ],
      "metadata": {
        "colab": {
          "base_uri": "https://localhost:8080/"
        },
        "id": "DEcKZk6Q8B_D",
        "outputId": "535ce71d-2510-4d93-e6d1-8798fa169528"
      },
      "execution_count": 172,
      "outputs": [
        {
          "output_type": "stream",
          "name": "stdout",
          "text": [
            "Forecast Accuracy of: INFLACAO_d11\n",
            "mape   :  0.0186\n",
            "me     :  -1.8981\n",
            "mae    :  1.8981\n",
            "mpe    :  -0.0186\n",
            "rmse   :  2.0612\n",
            "corr   :  0.9802\n",
            "minmax :  0.0186\n",
            "\n",
            "Forecast Accuracy of: CAMB_d11\n",
            "mape   :  0.1211\n",
            "me     :  -50.6539\n",
            "mae    :  50.6539\n",
            "mpe    :  -0.1211\n",
            "rmse   :  60.0864\n",
            "corr   :  0.3859\n",
            "minmax :  0.1211\n",
            "\n",
            "Forecast Accuracy of: IND_d11\n",
            "mape   :  0.112\n",
            "me     :  30.7284\n",
            "mae    :  30.7284\n",
            "mpe    :  0.112\n",
            "rmse   :  32.0592\n",
            "corr   :  0.8114\n",
            "minmax :  0.0997\n"
          ]
        },
        {
          "output_type": "stream",
          "name": "stderr",
          "text": [
            "/usr/local/lib/python3.7/dist-packages/ipykernel_launcher.py:10: FutureWarning: Support for multi-dimensional indexing (e.g. `obj[:, None]`) is deprecated and will be removed in a future version.  Convert to a numpy array before indexing instead.\n",
            "  # Remove the CWD from sys.path while we load stuff.\n",
            "/usr/local/lib/python3.7/dist-packages/ipykernel_launcher.py:12: FutureWarning: Support for multi-dimensional indexing (e.g. `obj[:, None]`) is deprecated and will be removed in a future version.  Convert to a numpy array before indexing instead.\n",
            "  if sys.path[0] == '':\n"
          ]
        }
      ]
    },
    {
      "cell_type": "code",
      "source": [
        "#Agora, partiremos para outro método de previsão, random forest"
      ],
      "metadata": {
        "id": "LiyJLYBydliP"
      },
      "execution_count": 51,
      "outputs": []
    },
    {
      "cell_type": "code",
      "source": [
        "pre_scale = df1[['INFLACAO_d11', 'CAMB_d11', 'SELIC_d11']]"
      ],
      "metadata": {
        "id": "1xJOwXwbare1"
      },
      "execution_count": 173,
      "outputs": []
    },
    {
      "cell_type": "code",
      "source": [
        "from sklearn.preprocessing import StandardScaler\n",
        "scaler = StandardScaler()\n",
        "scaled_X = scaler.fit_transform(pre_scale)"
      ],
      "metadata": {
        "id": "fINqfmkhZzNx"
      },
      "execution_count": 174,
      "outputs": []
    },
    {
      "cell_type": "code",
      "source": [
        "scaled_X"
      ],
      "metadata": {
        "colab": {
          "base_uri": "https://localhost:8080/"
        },
        "id": "idOLrubaaBMr",
        "outputId": "ae1507ed-e967-41d2-84f1-06c0a68b7a09"
      },
      "execution_count": 175,
      "outputs": [
        {
          "output_type": "execute_result",
          "data": {
            "text/plain": [
              "array([[-1.95643993e+00,  7.42448196e-01,  2.09367859e+00],\n",
              "       [-1.84770638e+00,  1.19443611e+00,  2.03294960e+00],\n",
              "       [-1.68930549e+00,  2.33923939e+00,  1.73414903e+00],\n",
              "       [-1.38525666e+00,  2.97236821e+00,  2.57843408e+00],\n",
              "       [-1.23764642e+00,  2.42418850e+00,  2.41346197e+00],\n",
              "       [-1.20853127e+00,  1.56646563e+00,  2.39787412e+00],\n",
              "       [-1.17059252e+00,  1.34359628e+00,  1.43353510e+00],\n",
              "       [-1.14711886e+00,  1.27834343e+00,  8.79974811e-01],\n",
              "       [-1.08499705e+00,  1.38308291e+00,  6.97615835e-01],\n",
              "       [-9.31865104e-01,  1.67095424e+00,  5.85408866e-01],\n",
              "       [-8.22223779e-01,  1.42198301e+00,  5.62125647e-01],\n",
              "       [-7.76486920e-01,  1.13154570e+00,  7.57256932e-01],\n",
              "       [-7.36783022e-01,  9.09850218e-01,  8.71027714e-01],\n",
              "       [-7.08690393e-01,  5.21781937e-01,  9.45817719e-01],\n",
              "       [-7.52636993e-01,  2.15919958e-01,  9.57074478e-01],\n",
              "       [-7.37005815e-01, -2.79964286e-02,  7.41960984e-01],\n",
              "       [-7.18397275e-01, -1.27050424e-01,  5.05457277e-01],\n",
              "       [-6.82452622e-01, -2.63888604e-02,  3.28685444e-01],\n",
              "       [-6.44073018e-01, -3.00228286e-02,  1.63798875e-01],\n",
              "       [-6.06641020e-01, -7.87200421e-02,  5.50685582e-03],\n",
              "       [-5.67147249e-01, -1.95805135e-01, -6.32108447e-02],\n",
              "       [-5.50806278e-01, -3.23715024e-01, -1.62903475e-01],\n",
              "       [-4.47732405e-01, -4.19430452e-01, -3.20926081e-01],\n",
              "       [-3.33406652e-01, -6.02895328e-01, -3.72835266e-01],\n",
              "       [-2.40826950e-01, -6.86015644e-01, -3.74523097e-01],\n",
              "       [-6.91557481e-02, -7.43954844e-01, -3.17241095e-01],\n",
              "       [ 2.27366408e-03, -8.06162493e-01, -1.99224738e-01],\n",
              "       [ 3.94351009e-02, -3.15014775e-02, -2.22576832e-01],\n",
              "       [ 6.00372651e-03, -1.12488930e-01, -4.50986603e-01],\n",
              "       [-7.15786542e-03, -3.87175282e-01, -6.81636527e-01],\n",
              "       [-1.67566795e-02, -6.85345603e-01, -7.52289816e-01],\n",
              "       [-3.18335441e-02, -8.98764606e-01, -7.55170187e-01],\n",
              "       [ 8.84509652e-02, -8.91265057e-01, -7.55056846e-01],\n",
              "       [ 2.07955589e-01, -9.67416615e-01, -6.28492866e-01],\n",
              "       [ 2.98998758e-01, -1.00226024e+00, -6.12548270e-01],\n",
              "       [ 4.34398373e-01, -1.10048776e+00, -6.50858871e-01],\n",
              "       [ 5.50795631e-01, -1.15649509e+00, -5.51221038e-01],\n",
              "       [ 5.84065658e-01, -1.17569183e+00, -5.24064704e-01],\n",
              "       [ 6.27158079e-01, -1.12697794e+00, -5.64831026e-01],\n",
              "       [ 6.69120413e-01, -9.94409381e-01, -6.74743100e-01],\n",
              "       [ 7.00911933e-01, -1.04653457e+00, -7.86865350e-01],\n",
              "       [ 8.28679759e-01, -6.94475653e-01, -9.38668826e-01],\n",
              "       [ 1.00885840e+00, -6.72456698e-01, -1.05517246e+00],\n",
              "       [ 1.04605459e+00, -6.80580631e-01, -1.08346296e+00],\n",
              "       [ 1.08946686e+00, -7.90360117e-01, -1.08493976e+00],\n",
              "       [ 1.14156618e+00, -6.47242756e-01, -1.03117906e+00],\n",
              "       [ 1.23399528e+00, -3.55179673e-01, -9.51592171e-01],\n",
              "       [ 1.33356512e+00, -4.62008308e-01, -8.82420426e-01],\n",
              "       [ 1.47080448e+00, -3.24289881e-01, -8.40083319e-01],\n",
              "       [ 1.47013727e+00, -5.00671290e-01, -8.24066942e-01],\n",
              "       [ 1.42372314e+00, -5.58534620e-01, -8.10169587e-01],\n",
              "       [ 1.53637151e+00, -3.75077375e-01, -7.68200479e-01],\n",
              "       [ 1.64643542e+00, -1.35955464e-01, -7.07415778e-01],\n",
              "       [ 1.78071857e+00,  1.65422938e-01, -6.56491895e-01],\n",
              "       [ 1.88972947e+00,  5.60177714e-01, -6.29723644e-01]])"
            ]
          },
          "metadata": {},
          "execution_count": 175
        }
      ]
    },
    {
      "cell_type": "code",
      "source": [
        "df1.columns"
      ],
      "metadata": {
        "colab": {
          "base_uri": "https://localhost:8080/"
        },
        "id": "Rg6218FTajjX",
        "outputId": "2832bb9c-0909-4f45-c58b-3fbfa7af8ef2"
      },
      "execution_count": 176,
      "outputs": [
        {
          "output_type": "execute_result",
          "data": {
            "text/plain": [
              "Index(['INFLACAO_d11', 'CAMB_d11', 'IND_d11', 'SELIC_d11'], dtype='object')"
            ]
          },
          "metadata": {},
          "execution_count": 176
        }
      ]
    },
    {
      "cell_type": "code",
      "source": [
        "X = scaled_X"
      ],
      "metadata": {
        "id": "O55AgQQEaBHT"
      },
      "execution_count": 177,
      "outputs": []
    },
    {
      "cell_type": "code",
      "source": [
        "y = df1['IND_d11']"
      ],
      "metadata": {
        "id": "H2_BcuPKaXlk"
      },
      "execution_count": 178,
      "outputs": []
    },
    {
      "cell_type": "code",
      "source": [
        "!pip install scikit-plot"
      ],
      "metadata": {
        "colab": {
          "base_uri": "https://localhost:8080/"
        },
        "id": "KXB1kTqobMCD",
        "outputId": "661d4eea-8c49-43b3-8588-902d8f9a5cc2"
      },
      "execution_count": 68,
      "outputs": [
        {
          "output_type": "stream",
          "name": "stdout",
          "text": [
            "Collecting scikit-plot\n",
            "  Downloading scikit_plot-0.3.7-py3-none-any.whl (33 kB)\n",
            "Requirement already satisfied: scipy>=0.9 in /usr/local/lib/python3.7/dist-packages (from scikit-plot) (1.4.1)\n",
            "Requirement already satisfied: scikit-learn>=0.18 in /usr/local/lib/python3.7/dist-packages (from scikit-plot) (1.0.2)\n",
            "Requirement already satisfied: joblib>=0.10 in /usr/local/lib/python3.7/dist-packages (from scikit-plot) (1.1.0)\n",
            "Requirement already satisfied: matplotlib>=1.4.0 in /usr/local/lib/python3.7/dist-packages (from scikit-plot) (3.2.2)\n",
            "Requirement already satisfied: pyparsing!=2.0.4,!=2.1.2,!=2.1.6,>=2.0.1 in /usr/local/lib/python3.7/dist-packages (from matplotlib>=1.4.0->scikit-plot) (3.0.7)\n",
            "Requirement already satisfied: kiwisolver>=1.0.1 in /usr/local/lib/python3.7/dist-packages (from matplotlib>=1.4.0->scikit-plot) (1.4.0)\n",
            "Requirement already satisfied: numpy>=1.11 in /usr/local/lib/python3.7/dist-packages (from matplotlib>=1.4.0->scikit-plot) (1.21.5)\n",
            "Requirement already satisfied: cycler>=0.10 in /usr/local/lib/python3.7/dist-packages (from matplotlib>=1.4.0->scikit-plot) (0.11.0)\n",
            "Requirement already satisfied: python-dateutil>=2.1 in /usr/local/lib/python3.7/dist-packages (from matplotlib>=1.4.0->scikit-plot) (2.8.2)\n",
            "Requirement already satisfied: typing-extensions in /usr/local/lib/python3.7/dist-packages (from kiwisolver>=1.0.1->matplotlib>=1.4.0->scikit-plot) (3.10.0.2)\n",
            "Requirement already satisfied: six>=1.5 in /usr/local/lib/python3.7/dist-packages (from python-dateutil>=2.1->matplotlib>=1.4.0->scikit-plot) (1.15.0)\n",
            "Requirement already satisfied: threadpoolctl>=2.0.0 in /usr/local/lib/python3.7/dist-packages (from scikit-learn>=0.18->scikit-plot) (3.1.0)\n",
            "Installing collected packages: scikit-plot\n",
            "Successfully installed scikit-plot-0.3.7\n"
          ]
        }
      ]
    },
    {
      "cell_type": "code",
      "source": [
        "from sklearn.model_selection import train_test_split\n",
        "X_train, X_test, y_train, y_test = train_test_split(X, y, test_size=0.3, random_state=100)"
      ],
      "metadata": {
        "id": "4u7QwV9bb6WW"
      },
      "execution_count": 179,
      "outputs": []
    },
    {
      "cell_type": "code",
      "source": [
        "X_train"
      ],
      "metadata": {
        "colab": {
          "base_uri": "https://localhost:8080/"
        },
        "id": "1w3m4LhucQG9",
        "outputId": "44c93515-1cee-4bc4-bd0a-e2379b19c739"
      },
      "execution_count": 180,
      "outputs": [
        {
          "output_type": "execute_result",
          "data": {
            "text/plain": [
              "array([[ 0.82867976, -0.69447565, -0.93866883],\n",
              "       [ 1.0088584 , -0.6724567 , -1.05517246],\n",
              "       [ 0.43439837, -1.10048776, -0.65085887],\n",
              "       [ 1.53637151, -0.37507737, -0.76820048],\n",
              "       [-0.68245262, -0.02638886,  0.32868544],\n",
              "       [-1.14711886,  1.27834343,  0.87997481],\n",
              "       [ 1.64643542, -0.13595546, -0.70741578],\n",
              "       [-0.06915575, -0.74395484, -0.3172411 ],\n",
              "       [ 1.23399528, -0.35517967, -0.95159217],\n",
              "       [-0.60664102, -0.07872004,  0.00550686],\n",
              "       [-0.55080628, -0.32371502, -0.16290347],\n",
              "       [-0.70869039,  0.52178194,  0.94581772],\n",
              "       [-1.84770638,  1.19443611,  2.0329496 ],\n",
              "       [-1.23764642,  2.4241885 ,  2.41346197],\n",
              "       [-0.73678302,  0.90985022,  0.87102771],\n",
              "       [ 0.0394351 , -0.03150148, -0.22257683],\n",
              "       [ 1.08946686, -0.79036012, -1.08493976],\n",
              "       [-0.4477324 , -0.41943045, -0.32092608],\n",
              "       [-0.00715787, -0.38717528, -0.68163653],\n",
              "       [-0.9318651 ,  1.67095424,  0.58540887],\n",
              "       [-0.71839727, -0.12705042,  0.50545728],\n",
              "       [ 0.55079563, -1.15649509, -0.55122104],\n",
              "       [ 1.47013727, -0.50067129, -0.82406694],\n",
              "       [ 1.78071857,  0.16542294, -0.6564919 ],\n",
              "       [ 1.04605459, -0.68058063, -1.08346296],\n",
              "       [-0.75263699,  0.21591996,  0.95707448],\n",
              "       [ 1.14156618, -0.64724276, -1.03117906],\n",
              "       [-1.68930549,  2.33923939,  1.73414903],\n",
              "       [ 0.29899876, -1.00226024, -0.61254827],\n",
              "       [-0.01675668, -0.6853456 , -0.75228982],\n",
              "       [-0.82222378,  1.42198301,  0.56212565],\n",
              "       [ 1.47080448, -0.32428988, -0.84008332],\n",
              "       [-0.73700581, -0.02799643,  0.74196098],\n",
              "       [-0.33340665, -0.60289533, -0.37283527],\n",
              "       [ 0.66912041, -0.99440938, -0.6747431 ],\n",
              "       [-1.38525666,  2.97236821,  2.57843408],\n",
              "       [-0.24082695, -0.68601564, -0.3745231 ],\n",
              "       [-1.08499705,  1.38308291,  0.69761584]])"
            ]
          },
          "metadata": {},
          "execution_count": 180
        }
      ]
    },
    {
      "cell_type": "code",
      "source": [
        "from sklearn.ensemble import RandomForestRegressor"
      ],
      "metadata": {
        "id": "d2EIqwvBdLuC"
      },
      "execution_count": 181,
      "outputs": []
    },
    {
      "cell_type": "code",
      "source": [
        "\n",
        "import scikitplot as skplt\n",
        "from sklearn.metrics import precision_score\n",
        "from sklearn.metrics import recall_score\n",
        "from sklearn.metrics import f1_score\n",
        "from sklearn.metrics import accuracy_score\n",
        "from sklearn.metrics import roc_curve, auc, roc_auc_score\n",
        "\n",
        "from sklearn.decomposition import PCA\n",
        "from sklearn.metrics import classification_report\n",
        "from sklearn.metrics import RocCurveDisplay\n",
        "from sklearn.metrics import PrecisionRecallDisplay\n",
        "from numpy import argmax\n",
        "import numpy as np\n",
        "\n",
        "def build_and_test(X_tr, X_te, y_tr, y_te, class_weight=None, threshold=False):\n",
        "    \n",
        "    # Construindo PCA\n",
        "    pca = PCA(n_components=2)\n",
        "    pca.fit(X_tr.tolist())\n",
        "    X_pca = pca.transform(X_tr.tolist())\n",
        "\n",
        "    plt.scatter(X_pca[:, 0], X_pca[:, 1], c=y_tr, cmap=plt.cm.prism, edgecolor='k', alpha=0.7)\n",
        "    plt.show()\n",
        "    \n",
        "    # Construindo Modelo\n",
        "    if class_weight:\n",
        "        model = RandomForestRegressor(class_weight = class_weight , criterion='squared_error')\n",
        "    else:\n",
        "        model = RandomForestRegressor(criterion='squared_error')\n",
        "    model.fit(X_tr, y_tr)\n",
        "    \n",
        "    # Teste do modelo\n",
        "    y_pred = model.predict(X_te)\n",
        "    print('Resultado da prescisão %s' % precision_score(y_te, y_pred))\n",
        "    print('Resultado do recall %s' % recall_score(y_te, y_pred))\n",
        "    print('Resultado F1 %s' % f1_score(y_te, y_pred))\n",
        "    print('Resultado acurácia %s' % accuracy_score(y_te, y_pred))\n",
        "    \n",
        "    y_score = model.predict_proba(X_te)\n",
        "    fpr0, tpr0, thresholds = roc_curve(y_te, y_score[:, 1])\n",
        "    roc_auc0 = auc(fpr0, tpr0)\n",
        "    cm1 = confusion_matrix(y_test, y_pred)\n",
        "    total1 = sum(sum(cm1))\n",
        "    speci = cm1[0,0]/(cm1[0,0]+cm1[0,1])\n",
        "    sensi = cm1[1,1]/(cm1[1,0]+cm1[1,1])\n",
        "    print('Sensibilidade:  %s' % sensi)\n",
        "    print('Especificação:  %s' % speci)\n",
        "    \n",
        "    # Print\n",
        "    print(clf.score(X_test, y_test))\n",
        "    return roc_auc0,fpr0,tpr0, best_threshold"
      ],
      "metadata": {
        "id": "gYSpl5dYa82s"
      },
      "execution_count": 182,
      "outputs": []
    },
    {
      "cell_type": "code",
      "source": [
        "feature_list = list(df1[['INFLACAO_d11', 'CAMB_d11']])"
      ],
      "metadata": {
        "id": "2ca-W1ZNtlnz"
      },
      "execution_count": 183,
      "outputs": []
    },
    {
      "cell_type": "code",
      "source": [
        "df1.columns"
      ],
      "metadata": {
        "colab": {
          "base_uri": "https://localhost:8080/"
        },
        "id": "GXw5OpsCt92-",
        "outputId": "c4afa17b-67b3-4d1f-ef12-15cdfed49d03"
      },
      "execution_count": 184,
      "outputs": [
        {
          "output_type": "execute_result",
          "data": {
            "text/plain": [
              "Index(['INFLACAO_d11', 'CAMB_d11', 'IND_d11', 'SELIC_d11'], dtype='object')"
            ]
          },
          "metadata": {},
          "execution_count": 184
        }
      ]
    },
    {
      "cell_type": "code",
      "source": [
        "def build_and_test(X_tr, X_te, y_tr, y_te, class_weight=None, threshold=False):\n",
        "      # Construindo PCA\n",
        "    pca = PCA(n_components=2)\n",
        "    pca.fit(X_tr.tolist())\n",
        "    X_pca = pca.transform(X_tr.tolist())\n",
        "\n",
        "    plt.scatter(X_pca[:, 0], X_pca[:, 1], c=y_tr, cmap=plt.cm.prism, edgecolor='k', alpha=0.7)\n",
        "    plt.show()\n",
        "        # Construindo Modelo\n",
        "    if class_weight:\n",
        "        model = RandomForestRegressor(class_weight = class_weight , criterion='squared_error')\n",
        "    else:\n",
        "        model = RandomForestRegressor(criterion='squared_error')\n",
        "    model.fit(X_tr, y_tr)\n",
        "\n",
        "    #Teste do modelo\n",
        "    y_pred = model.predict(X_te)\n",
        "    errors = abs(y_pred - y_test)\n",
        "    MAE = print('Mean Absolute Error:', round(np.mean(errors), 2), 'degrees.') #MAE (Mean Absolute Error)\n",
        "    score = print('Score or Rsquared:', model.score(X_test, y_test)) #R quadrado\n",
        "    mape = 100 * (errors / y_test)\n",
        "    accuracy = 100 - np.mean(mape)\n",
        "    acuracia = print('Accuracy:', round(accuracy, 2), '%.')\n",
        "\n",
        "    return MAE, score, acuracia"
      ],
      "metadata": {
        "id": "TRCiYjaLemjG"
      },
      "execution_count": 185,
      "outputs": []
    },
    {
      "cell_type": "code",
      "source": [
        "#Um PCA para visualização dos dados\n",
        "MAE, score, acuracia  = build_and_test(X_train, X_test, y_train, y_test)"
      ],
      "metadata": {
        "colab": {
          "base_uri": "https://localhost:8080/",
          "height": 320
        },
        "id": "QYZQSrQSbd4I",
        "outputId": "4ebd200a-6c8f-42eb-f08a-9d800a697e2d"
      },
      "execution_count": 186,
      "outputs": [
        {
          "output_type": "display_data",
          "data": {
            "text/plain": [
              "<Figure size 432x288 with 1 Axes>"
            ],
            "image/png": "[encoded data removed]"
          },
          "metadata": {
            "needs_background": "light"
          }
        },
        {
          "output_type": "stream",
          "name": "stdout",
          "text": [
            "Mean Absolute Error: 15.44 degrees.\n",
            "Score or Rsquared: 0.9335441669214267\n",
            "Accuracy: 96.19 %.\n"
          ]
        }
      ]
    },
    {
      "cell_type": "code",
      "source": [
        ""
      ],
      "metadata": {
        "id": "ieU51m6doLsz"
      },
      "execution_count": null,
      "outputs": []
    }
  ]
}